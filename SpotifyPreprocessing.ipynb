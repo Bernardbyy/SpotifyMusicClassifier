{
 "cells": [
  {
   "cell_type": "markdown",
   "metadata": {},
   "source": [
    "Algorithmns Used: \n",
    "1. Extreme Gradient Boosting\n",
    "2. Stacking Classifier\n",
    "3. Gaussian Processes Classifier\n",
    "4. Random Forest"
   ]
  },
  {
   "cell_type": "code",
   "execution_count": 1,
   "metadata": {},
   "outputs": [],
   "source": [
    "#Import libraries\n",
    "import pandas as pd \n",
    "import numpy as np\n",
    "import seaborn as sns\n",
    "import matplotlib.pyplot as plt\n",
    "import plotly.express as px\n",
    "import pickle\n",
    "import re\n",
    "import copy\n",
    "import spotipy\n",
    "from spotipy.oauth2 import SpotifyClientCredentials\n",
    "from sklearn.metrics import plot_roc_curve,roc_auc_score,roc_curve\n",
    "from sklearn.metrics import auc, accuracy_score, confusion_matrix, mean_squared_error\n",
    "from sklearn.metrics import classification_report, accuracy_score\n",
    "from sklearn.model_selection import cross_val_score\n",
    "from sklearn.model_selection import KFold\n",
    "from sklearn.metrics import accuracy_score\n",
    "from xgboost import XGBClassifier\n",
    "from sklearn.model_selection import train_test_split\n",
    "from sklearn.preprocessing import MinMaxScaler\n",
    "from sklearn.preprocessing import StandardScaler\n",
    "from sklearn.preprocessing import LabelEncoder\n",
    "import joblib\n",
    "from sklearn.feature_selection import mutual_info_classif"
   ]
  },
  {
   "cell_type": "markdown",
   "metadata": {},
   "source": [
    "# Metadata"
   ]
  },
  {
   "cell_type": "code",
   "execution_count": 3,
   "metadata": {},
   "outputs": [
    {
     "data": {
      "text/html": [
       "<div>\n",
       "<style scoped>\n",
       "    .dataframe tbody tr th:only-of-type {\n",
       "        vertical-align: middle;\n",
       "    }\n",
       "\n",
       "    .dataframe tbody tr th {\n",
       "        vertical-align: top;\n",
       "    }\n",
       "\n",
       "    .dataframe thead th {\n",
       "        text-align: right;\n",
       "    }\n",
       "</style>\n",
       "<table border=\"1\" class=\"dataframe\">\n",
       "  <thead>\n",
       "    <tr style=\"text-align: right;\">\n",
       "      <th></th>\n",
       "      <th>Unnamed: 0</th>\n",
       "      <th>acousticness</th>\n",
       "      <th>danceability</th>\n",
       "      <th>duration_ms</th>\n",
       "      <th>energy</th>\n",
       "      <th>instrumentalness</th>\n",
       "      <th>key</th>\n",
       "      <th>liveness</th>\n",
       "      <th>loudness</th>\n",
       "      <th>mode</th>\n",
       "      <th>speechiness</th>\n",
       "      <th>tempo</th>\n",
       "      <th>time_signature</th>\n",
       "      <th>valence</th>\n",
       "      <th>target</th>\n",
       "      <th>song_title</th>\n",
       "      <th>artist</th>\n",
       "    </tr>\n",
       "  </thead>\n",
       "  <tbody>\n",
       "    <tr>\n",
       "      <th>0</th>\n",
       "      <td>0</td>\n",
       "      <td>0.01020</td>\n",
       "      <td>0.833</td>\n",
       "      <td>204600</td>\n",
       "      <td>0.434</td>\n",
       "      <td>0.021900</td>\n",
       "      <td>2</td>\n",
       "      <td>0.1650</td>\n",
       "      <td>-8.795</td>\n",
       "      <td>1</td>\n",
       "      <td>0.4310</td>\n",
       "      <td>150.062</td>\n",
       "      <td>4.0</td>\n",
       "      <td>0.286</td>\n",
       "      <td>1</td>\n",
       "      <td>Mask Off</td>\n",
       "      <td>Future</td>\n",
       "    </tr>\n",
       "    <tr>\n",
       "      <th>1</th>\n",
       "      <td>1</td>\n",
       "      <td>0.19900</td>\n",
       "      <td>0.743</td>\n",
       "      <td>326933</td>\n",
       "      <td>0.359</td>\n",
       "      <td>0.006110</td>\n",
       "      <td>1</td>\n",
       "      <td>0.1370</td>\n",
       "      <td>-10.401</td>\n",
       "      <td>1</td>\n",
       "      <td>0.0794</td>\n",
       "      <td>160.083</td>\n",
       "      <td>4.0</td>\n",
       "      <td>0.588</td>\n",
       "      <td>1</td>\n",
       "      <td>Redbone</td>\n",
       "      <td>Childish Gambino</td>\n",
       "    </tr>\n",
       "    <tr>\n",
       "      <th>2</th>\n",
       "      <td>2</td>\n",
       "      <td>0.03440</td>\n",
       "      <td>0.838</td>\n",
       "      <td>185707</td>\n",
       "      <td>0.412</td>\n",
       "      <td>0.000234</td>\n",
       "      <td>2</td>\n",
       "      <td>0.1590</td>\n",
       "      <td>-7.148</td>\n",
       "      <td>1</td>\n",
       "      <td>0.2890</td>\n",
       "      <td>75.044</td>\n",
       "      <td>4.0</td>\n",
       "      <td>0.173</td>\n",
       "      <td>1</td>\n",
       "      <td>Xanny Family</td>\n",
       "      <td>Future</td>\n",
       "    </tr>\n",
       "    <tr>\n",
       "      <th>3</th>\n",
       "      <td>3</td>\n",
       "      <td>0.60400</td>\n",
       "      <td>0.494</td>\n",
       "      <td>199413</td>\n",
       "      <td>0.338</td>\n",
       "      <td>0.510000</td>\n",
       "      <td>5</td>\n",
       "      <td>0.0922</td>\n",
       "      <td>-15.236</td>\n",
       "      <td>1</td>\n",
       "      <td>0.0261</td>\n",
       "      <td>86.468</td>\n",
       "      <td>4.0</td>\n",
       "      <td>0.230</td>\n",
       "      <td>1</td>\n",
       "      <td>Master Of None</td>\n",
       "      <td>Beach House</td>\n",
       "    </tr>\n",
       "    <tr>\n",
       "      <th>4</th>\n",
       "      <td>4</td>\n",
       "      <td>0.18000</td>\n",
       "      <td>0.678</td>\n",
       "      <td>392893</td>\n",
       "      <td>0.561</td>\n",
       "      <td>0.512000</td>\n",
       "      <td>5</td>\n",
       "      <td>0.4390</td>\n",
       "      <td>-11.648</td>\n",
       "      <td>0</td>\n",
       "      <td>0.0694</td>\n",
       "      <td>174.004</td>\n",
       "      <td>4.0</td>\n",
       "      <td>0.904</td>\n",
       "      <td>1</td>\n",
       "      <td>Parallel Lines</td>\n",
       "      <td>Junior Boys</td>\n",
       "    </tr>\n",
       "    <tr>\n",
       "      <th>...</th>\n",
       "      <td>...</td>\n",
       "      <td>...</td>\n",
       "      <td>...</td>\n",
       "      <td>...</td>\n",
       "      <td>...</td>\n",
       "      <td>...</td>\n",
       "      <td>...</td>\n",
       "      <td>...</td>\n",
       "      <td>...</td>\n",
       "      <td>...</td>\n",
       "      <td>...</td>\n",
       "      <td>...</td>\n",
       "      <td>...</td>\n",
       "      <td>...</td>\n",
       "      <td>...</td>\n",
       "      <td>...</td>\n",
       "      <td>...</td>\n",
       "    </tr>\n",
       "    <tr>\n",
       "      <th>2012</th>\n",
       "      <td>2012</td>\n",
       "      <td>0.00106</td>\n",
       "      <td>0.584</td>\n",
       "      <td>274404</td>\n",
       "      <td>0.932</td>\n",
       "      <td>0.002690</td>\n",
       "      <td>1</td>\n",
       "      <td>0.1290</td>\n",
       "      <td>-3.501</td>\n",
       "      <td>1</td>\n",
       "      <td>0.3330</td>\n",
       "      <td>74.976</td>\n",
       "      <td>4.0</td>\n",
       "      <td>0.211</td>\n",
       "      <td>0</td>\n",
       "      <td>Like A Bitch - Kill The Noise Remix</td>\n",
       "      <td>Kill The Noise</td>\n",
       "    </tr>\n",
       "    <tr>\n",
       "      <th>2013</th>\n",
       "      <td>2013</td>\n",
       "      <td>0.08770</td>\n",
       "      <td>0.894</td>\n",
       "      <td>182182</td>\n",
       "      <td>0.892</td>\n",
       "      <td>0.001670</td>\n",
       "      <td>1</td>\n",
       "      <td>0.0528</td>\n",
       "      <td>-2.663</td>\n",
       "      <td>1</td>\n",
       "      <td>0.1310</td>\n",
       "      <td>110.041</td>\n",
       "      <td>4.0</td>\n",
       "      <td>0.867</td>\n",
       "      <td>0</td>\n",
       "      <td>Candy</td>\n",
       "      <td>Dillon Francis</td>\n",
       "    </tr>\n",
       "    <tr>\n",
       "      <th>2014</th>\n",
       "      <td>2014</td>\n",
       "      <td>0.00857</td>\n",
       "      <td>0.637</td>\n",
       "      <td>207200</td>\n",
       "      <td>0.935</td>\n",
       "      <td>0.003990</td>\n",
       "      <td>0</td>\n",
       "      <td>0.2140</td>\n",
       "      <td>-2.467</td>\n",
       "      <td>1</td>\n",
       "      <td>0.1070</td>\n",
       "      <td>150.082</td>\n",
       "      <td>4.0</td>\n",
       "      <td>0.470</td>\n",
       "      <td>0</td>\n",
       "      <td>Habit - Dack Janiels &amp; Wenzday Remix</td>\n",
       "      <td>Rain Man</td>\n",
       "    </tr>\n",
       "    <tr>\n",
       "      <th>2015</th>\n",
       "      <td>2015</td>\n",
       "      <td>0.00164</td>\n",
       "      <td>0.557</td>\n",
       "      <td>185600</td>\n",
       "      <td>0.992</td>\n",
       "      <td>0.677000</td>\n",
       "      <td>1</td>\n",
       "      <td>0.0913</td>\n",
       "      <td>-2.735</td>\n",
       "      <td>1</td>\n",
       "      <td>0.1330</td>\n",
       "      <td>150.011</td>\n",
       "      <td>4.0</td>\n",
       "      <td>0.623</td>\n",
       "      <td>0</td>\n",
       "      <td>First Contact</td>\n",
       "      <td>Twin Moons</td>\n",
       "    </tr>\n",
       "    <tr>\n",
       "      <th>2016</th>\n",
       "      <td>2016</td>\n",
       "      <td>0.00281</td>\n",
       "      <td>0.446</td>\n",
       "      <td>204520</td>\n",
       "      <td>0.915</td>\n",
       "      <td>0.000039</td>\n",
       "      <td>9</td>\n",
       "      <td>0.2180</td>\n",
       "      <td>-6.221</td>\n",
       "      <td>1</td>\n",
       "      <td>0.1410</td>\n",
       "      <td>190.013</td>\n",
       "      <td>4.0</td>\n",
       "      <td>0.402</td>\n",
       "      <td>0</td>\n",
       "      <td>I Wanna Get Better</td>\n",
       "      <td>Bleachers</td>\n",
       "    </tr>\n",
       "  </tbody>\n",
       "</table>\n",
       "<p>2017 rows × 17 columns</p>\n",
       "</div>"
      ],
      "text/plain": [
       "      Unnamed: 0  acousticness  danceability  duration_ms  energy  \\\n",
       "0              0       0.01020         0.833       204600   0.434   \n",
       "1              1       0.19900         0.743       326933   0.359   \n",
       "2              2       0.03440         0.838       185707   0.412   \n",
       "3              3       0.60400         0.494       199413   0.338   \n",
       "4              4       0.18000         0.678       392893   0.561   \n",
       "...          ...           ...           ...          ...     ...   \n",
       "2012        2012       0.00106         0.584       274404   0.932   \n",
       "2013        2013       0.08770         0.894       182182   0.892   \n",
       "2014        2014       0.00857         0.637       207200   0.935   \n",
       "2015        2015       0.00164         0.557       185600   0.992   \n",
       "2016        2016       0.00281         0.446       204520   0.915   \n",
       "\n",
       "      instrumentalness  key  liveness  loudness  mode  speechiness    tempo  \\\n",
       "0             0.021900    2    0.1650    -8.795     1       0.4310  150.062   \n",
       "1             0.006110    1    0.1370   -10.401     1       0.0794  160.083   \n",
       "2             0.000234    2    0.1590    -7.148     1       0.2890   75.044   \n",
       "3             0.510000    5    0.0922   -15.236     1       0.0261   86.468   \n",
       "4             0.512000    5    0.4390   -11.648     0       0.0694  174.004   \n",
       "...                ...  ...       ...       ...   ...          ...      ...   \n",
       "2012          0.002690    1    0.1290    -3.501     1       0.3330   74.976   \n",
       "2013          0.001670    1    0.0528    -2.663     1       0.1310  110.041   \n",
       "2014          0.003990    0    0.2140    -2.467     1       0.1070  150.082   \n",
       "2015          0.677000    1    0.0913    -2.735     1       0.1330  150.011   \n",
       "2016          0.000039    9    0.2180    -6.221     1       0.1410  190.013   \n",
       "\n",
       "      time_signature  valence  target                            song_title  \\\n",
       "0                4.0    0.286       1                              Mask Off   \n",
       "1                4.0    0.588       1                               Redbone   \n",
       "2                4.0    0.173       1                          Xanny Family   \n",
       "3                4.0    0.230       1                        Master Of None   \n",
       "4                4.0    0.904       1                        Parallel Lines   \n",
       "...              ...      ...     ...                                   ...   \n",
       "2012             4.0    0.211       0   Like A Bitch - Kill The Noise Remix   \n",
       "2013             4.0    0.867       0                                 Candy   \n",
       "2014             4.0    0.470       0  Habit - Dack Janiels & Wenzday Remix   \n",
       "2015             4.0    0.623       0                         First Contact   \n",
       "2016             4.0    0.402       0                    I Wanna Get Better   \n",
       "\n",
       "                artist  \n",
       "0               Future  \n",
       "1     Childish Gambino  \n",
       "2               Future  \n",
       "3          Beach House  \n",
       "4          Junior Boys  \n",
       "...                ...  \n",
       "2012    Kill The Noise  \n",
       "2013    Dillon Francis  \n",
       "2014          Rain Man  \n",
       "2015        Twin Moons  \n",
       "2016         Bleachers  \n",
       "\n",
       "[2017 rows x 17 columns]"
      ]
     },
     "execution_count": 3,
     "metadata": {},
     "output_type": "execute_result"
    }
   ],
   "source": [
    "#Import csv file\n",
    "df = pd.read_csv('SpotifyDataset.csv')\n",
    "df"
   ]
  },
  {
   "cell_type": "code",
   "execution_count": 4,
   "metadata": {},
   "outputs": [],
   "source": [
    "# Get known labels\n",
    "known_song_titles = set(df['song_title'].unique())\n",
    "known_artists = set(df['artist'].unique())\n",
    "\n",
    "with open(\"known_song_titles.pkl\", \"wb\") as f:\n",
    "    pickle.dump(known_song_titles, f)\n",
    "\n",
    "with open(\"known_artists.pkl\", \"wb\") as f:\n",
    "    pickle.dump(known_artists, f)"
   ]
  },
  {
   "cell_type": "code",
   "execution_count": 185,
   "metadata": {},
   "outputs": [
    {
     "data": {
      "text/html": [
       "<div>\n",
       "<style scoped>\n",
       "    .dataframe tbody tr th:only-of-type {\n",
       "        vertical-align: middle;\n",
       "    }\n",
       "\n",
       "    .dataframe tbody tr th {\n",
       "        vertical-align: top;\n",
       "    }\n",
       "\n",
       "    .dataframe thead th {\n",
       "        text-align: right;\n",
       "    }\n",
       "</style>\n",
       "<table border=\"1\" class=\"dataframe\">\n",
       "  <thead>\n",
       "    <tr style=\"text-align: right;\">\n",
       "      <th></th>\n",
       "      <th>acousticness</th>\n",
       "      <th>danceability</th>\n",
       "      <th>duration_ms</th>\n",
       "      <th>energy</th>\n",
       "      <th>instrumentalness</th>\n",
       "      <th>key</th>\n",
       "      <th>liveness</th>\n",
       "      <th>loudness</th>\n",
       "      <th>mode</th>\n",
       "      <th>speechiness</th>\n",
       "      <th>tempo</th>\n",
       "      <th>time_signature</th>\n",
       "      <th>valence</th>\n",
       "      <th>target</th>\n",
       "      <th>song_title</th>\n",
       "      <th>artist</th>\n",
       "    </tr>\n",
       "  </thead>\n",
       "  <tbody>\n",
       "    <tr>\n",
       "      <th>0</th>\n",
       "      <td>0.0102</td>\n",
       "      <td>0.833</td>\n",
       "      <td>204600</td>\n",
       "      <td>0.434</td>\n",
       "      <td>0.021900</td>\n",
       "      <td>2</td>\n",
       "      <td>0.1650</td>\n",
       "      <td>-8.795</td>\n",
       "      <td>1</td>\n",
       "      <td>0.4310</td>\n",
       "      <td>150.062</td>\n",
       "      <td>4.0</td>\n",
       "      <td>0.286</td>\n",
       "      <td>1</td>\n",
       "      <td>Mask Off</td>\n",
       "      <td>Future</td>\n",
       "    </tr>\n",
       "    <tr>\n",
       "      <th>1</th>\n",
       "      <td>0.1990</td>\n",
       "      <td>0.743</td>\n",
       "      <td>326933</td>\n",
       "      <td>0.359</td>\n",
       "      <td>0.006110</td>\n",
       "      <td>1</td>\n",
       "      <td>0.1370</td>\n",
       "      <td>-10.401</td>\n",
       "      <td>1</td>\n",
       "      <td>0.0794</td>\n",
       "      <td>160.083</td>\n",
       "      <td>4.0</td>\n",
       "      <td>0.588</td>\n",
       "      <td>1</td>\n",
       "      <td>Redbone</td>\n",
       "      <td>Childish Gambino</td>\n",
       "    </tr>\n",
       "    <tr>\n",
       "      <th>2</th>\n",
       "      <td>0.0344</td>\n",
       "      <td>0.838</td>\n",
       "      <td>185707</td>\n",
       "      <td>0.412</td>\n",
       "      <td>0.000234</td>\n",
       "      <td>2</td>\n",
       "      <td>0.1590</td>\n",
       "      <td>-7.148</td>\n",
       "      <td>1</td>\n",
       "      <td>0.2890</td>\n",
       "      <td>75.044</td>\n",
       "      <td>4.0</td>\n",
       "      <td>0.173</td>\n",
       "      <td>1</td>\n",
       "      <td>Xanny Family</td>\n",
       "      <td>Future</td>\n",
       "    </tr>\n",
       "    <tr>\n",
       "      <th>3</th>\n",
       "      <td>0.6040</td>\n",
       "      <td>0.494</td>\n",
       "      <td>199413</td>\n",
       "      <td>0.338</td>\n",
       "      <td>0.510000</td>\n",
       "      <td>5</td>\n",
       "      <td>0.0922</td>\n",
       "      <td>-15.236</td>\n",
       "      <td>1</td>\n",
       "      <td>0.0261</td>\n",
       "      <td>86.468</td>\n",
       "      <td>4.0</td>\n",
       "      <td>0.230</td>\n",
       "      <td>1</td>\n",
       "      <td>Master Of None</td>\n",
       "      <td>Beach House</td>\n",
       "    </tr>\n",
       "    <tr>\n",
       "      <th>4</th>\n",
       "      <td>0.1800</td>\n",
       "      <td>0.678</td>\n",
       "      <td>392893</td>\n",
       "      <td>0.561</td>\n",
       "      <td>0.512000</td>\n",
       "      <td>5</td>\n",
       "      <td>0.4390</td>\n",
       "      <td>-11.648</td>\n",
       "      <td>0</td>\n",
       "      <td>0.0694</td>\n",
       "      <td>174.004</td>\n",
       "      <td>4.0</td>\n",
       "      <td>0.904</td>\n",
       "      <td>1</td>\n",
       "      <td>Parallel Lines</td>\n",
       "      <td>Junior Boys</td>\n",
       "    </tr>\n",
       "  </tbody>\n",
       "</table>\n",
       "</div>"
      ],
      "text/plain": [
       "   acousticness  danceability  duration_ms  energy  instrumentalness  key  \\\n",
       "0        0.0102         0.833       204600   0.434          0.021900    2   \n",
       "1        0.1990         0.743       326933   0.359          0.006110    1   \n",
       "2        0.0344         0.838       185707   0.412          0.000234    2   \n",
       "3        0.6040         0.494       199413   0.338          0.510000    5   \n",
       "4        0.1800         0.678       392893   0.561          0.512000    5   \n",
       "\n",
       "   liveness  loudness  mode  speechiness    tempo  time_signature  valence  \\\n",
       "0    0.1650    -8.795     1       0.4310  150.062             4.0    0.286   \n",
       "1    0.1370   -10.401     1       0.0794  160.083             4.0    0.588   \n",
       "2    0.1590    -7.148     1       0.2890   75.044             4.0    0.173   \n",
       "3    0.0922   -15.236     1       0.0261   86.468             4.0    0.230   \n",
       "4    0.4390   -11.648     0       0.0694  174.004             4.0    0.904   \n",
       "\n",
       "   target      song_title            artist  \n",
       "0       1        Mask Off            Future  \n",
       "1       1         Redbone  Childish Gambino  \n",
       "2       1    Xanny Family            Future  \n",
       "3       1  Master Of None       Beach House  \n",
       "4       1  Parallel Lines       Junior Boys  "
      ]
     },
     "execution_count": 185,
     "metadata": {},
     "output_type": "execute_result"
    }
   ],
   "source": [
    "#Drop first column\n",
    "df.drop(df.columns[0], axis=1, inplace=True)\n",
    "df.head()"
   ]
  },
  {
   "cell_type": "code",
   "execution_count": 186,
   "metadata": {},
   "outputs": [
    {
     "name": "stdout",
     "output_type": "stream",
     "text": [
      "Number of attributes:  16\n",
      "Number of observations:  2017\n",
      "\n",
      "\n",
      "<class 'pandas.core.frame.DataFrame'>\n",
      "RangeIndex: 2017 entries, 0 to 2016\n",
      "Data columns (total 16 columns):\n",
      " #   Column            Non-Null Count  Dtype  \n",
      "---  ------            --------------  -----  \n",
      " 0   acousticness      2017 non-null   float64\n",
      " 1   danceability      2017 non-null   float64\n",
      " 2   duration_ms       2017 non-null   int64  \n",
      " 3   energy            2017 non-null   float64\n",
      " 4   instrumentalness  2017 non-null   float64\n",
      " 5   key               2017 non-null   int64  \n",
      " 6   liveness          2017 non-null   float64\n",
      " 7   loudness          2017 non-null   float64\n",
      " 8   mode              2017 non-null   int64  \n",
      " 9   speechiness       2017 non-null   float64\n",
      " 10  tempo             2017 non-null   float64\n",
      " 11  time_signature    2017 non-null   float64\n",
      " 12  valence           2017 non-null   float64\n",
      " 13  target            2017 non-null   int64  \n",
      " 14  song_title        2017 non-null   object \n",
      " 15  artist            2017 non-null   object \n",
      "dtypes: float64(10), int64(4), object(2)\n",
      "memory usage: 252.2+ KB\n",
      "Information about attributes:  None\n"
     ]
    }
   ],
   "source": [
    "\n",
    "#Number of Attributes\n",
    "print(\"Number of attributes: \", len(df.columns))\n",
    "#Number of Observations\n",
    "print(\"Number of observations: \", len(df))\n",
    "print(\"\\n\")\n",
    "#Information about attributes\n",
    "print(\"Information about attributes: \", df.info())"
   ]
  },
  {
   "cell_type": "markdown",
   "metadata": {},
   "source": [
    "As shown above, there are 15 attributes in this dataset. The definition of the 13 attributes except song title and artist will be listed below."
   ]
  },
  {
   "cell_type": "markdown",
   "metadata": {},
   "source": [
    "| Attributes | Description | \n",
    "| --- | --- | \n",
    "| **duration_ms** | The duration of the track in milliseconds. |\n",
    "| **key** | The musical key of a track, represented as an integer from 0 to 11, where 0 corresponds to C, 1 corresponds to C#/Db, 2 corresponds to D, and so on.|\n",
    "| **mode** | The mode of a track, which indicates whether it is in a major or minor key. A value of 0 indicates a minor key and a value of 1 indicates a major key.|\n",
    "| **tempo** | The tempo of a track in beats per minute (BPM). |\n",
    "| **time_signature** | The time signature of a track, represented as an integer indicating the number of beats per measure.|\n",
    "| **valence** | A measure of the positive or negative mood of a track, ranging from 0 (least positive) to 1 (most positive).|\n",
    "| **danceability** |  A measure of how suitable a track is for dancing, based on its tempo, rhythm stability, and beat strength.|\n",
    "| **energy** | A measure of the intensity and activity of a track, ranging from 0 (least energetic) to 1 (most energetic). |\n",
    "| **speechiness** | A measure of the presence of spoken word in a track, ranging from 0 (least spoken word) to 1 (most spoken word). |\n",
    "| **acousticness** |  A measure of the presence of acoustic instruments in a track, ranging from 0 (least acoustic) to 1 (most acoustic).|\n",
    "| **liveness** | A measure of the presence of a live audience in a track, ranging from 0 (least live) to 1 (most live). |\n",
    "| **loudness**| A measure of the perceived loudness of a track, in decibels (dB). |\n",
    "| **instrumentalness**| A measure of the presence of vocals in a track, with a value ranging from 0 (least instrumental) to 1 (most instrumental). |"
   ]
  },
  {
   "cell_type": "markdown",
   "metadata": {},
   "source": [
    "# Data Visualization"
   ]
  },
  {
   "cell_type": "markdown",
   "metadata": {},
   "source": [
    "## Balance / Unbalanced data?"
   ]
  },
  {
   "cell_type": "code",
   "execution_count": 187,
   "metadata": {},
   "outputs": [
    {
     "data": {
      "application/vnd.plotly.v1+json": {
       "config": {
        "plotlyServerURL": "https://plot.ly"
       },
       "data": [
        {
         "domain": {
          "x": [
           0,
           1
          ],
          "y": [
           0,
           1
          ]
         },
         "hovertemplate": "label=%{label}<br>value=%{value}<extra></extra>",
         "labels": [
          "Liked Songs",
          "Disliked Songs"
         ],
         "legendgroup": "",
         "name": "",
         "showlegend": true,
         "type": "pie",
         "values": [
          1020,
          997
         ]
        }
       ],
       "layout": {
        "legend": {
         "tracegroupgap": 0
        },
        "piecolorway": [
         "maroon",
         "navy"
        ],
        "template": {
         "data": {
          "bar": [
           {
            "error_x": {
             "color": "#2a3f5f"
            },
            "error_y": {
             "color": "#2a3f5f"
            },
            "marker": {
             "line": {
              "color": "#E5ECF6",
              "width": 0.5
             },
             "pattern": {
              "fillmode": "overlay",
              "size": 10,
              "solidity": 0.2
             }
            },
            "type": "bar"
           }
          ],
          "barpolar": [
           {
            "marker": {
             "line": {
              "color": "#E5ECF6",
              "width": 0.5
             },
             "pattern": {
              "fillmode": "overlay",
              "size": 10,
              "solidity": 0.2
             }
            },
            "type": "barpolar"
           }
          ],
          "carpet": [
           {
            "aaxis": {
             "endlinecolor": "#2a3f5f",
             "gridcolor": "white",
             "linecolor": "white",
             "minorgridcolor": "white",
             "startlinecolor": "#2a3f5f"
            },
            "baxis": {
             "endlinecolor": "#2a3f5f",
             "gridcolor": "white",
             "linecolor": "white",
             "minorgridcolor": "white",
             "startlinecolor": "#2a3f5f"
            },
            "type": "carpet"
           }
          ],
          "choropleth": [
           {
            "colorbar": {
             "outlinewidth": 0,
             "ticks": ""
            },
            "type": "choropleth"
           }
          ],
          "contour": [
           {
            "colorbar": {
             "outlinewidth": 0,
             "ticks": ""
            },
            "colorscale": [
             [
              0,
              "#0d0887"
             ],
             [
              0.1111111111111111,
              "#46039f"
             ],
             [
              0.2222222222222222,
              "#7201a8"
             ],
             [
              0.3333333333333333,
              "#9c179e"
             ],
             [
              0.4444444444444444,
              "#bd3786"
             ],
             [
              0.5555555555555556,
              "#d8576b"
             ],
             [
              0.6666666666666666,
              "#ed7953"
             ],
             [
              0.7777777777777778,
              "#fb9f3a"
             ],
             [
              0.8888888888888888,
              "#fdca26"
             ],
             [
              1,
              "#f0f921"
             ]
            ],
            "type": "contour"
           }
          ],
          "contourcarpet": [
           {
            "colorbar": {
             "outlinewidth": 0,
             "ticks": ""
            },
            "type": "contourcarpet"
           }
          ],
          "heatmap": [
           {
            "colorbar": {
             "outlinewidth": 0,
             "ticks": ""
            },
            "colorscale": [
             [
              0,
              "#0d0887"
             ],
             [
              0.1111111111111111,
              "#46039f"
             ],
             [
              0.2222222222222222,
              "#7201a8"
             ],
             [
              0.3333333333333333,
              "#9c179e"
             ],
             [
              0.4444444444444444,
              "#bd3786"
             ],
             [
              0.5555555555555556,
              "#d8576b"
             ],
             [
              0.6666666666666666,
              "#ed7953"
             ],
             [
              0.7777777777777778,
              "#fb9f3a"
             ],
             [
              0.8888888888888888,
              "#fdca26"
             ],
             [
              1,
              "#f0f921"
             ]
            ],
            "type": "heatmap"
           }
          ],
          "heatmapgl": [
           {
            "colorbar": {
             "outlinewidth": 0,
             "ticks": ""
            },
            "colorscale": [
             [
              0,
              "#0d0887"
             ],
             [
              0.1111111111111111,
              "#46039f"
             ],
             [
              0.2222222222222222,
              "#7201a8"
             ],
             [
              0.3333333333333333,
              "#9c179e"
             ],
             [
              0.4444444444444444,
              "#bd3786"
             ],
             [
              0.5555555555555556,
              "#d8576b"
             ],
             [
              0.6666666666666666,
              "#ed7953"
             ],
             [
              0.7777777777777778,
              "#fb9f3a"
             ],
             [
              0.8888888888888888,
              "#fdca26"
             ],
             [
              1,
              "#f0f921"
             ]
            ],
            "type": "heatmapgl"
           }
          ],
          "histogram": [
           {
            "marker": {
             "pattern": {
              "fillmode": "overlay",
              "size": 10,
              "solidity": 0.2
             }
            },
            "type": "histogram"
           }
          ],
          "histogram2d": [
           {
            "colorbar": {
             "outlinewidth": 0,
             "ticks": ""
            },
            "colorscale": [
             [
              0,
              "#0d0887"
             ],
             [
              0.1111111111111111,
              "#46039f"
             ],
             [
              0.2222222222222222,
              "#7201a8"
             ],
             [
              0.3333333333333333,
              "#9c179e"
             ],
             [
              0.4444444444444444,
              "#bd3786"
             ],
             [
              0.5555555555555556,
              "#d8576b"
             ],
             [
              0.6666666666666666,
              "#ed7953"
             ],
             [
              0.7777777777777778,
              "#fb9f3a"
             ],
             [
              0.8888888888888888,
              "#fdca26"
             ],
             [
              1,
              "#f0f921"
             ]
            ],
            "type": "histogram2d"
           }
          ],
          "histogram2dcontour": [
           {
            "colorbar": {
             "outlinewidth": 0,
             "ticks": ""
            },
            "colorscale": [
             [
              0,
              "#0d0887"
             ],
             [
              0.1111111111111111,
              "#46039f"
             ],
             [
              0.2222222222222222,
              "#7201a8"
             ],
             [
              0.3333333333333333,
              "#9c179e"
             ],
             [
              0.4444444444444444,
              "#bd3786"
             ],
             [
              0.5555555555555556,
              "#d8576b"
             ],
             [
              0.6666666666666666,
              "#ed7953"
             ],
             [
              0.7777777777777778,
              "#fb9f3a"
             ],
             [
              0.8888888888888888,
              "#fdca26"
             ],
             [
              1,
              "#f0f921"
             ]
            ],
            "type": "histogram2dcontour"
           }
          ],
          "mesh3d": [
           {
            "colorbar": {
             "outlinewidth": 0,
             "ticks": ""
            },
            "type": "mesh3d"
           }
          ],
          "parcoords": [
           {
            "line": {
             "colorbar": {
              "outlinewidth": 0,
              "ticks": ""
             }
            },
            "type": "parcoords"
           }
          ],
          "pie": [
           {
            "automargin": true,
            "type": "pie"
           }
          ],
          "scatter": [
           {
            "fillpattern": {
             "fillmode": "overlay",
             "size": 10,
             "solidity": 0.2
            },
            "type": "scatter"
           }
          ],
          "scatter3d": [
           {
            "line": {
             "colorbar": {
              "outlinewidth": 0,
              "ticks": ""
             }
            },
            "marker": {
             "colorbar": {
              "outlinewidth": 0,
              "ticks": ""
             }
            },
            "type": "scatter3d"
           }
          ],
          "scattercarpet": [
           {
            "marker": {
             "colorbar": {
              "outlinewidth": 0,
              "ticks": ""
             }
            },
            "type": "scattercarpet"
           }
          ],
          "scattergeo": [
           {
            "marker": {
             "colorbar": {
              "outlinewidth": 0,
              "ticks": ""
             }
            },
            "type": "scattergeo"
           }
          ],
          "scattergl": [
           {
            "marker": {
             "colorbar": {
              "outlinewidth": 0,
              "ticks": ""
             }
            },
            "type": "scattergl"
           }
          ],
          "scattermapbox": [
           {
            "marker": {
             "colorbar": {
              "outlinewidth": 0,
              "ticks": ""
             }
            },
            "type": "scattermapbox"
           }
          ],
          "scatterpolar": [
           {
            "marker": {
             "colorbar": {
              "outlinewidth": 0,
              "ticks": ""
             }
            },
            "type": "scatterpolar"
           }
          ],
          "scatterpolargl": [
           {
            "marker": {
             "colorbar": {
              "outlinewidth": 0,
              "ticks": ""
             }
            },
            "type": "scatterpolargl"
           }
          ],
          "scatterternary": [
           {
            "marker": {
             "colorbar": {
              "outlinewidth": 0,
              "ticks": ""
             }
            },
            "type": "scatterternary"
           }
          ],
          "surface": [
           {
            "colorbar": {
             "outlinewidth": 0,
             "ticks": ""
            },
            "colorscale": [
             [
              0,
              "#0d0887"
             ],
             [
              0.1111111111111111,
              "#46039f"
             ],
             [
              0.2222222222222222,
              "#7201a8"
             ],
             [
              0.3333333333333333,
              "#9c179e"
             ],
             [
              0.4444444444444444,
              "#bd3786"
             ],
             [
              0.5555555555555556,
              "#d8576b"
             ],
             [
              0.6666666666666666,
              "#ed7953"
             ],
             [
              0.7777777777777778,
              "#fb9f3a"
             ],
             [
              0.8888888888888888,
              "#fdca26"
             ],
             [
              1,
              "#f0f921"
             ]
            ],
            "type": "surface"
           }
          ],
          "table": [
           {
            "cells": {
             "fill": {
              "color": "#EBF0F8"
             },
             "line": {
              "color": "white"
             }
            },
            "header": {
             "fill": {
              "color": "#C8D4E3"
             },
             "line": {
              "color": "white"
             }
            },
            "type": "table"
           }
          ]
         },
         "layout": {
          "annotationdefaults": {
           "arrowcolor": "#2a3f5f",
           "arrowhead": 0,
           "arrowwidth": 1
          },
          "autotypenumbers": "strict",
          "coloraxis": {
           "colorbar": {
            "outlinewidth": 0,
            "ticks": ""
           }
          },
          "colorscale": {
           "diverging": [
            [
             0,
             "#8e0152"
            ],
            [
             0.1,
             "#c51b7d"
            ],
            [
             0.2,
             "#de77ae"
            ],
            [
             0.3,
             "#f1b6da"
            ],
            [
             0.4,
             "#fde0ef"
            ],
            [
             0.5,
             "#f7f7f7"
            ],
            [
             0.6,
             "#e6f5d0"
            ],
            [
             0.7,
             "#b8e186"
            ],
            [
             0.8,
             "#7fbc41"
            ],
            [
             0.9,
             "#4d9221"
            ],
            [
             1,
             "#276419"
            ]
           ],
           "sequential": [
            [
             0,
             "#0d0887"
            ],
            [
             0.1111111111111111,
             "#46039f"
            ],
            [
             0.2222222222222222,
             "#7201a8"
            ],
            [
             0.3333333333333333,
             "#9c179e"
            ],
            [
             0.4444444444444444,
             "#bd3786"
            ],
            [
             0.5555555555555556,
             "#d8576b"
            ],
            [
             0.6666666666666666,
             "#ed7953"
            ],
            [
             0.7777777777777778,
             "#fb9f3a"
            ],
            [
             0.8888888888888888,
             "#fdca26"
            ],
            [
             1,
             "#f0f921"
            ]
           ],
           "sequentialminus": [
            [
             0,
             "#0d0887"
            ],
            [
             0.1111111111111111,
             "#46039f"
            ],
            [
             0.2222222222222222,
             "#7201a8"
            ],
            [
             0.3333333333333333,
             "#9c179e"
            ],
            [
             0.4444444444444444,
             "#bd3786"
            ],
            [
             0.5555555555555556,
             "#d8576b"
            ],
            [
             0.6666666666666666,
             "#ed7953"
            ],
            [
             0.7777777777777778,
             "#fb9f3a"
            ],
            [
             0.8888888888888888,
             "#fdca26"
            ],
            [
             1,
             "#f0f921"
            ]
           ]
          },
          "colorway": [
           "#636efa",
           "#EF553B",
           "#00cc96",
           "#ab63fa",
           "#FFA15A",
           "#19d3f3",
           "#FF6692",
           "#B6E880",
           "#FF97FF",
           "#FECB52"
          ],
          "font": {
           "color": "#2a3f5f"
          },
          "geo": {
           "bgcolor": "white",
           "lakecolor": "white",
           "landcolor": "#E5ECF6",
           "showlakes": true,
           "showland": true,
           "subunitcolor": "white"
          },
          "hoverlabel": {
           "align": "left"
          },
          "hovermode": "closest",
          "mapbox": {
           "style": "light"
          },
          "paper_bgcolor": "white",
          "plot_bgcolor": "#E5ECF6",
          "polar": {
           "angularaxis": {
            "gridcolor": "white",
            "linecolor": "white",
            "ticks": ""
           },
           "bgcolor": "#E5ECF6",
           "radialaxis": {
            "gridcolor": "white",
            "linecolor": "white",
            "ticks": ""
           }
          },
          "scene": {
           "xaxis": {
            "backgroundcolor": "#E5ECF6",
            "gridcolor": "white",
            "gridwidth": 2,
            "linecolor": "white",
            "showbackground": true,
            "ticks": "",
            "zerolinecolor": "white"
           },
           "yaxis": {
            "backgroundcolor": "#E5ECF6",
            "gridcolor": "white",
            "gridwidth": 2,
            "linecolor": "white",
            "showbackground": true,
            "ticks": "",
            "zerolinecolor": "white"
           },
           "zaxis": {
            "backgroundcolor": "#E5ECF6",
            "gridcolor": "white",
            "gridwidth": 2,
            "linecolor": "white",
            "showbackground": true,
            "ticks": "",
            "zerolinecolor": "white"
           }
          },
          "shapedefaults": {
           "line": {
            "color": "#2a3f5f"
           }
          },
          "ternary": {
           "aaxis": {
            "gridcolor": "white",
            "linecolor": "white",
            "ticks": ""
           },
           "baxis": {
            "gridcolor": "white",
            "linecolor": "white",
            "ticks": ""
           },
           "bgcolor": "#E5ECF6",
           "caxis": {
            "gridcolor": "white",
            "linecolor": "white",
            "ticks": ""
           }
          },
          "title": {
           "x": 0.05
          },
          "xaxis": {
           "automargin": true,
           "gridcolor": "white",
           "linecolor": "white",
           "ticks": "",
           "title": {
            "standoff": 15
           },
           "zerolinecolor": "white",
           "zerolinewidth": 2
          },
          "yaxis": {
           "automargin": true,
           "gridcolor": "white",
           "linecolor": "white",
           "ticks": "",
           "title": {
            "standoff": 15
           },
           "zerolinecolor": "white",
           "zerolinewidth": 2
          }
         }
        },
        "title": {
         "text": "Liked/Disliked Songs Distribution"
        }
       }
      }
     },
     "metadata": {},
     "output_type": "display_data"
    }
   ],
   "source": [
    "labels = [\"Liked Songs\",\"Disliked Songs\"]\n",
    "values = df['target'].value_counts().tolist()\n",
    "\n",
    "px.pie(df, values=values, names=labels, title=\"Liked/Disliked Songs Distribution\", \n",
    "       color_discrete_sequence=[\"maroon\", \"navy\"])"
   ]
  },
  {
   "cell_type": "markdown",
   "metadata": {},
   "source": [
    "Pie Chart above shows that data is reasonably balanced."
   ]
  },
  {
   "cell_type": "markdown",
   "metadata": {},
   "source": [
    "## Top 5 Occuring Artist"
   ]
  },
  {
   "cell_type": "code",
   "execution_count": 188,
   "metadata": {},
   "outputs": [
    {
     "data": {
      "text/html": [
       "<div>\n",
       "<style scoped>\n",
       "    .dataframe tbody tr th:only-of-type {\n",
       "        vertical-align: middle;\n",
       "    }\n",
       "\n",
       "    .dataframe tbody tr th {\n",
       "        vertical-align: top;\n",
       "    }\n",
       "\n",
       "    .dataframe thead th {\n",
       "        text-align: right;\n",
       "    }\n",
       "</style>\n",
       "<table border=\"1\" class=\"dataframe\">\n",
       "  <thead>\n",
       "    <tr style=\"text-align: right;\">\n",
       "      <th></th>\n",
       "      <th>artist</th>\n",
       "    </tr>\n",
       "  </thead>\n",
       "  <tbody>\n",
       "    <tr>\n",
       "      <th>Drake</th>\n",
       "      <td>16</td>\n",
       "    </tr>\n",
       "    <tr>\n",
       "      <th>Rick Ross</th>\n",
       "      <td>13</td>\n",
       "    </tr>\n",
       "    <tr>\n",
       "      <th>Disclosure</th>\n",
       "      <td>12</td>\n",
       "    </tr>\n",
       "    <tr>\n",
       "      <th>WALK THE MOON</th>\n",
       "      <td>10</td>\n",
       "    </tr>\n",
       "    <tr>\n",
       "      <th>Backstreet Boys</th>\n",
       "      <td>10</td>\n",
       "    </tr>\n",
       "  </tbody>\n",
       "</table>\n",
       "</div>"
      ],
      "text/plain": [
       "                 artist\n",
       "Drake                16\n",
       "Rick Ross            13\n",
       "Disclosure           12\n",
       "WALK THE MOON        10\n",
       "Backstreet Boys      10"
      ]
     },
     "execution_count": 188,
     "metadata": {},
     "output_type": "execute_result"
    }
   ],
   "source": [
    "top_artists=df.artist.value_counts().sort_values(ascending=False)\n",
    "pd.DataFrame(top_artists).head()"
   ]
  },
  {
   "cell_type": "markdown",
   "metadata": {},
   "source": [
    "## Top 5 Artist (Liked Songs)"
   ]
  },
  {
   "cell_type": "code",
   "execution_count": 189,
   "metadata": {},
   "outputs": [
    {
     "data": {
      "text/plain": [
       "<AxesSubplot:>"
      ]
     },
     "execution_count": 189,
     "metadata": {},
     "output_type": "execute_result"
    },
    {
     "data": {
      "image/png": "[encoded data removed]",
      "text/plain": [
       "<Figure size 640x480 with 1 Axes>"
      ]
     },
     "metadata": {},
     "output_type": "display_data"
    }
   ],
   "source": [
    "#Most occuring artist where target is 1\n",
    "df[df['target']==1]['artist'].value_counts().head()\n",
    "#Plot a graph\n",
    "df[df['target']==1]['artist'].value_counts().head().plot(kind='barh')"
   ]
  },
  {
   "cell_type": "markdown",
   "metadata": {},
   "source": [
    "## Top 5 Artist (Disliked Songs)"
   ]
  },
  {
   "cell_type": "code",
   "execution_count": 190,
   "metadata": {},
   "outputs": [
    {
     "data": {
      "text/plain": [
       "Backstreet Boys    10\n",
       "WALK THE MOON      10\n",
       "Rick Ross           9\n",
       "Fall Out Boy        8\n",
       "Michael Jackson     8\n",
       "Name: artist, dtype: int64"
      ]
     },
     "execution_count": 190,
     "metadata": {},
     "output_type": "execute_result"
    }
   ],
   "source": [
    "#Most occuring artist where target is 1\n",
    "df[df['target']==0]['artist'].value_counts().head()"
   ]
  },
  {
   "cell_type": "code",
   "execution_count": 191,
   "metadata": {},
   "outputs": [],
   "source": [
    "#Dataframe where target = 1\n",
    "df_liked = df[df['target'] == 1]\n",
    "#Dataframe where target = 0\n",
    "df_disliked = df[df['target'] == 0]"
   ]
  },
  {
   "cell_type": "code",
   "execution_count": 192,
   "metadata": {},
   "outputs": [
    {
     "data": {
      "image/png": "[encoded data removed]",
      "text/plain": [
       "<Figure size 800x600 with 1 Axes>"
      ]
     },
     "metadata": {},
     "output_type": "display_data"
    },
    {
     "data": {
      "image/png": "[encoded data removed]",
      "text/plain": [
       "<Figure size 800x600 with 1 Axes>"
      ]
     },
     "metadata": {},
     "output_type": "display_data"
    },
    {
     "data": {
      "image/png": "[encoded data removed]",
      "text/plain": [
       "<Figure size 800x600 with 1 Axes>"
      ]
     },
     "metadata": {},
     "output_type": "display_data"
    },
    {
     "data": {
      "image/png": "[encoded data removed]",
      "text/plain": [
       "<Figure size 800x600 with 1 Axes>"
      ]
     },
     "metadata": {},
     "output_type": "display_data"
    },
    {
     "data": {
      "image/png": "[encoded data removed]",
      "text/plain": [
       "<Figure size 800x600 with 1 Axes>"
      ]
     },
     "metadata": {},
     "output_type": "display_data"
    },
    {
     "data": {
      "image/png": "[encoded data removed]",
      "text/plain": [
       "<Figure size 800x600 with 1 Axes>"
      ]
     },
     "metadata": {},
     "output_type": "display_data"
    },
    {
     "data": {
      "image/png": "[encoded data removed]",
      "text/plain": [
       "<Figure size 800x600 with 1 Axes>"
      ]
     },
     "metadata": {},
     "output_type": "display_data"
    },
    {
     "data": {
      "image/png": "[encoded data removed]",
      "text/plain": [
       "<Figure size 800x600 with 1 Axes>"
      ]
     },
     "metadata": {},
     "output_type": "display_data"
    },
    {
     "data": {
      "image/png": "[encoded data removed]",
      "text/plain": [
       "<Figure size 800x600 with 1 Axes>"
      ]
     },
     "metadata": {},
     "output_type": "display_data"
    },
    {
     "data": {
      "image/png": "[encoded data removed]",
      "text/plain": [
       "<Figure size 800x600 with 1 Axes>"
      ]
     },
     "metadata": {},
     "output_type": "display_data"
    }
   ],
   "source": [
    "# Load your Spotify dataset\n",
    "# Separate the dataset into liked and disliked songs\n",
    "\n",
    "# Define the audio features to compare\n",
    "audio_features = ['acousticness','danceability','duration_ms','energy','instrumentalness','liveness','loudness','speechiness','tempo','valence']\n",
    "\n",
    "# Calculate summary statistics for liked and disliked songs\n",
    "liked_summary_stats = df_liked[audio_features].describe()\n",
    "disliked_summary_stats = df_disliked[audio_features].describe()\n",
    "\n",
    "# Visualize summary statistics using bar plots\n",
    "for feature in audio_features:\n",
    "    plt.figure(figsize=(8, 6))\n",
    "    plt.bar(['Liked', 'Disliked'], [liked_summary_stats.loc['mean', feature], disliked_summary_stats.loc['mean', feature]])\n",
    "    plt.title(f\"{feature} Comparison: Liked vs. Disliked\")\n",
    "    plt.ylabel(\"Mean Value\")\n",
    "    plt.show()\n"
   ]
  },
  {
   "cell_type": "code",
   "execution_count": 193,
   "metadata": {},
   "outputs": [
    {
     "name": "stdout",
     "output_type": "stream",
     "text": [
      "Percentage Differences between Liked and Disliked Songs:\n",
      "acousticness       -30.401528\n",
      "danceability         9.649676\n",
      "duration_ms         10.274634\n",
      "energy               2.479040\n",
      "instrumentalness    91.458141\n",
      "liveness             4.389510\n",
      "loudness             7.950772\n",
      "speechiness         35.208928\n",
      "tempo                1.535938\n",
      "valence             11.354957\n",
      "Name: mean, dtype: float64\n"
     ]
    }
   ],
   "source": [
    "# Define the audio features to compare\n",
    "audio_features = ['acousticness','danceability','duration_ms','energy','instrumentalness','liveness','loudness','speechiness','tempo','valence']\n",
    "\n",
    "# Calculate summary statistics for liked and disliked songs\n",
    "liked_summary_stats = df_liked[audio_features].describe()\n",
    "disliked_summary_stats = df_disliked[audio_features].describe()\n",
    "\n",
    "# Calculate percentage differences for each audio feature\n",
    "percentage_differences = (liked_summary_stats.loc['mean'] - disliked_summary_stats.loc['mean']) / disliked_summary_stats.loc['mean'] * 100\n",
    "\n",
    "# Display the percentage differences as a table\n",
    "print(\"Percentage Differences between Liked and Disliked Songs:\")\n",
    "print(percentage_differences)\n"
   ]
  },
  {
   "cell_type": "code",
   "execution_count": 194,
   "metadata": {},
   "outputs": [],
   "source": [
    "# #Correlation Matrix\n",
    "# fig=plt.figure(figsize=(10,10))\n",
    "# sns.heatmap(df.corr(),annot=True)\n",
    "# plt.show()"
   ]
  },
  {
   "cell_type": "code",
   "execution_count": 195,
   "metadata": {},
   "outputs": [
    {
     "data": {
      "text/plain": [
       "Text(0.5, 1.0, 'Negative Correlations')"
      ]
     },
     "execution_count": 195,
     "metadata": {},
     "output_type": "execute_result"
    },
    {
     "data": {
      "image/png": "[encoded data removed]",
      "text/plain": [
       "<Figure size 2000x1000 with 4 Axes>"
      ]
     },
     "metadata": {},
     "output_type": "display_data"
    }
   ],
   "source": [
    "fig, axes = plt.subplots(1,2, figsize=(20,10))\n",
    "corr = df.corr()\n",
    "mask = np.triu(np.ones_like(corr))\n",
    "sns.heatmap(data= corr, annot=True, cmap ='Reds', ax = axes[0], mask = mask, vmin= 0.1)\n",
    "axes[0].set_title('Positive Correlations')\n",
    "sns.heatmap(data= corr, annot=True, cmap ='Blues_r', ax = axes[1], mask = mask, vmax=-0.1)\n",
    "axes[1].set_title('Negative Correlations')"
   ]
  },
  {
   "cell_type": "markdown",
   "metadata": {},
   "source": [
    "Features that are highly correlated to each other (Threshold = 0.4):\n",
    "1. accoustics vs energy (-0.65)\n",
    "2. accoustics vs loudness (-0.56)\n",
    "3. dancebility vs valence (0.44)\n",
    "4. loudness vs energy (0.76)\n",
    "\n",
    "Either choose: Energy or Accoustics or Loudness\n",
    "\n",
    "Either choose: Dancebility or Valence"
   ]
  },
  {
   "cell_type": "markdown",
   "metadata": {},
   "source": [
    "# Feature Selection"
   ]
  },
  {
   "cell_type": "code",
   "execution_count": 196,
   "metadata": {},
   "outputs": [
    {
     "name": "stdout",
     "output_type": "stream",
     "text": [
      "                           Feature  Correlation  Mutual Information\n",
      "acousticness          acousticness    -0.129627            0.029492\n",
      "danceability          danceability     0.176706            0.033005\n",
      "duration_ms            duration_ms     0.146749            0.039062\n",
      "energy                      energy     0.039688            0.016506\n",
      "instrumentalness  instrumentalness     0.152594            0.029988\n",
      "key                            key     0.033594            0.005944\n",
      "liveness                  liveness     0.026364            0.008246\n",
      "loudness                  loudness    -0.072000            0.049281\n",
      "mode                          mode    -0.072336            0.019868\n",
      "speechiness            speechiness     0.154006            0.011696\n",
      "tempo                        tempo     0.034732            0.019762\n",
      "time_signature      time_signature     0.040182            0.000000\n",
      "valence                    valence     0.107930            0.008351\n"
     ]
    }
   ],
   "source": [
    "# Separate features and target variable\n",
    "# Drop target, song_title and artist_name from features\n",
    "X = df.drop(['target','song_title','artist'], axis=1)  # Features\n",
    "y = df['target']  # Target variable\n",
    "\n",
    "# Calculate Pearson correlation between features and target\n",
    "correlation_scores = X.corrwith(y)\n",
    "\n",
    "# Compute mutual information between features and target\n",
    "mutual_info_scores = mutual_info_classif(X, y)\n",
    "\n",
    "# Create a DataFrame to display correlation and mutual information scores\n",
    "feature_scores = pd.DataFrame({'Feature': X.columns, 'Correlation': correlation_scores, 'Mutual Information': mutual_info_scores})\n",
    "\n",
    "# Display the feature scores\n",
    "print(feature_scores)\n"
   ]
  },
  {
   "cell_type": "code",
   "execution_count": 197,
   "metadata": {},
   "outputs": [
    {
     "name": "stdout",
     "output_type": "stream",
     "text": [
      "Chosen feature for energy, acousticness, loudness: energy\n",
      "Chosen feature for danceability, valence: danceability\n"
     ]
    }
   ],
   "source": [
    "# Define the feature combinations and the corresponding feature choices\n",
    "feature_combinations = {\n",
    "    ('energy', 'acousticness', 'loudness'): None,\n",
    "    ('danceability', 'valence'): None,\n",
    "}\n",
    "\n",
    "# Iterate through the feature combinations and choose the best feature\n",
    "for combination in feature_combinations:\n",
    "    max_score = 0\n",
    "    chosen_feature = None\n",
    "    \n",
    "    for feature in combination:\n",
    "        correlation_score = feature_scores[feature_scores['Feature'] == feature]['Correlation'].values[0]\n",
    "        mutual_info_score = feature_scores[feature_scores['Feature'] == feature]['Mutual Information'].values[0]\n",
    "        # Combine correlation and mutual information scores as desired (e.g., by taking the mean)\n",
    "        combined_score = (correlation_score + mutual_info_score) / 2\n",
    "        \n",
    "        if combined_score > max_score:\n",
    "            max_score = combined_score\n",
    "            chosen_feature = feature\n",
    "    \n",
    "    feature_combinations[combination] = chosen_feature\n",
    "\n",
    "# Print the chosen features for each combination\n",
    "for combination, chosen_feature in feature_combinations.items():\n",
    "    print(f\"Chosen feature for {', '.join(combination)}: {chosen_feature}\")\n"
   ]
  },
  {
   "cell_type": "code",
   "execution_count": 198,
   "metadata": {},
   "outputs": [],
   "source": [
    "#Drop Accousticness and Loudness and Valence\n",
    "df.drop(['acousticness','loudness','valence'], axis=1, inplace=True)"
   ]
  },
  {
   "cell_type": "markdown",
   "metadata": {},
   "source": [
    "# Data Preprocessing"
   ]
  },
  {
   "cell_type": "markdown",
   "metadata": {},
   "source": [
    "## Handling Missing Values"
   ]
  },
  {
   "cell_type": "code",
   "execution_count": 199,
   "metadata": {},
   "outputs": [
    {
     "data": {
      "text/plain": [
       "danceability        0\n",
       "duration_ms         0\n",
       "energy              0\n",
       "instrumentalness    0\n",
       "key                 0\n",
       "liveness            0\n",
       "mode                0\n",
       "speechiness         0\n",
       "tempo               0\n",
       "time_signature      0\n",
       "target              0\n",
       "song_title          0\n",
       "artist              0\n",
       "dtype: int64"
      ]
     },
     "execution_count": 199,
     "metadata": {},
     "output_type": "execute_result"
    }
   ],
   "source": [
    "#Check if there is missing values\n",
    "df.isnull().sum()"
   ]
  },
  {
   "cell_type": "markdown",
   "metadata": {},
   "source": [
    "## Handling Duplications"
   ]
  },
  {
   "cell_type": "code",
   "execution_count": 200,
   "metadata": {},
   "outputs": [],
   "source": [
    "def get_duplicate_songs(df):\n",
    "    \"\"\"\n",
    "    Get the duplicated songs (based on 'song_title' and 'artist' columns) from the DataFrame.\n",
    "\n",
    "    Parameters:\n",
    "        df (pd.DataFrame): The DataFrame to be checked.\n",
    "\n",
    "    Returns:\n",
    "        pd.DataFrame: A DataFrame containing the rows with duplicated 'Song Title' and 'Artist'.\n",
    "    \"\"\"\n",
    "    subset_columns = ['song_title', 'artist']\n",
    "    duplicated_mask = df.duplicated(subset=subset_columns, keep=False)\n",
    "    duplicated_songs = df[duplicated_mask]\n",
    "    return duplicated_songs\n",
    "\n",
    "# Example usage:\n",
    "# Assuming 'df' is your DataFrame containing the 'song_title' and 'artist' columns.\n",
    "# For example, to get the duplicated songs in the DataFrame 'df':\n",
    "# duplicated_songs_df = get_duplicate_songs(df)\n"
   ]
  },
  {
   "cell_type": "code",
   "execution_count": 201,
   "metadata": {},
   "outputs": [
    {
     "name": "stderr",
     "output_type": "stream",
     "text": [
      "C:\\Users\\ASUS\\AppData\\Local\\Temp\\ipykernel_17464\\2506026607.py:3: SettingWithCopyWarning:\n",
      "\n",
      "\n",
      "A value is trying to be set on a copy of a slice from a DataFrame.\n",
      "Try using .loc[row_indexer,col_indexer] = value instead\n",
      "\n",
      "See the caveats in the documentation: https://pandas.pydata.org/pandas-docs/stable/user_guide/indexing.html#returning-a-view-versus-a-copy\n",
      "\n",
      "C:\\Users\\ASUS\\AppData\\Local\\Temp\\ipykernel_17464\\2506026607.py:5: SettingWithCopyWarning:\n",
      "\n",
      "\n",
      "A value is trying to be set on a copy of a slice from a DataFrame\n",
      "\n",
      "See the caveats in the documentation: https://pandas.pydata.org/pandas-docs/stable/user_guide/indexing.html#returning-a-view-versus-a-copy\n",
      "\n"
     ]
    },
    {
     "data": {
      "text/plain": [
       "1148                        1-800-273-8255 BY Logic\n",
       "1489                        1-800-273-8255 BY Logic\n",
       "156                               Acamar BY Frankey\n",
       "320                               Acamar BY Frankey\n",
       "50                             Annie BY Neon Indian\n",
       "                           ...                     \n",
       "571        What I Might Do - Club Mix BY Ben Pearce\n",
       "78      Words I Don't Remember BY How To Dress Well\n",
       "223     Words I Don't Remember BY How To Dress Well\n",
       "690                         Work REMIX BY A$AP Ferg\n",
       "731                         Work REMIX BY A$AP Ferg\n",
       "Name: title_artist, Length: 69, dtype: object"
      ]
     },
     "execution_count": 201,
     "metadata": {},
     "output_type": "execute_result"
    }
   ],
   "source": [
    "# Check if 'song name' has duplications\n",
    "duplications=get_duplicate_songs(df)\n",
    "duplications['title_artist'] = duplications['song_title'] + ' BY ' + duplications['artist']\n",
    "#Arrange based on identical songs)\n",
    "duplications.sort_values(by=['title_artist'], inplace=True)\n",
    "duplications['title_artist']"
   ]
  },
  {
   "cell_type": "code",
   "execution_count": 202,
   "metadata": {},
   "outputs": [
    {
     "data": {
      "text/html": [
       "<div>\n",
       "<style scoped>\n",
       "    .dataframe tbody tr th:only-of-type {\n",
       "        vertical-align: middle;\n",
       "    }\n",
       "\n",
       "    .dataframe tbody tr th {\n",
       "        vertical-align: top;\n",
       "    }\n",
       "\n",
       "    .dataframe thead th {\n",
       "        text-align: right;\n",
       "    }\n",
       "</style>\n",
       "<table border=\"1\" class=\"dataframe\">\n",
       "  <thead>\n",
       "    <tr style=\"text-align: right;\">\n",
       "      <th></th>\n",
       "      <th>song_title</th>\n",
       "      <th>artist</th>\n",
       "      <th>title_artist</th>\n",
       "    </tr>\n",
       "  </thead>\n",
       "  <tbody>\n",
       "    <tr>\n",
       "      <th>1148</th>\n",
       "      <td>1-800-273-8255</td>\n",
       "      <td>Logic</td>\n",
       "      <td>1-800-273-8255 by logic</td>\n",
       "    </tr>\n",
       "    <tr>\n",
       "      <th>1489</th>\n",
       "      <td>1-800-273-8255</td>\n",
       "      <td>Logic</td>\n",
       "      <td>1-800-273-8255 by logic</td>\n",
       "    </tr>\n",
       "    <tr>\n",
       "      <th>156</th>\n",
       "      <td>Acamar</td>\n",
       "      <td>Frankey</td>\n",
       "      <td>acamar by frankey</td>\n",
       "    </tr>\n",
       "    <tr>\n",
       "      <th>320</th>\n",
       "      <td>Acamar</td>\n",
       "      <td>Frankey</td>\n",
       "      <td>acamar by frankey</td>\n",
       "    </tr>\n",
       "    <tr>\n",
       "      <th>50</th>\n",
       "      <td>Annie</td>\n",
       "      <td>Neon Indian</td>\n",
       "      <td>annie by neon indian</td>\n",
       "    </tr>\n",
       "    <tr>\n",
       "      <th>...</th>\n",
       "      <td>...</td>\n",
       "      <td>...</td>\n",
       "      <td>...</td>\n",
       "    </tr>\n",
       "    <tr>\n",
       "      <th>571</th>\n",
       "      <td>What I Might Do - Club Mix</td>\n",
       "      <td>Ben Pearce</td>\n",
       "      <td>what i might do - club mix by ben pearce</td>\n",
       "    </tr>\n",
       "    <tr>\n",
       "      <th>78</th>\n",
       "      <td>Words I Don't Remember</td>\n",
       "      <td>How To Dress Well</td>\n",
       "      <td>words i don't remember by how to dress well</td>\n",
       "    </tr>\n",
       "    <tr>\n",
       "      <th>223</th>\n",
       "      <td>Words I Don't Remember</td>\n",
       "      <td>How To Dress Well</td>\n",
       "      <td>words i don't remember by how to dress well</td>\n",
       "    </tr>\n",
       "    <tr>\n",
       "      <th>690</th>\n",
       "      <td>Work REMIX</td>\n",
       "      <td>A$AP Ferg</td>\n",
       "      <td>work remix by a$ap ferg</td>\n",
       "    </tr>\n",
       "    <tr>\n",
       "      <th>731</th>\n",
       "      <td>Work REMIX</td>\n",
       "      <td>A$AP Ferg</td>\n",
       "      <td>work remix by a$ap ferg</td>\n",
       "    </tr>\n",
       "  </tbody>\n",
       "</table>\n",
       "<p>69 rows × 3 columns</p>\n",
       "</div>"
      ],
      "text/plain": [
       "                      song_title             artist  \\\n",
       "1148              1-800-273-8255              Logic   \n",
       "1489              1-800-273-8255              Logic   \n",
       "156                       Acamar            Frankey   \n",
       "320                       Acamar            Frankey   \n",
       "50                         Annie        Neon Indian   \n",
       "...                          ...                ...   \n",
       "571   What I Might Do - Club Mix         Ben Pearce   \n",
       "78        Words I Don't Remember  How To Dress Well   \n",
       "223       Words I Don't Remember  How To Dress Well   \n",
       "690                   Work REMIX          A$AP Ferg   \n",
       "731                   Work REMIX          A$AP Ferg   \n",
       "\n",
       "                                     title_artist  \n",
       "1148                      1-800-273-8255 by logic  \n",
       "1489                      1-800-273-8255 by logic  \n",
       "156                             acamar by frankey  \n",
       "320                             acamar by frankey  \n",
       "50                           annie by neon indian  \n",
       "...                                           ...  \n",
       "571      what i might do - club mix by ben pearce  \n",
       "78    words i don't remember by how to dress well  \n",
       "223   words i don't remember by how to dress well  \n",
       "690                       work remix by a$ap ferg  \n",
       "731                       work remix by a$ap ferg  \n",
       "\n",
       "[69 rows x 3 columns]"
      ]
     },
     "execution_count": 202,
     "metadata": {},
     "output_type": "execute_result"
    }
   ],
   "source": [
    "#Only keep song_title and artist_name and title_artist columns\n",
    "duplications = duplications[['song_title','artist','title_artist']]\n",
    "#Change title_artist to all lowercase\n",
    "duplications['title_artist'] = duplications['title_artist'].str.lower()\n",
    "#Remove leading or trailing spaces\n",
    "duplications['title_artist'] = duplications['title_artist'].str.strip()\n",
    "duplications"
   ]
  },
  {
   "cell_type": "code",
   "execution_count": 203,
   "metadata": {},
   "outputs": [
    {
     "name": "stdout",
     "output_type": "stream",
     "text": [
      "['1-800-273-8255 by logic' 'acamar by frankey' 'annie by neon indian'\n",
      " 'char by crystal castles' 'civilization by justice'\n",
      " 'coming home by leon bridges' 'despacito - remix by luis fonsi'\n",
      " 'episode i - duel of the fates by john williams' 'get lucky by daft punk'\n",
      " 'her fantasy by matthew dear' \"hold on, we're going home by drake\"\n",
      " \"i know there's gonna be (good times) by jamie xx\"\n",
      " 'i want it that way by backstreet boys' 'jack by breach'\n",
      " 'look at wrist by father' 'mmmbop by hanson' 'mask off by future'\n",
      " 'midnight city by m83' 'myth by beach house'\n",
      " 'night on bald mountain by modest mussorgsky' 'obedear by purity ring'\n",
      " 'outro by m83' 'pyramids by frank ocean' 'recover by chvrches'\n",
      " 'river by ibeyi' 'shabba by a$ap ferg' 'sunshine of your love by cream'\n",
      " 'swimming pools (drank) - extended version by kendrick lamar'\n",
      " \"tearin' up my heart - radio edit by *nsync\"\n",
      " 'the daily mail by radiohead' 'the gaudy side of town by gayngs'\n",
      " 'what i might do - club mix by ben pearce'\n",
      " \"words i don't remember by how to dress well\" 'work remix by a$ap ferg']\n",
      "34\n"
     ]
    }
   ],
   "source": [
    "#Print out unique values count of 'title_artist' column\n",
    "print(duplications['title_artist'].unique())\n",
    "print(duplications['title_artist'].nunique())"
   ]
  },
  {
   "cell_type": "code",
   "execution_count": 204,
   "metadata": {},
   "outputs": [
    {
     "data": {
      "text/html": [
       "<div>\n",
       "<style scoped>\n",
       "    .dataframe tbody tr th:only-of-type {\n",
       "        vertical-align: middle;\n",
       "    }\n",
       "\n",
       "    .dataframe tbody tr th {\n",
       "        vertical-align: top;\n",
       "    }\n",
       "\n",
       "    .dataframe thead th {\n",
       "        text-align: right;\n",
       "    }\n",
       "</style>\n",
       "<table border=\"1\" class=\"dataframe\">\n",
       "  <thead>\n",
       "    <tr style=\"text-align: right;\">\n",
       "      <th></th>\n",
       "      <th>danceability</th>\n",
       "      <th>duration_ms</th>\n",
       "      <th>energy</th>\n",
       "      <th>instrumentalness</th>\n",
       "      <th>key</th>\n",
       "      <th>liveness</th>\n",
       "      <th>mode</th>\n",
       "      <th>speechiness</th>\n",
       "      <th>tempo</th>\n",
       "      <th>time_signature</th>\n",
       "      <th>target</th>\n",
       "      <th>song_title</th>\n",
       "      <th>artist</th>\n",
       "    </tr>\n",
       "  </thead>\n",
       "  <tbody>\n",
       "    <tr>\n",
       "      <th>0</th>\n",
       "      <td>0.833</td>\n",
       "      <td>204600</td>\n",
       "      <td>0.434</td>\n",
       "      <td>0.021900</td>\n",
       "      <td>2</td>\n",
       "      <td>0.1650</td>\n",
       "      <td>1</td>\n",
       "      <td>0.4310</td>\n",
       "      <td>150.062</td>\n",
       "      <td>4.0</td>\n",
       "      <td>1</td>\n",
       "      <td>Mask Off</td>\n",
       "      <td>Future</td>\n",
       "    </tr>\n",
       "    <tr>\n",
       "      <th>1</th>\n",
       "      <td>0.743</td>\n",
       "      <td>326933</td>\n",
       "      <td>0.359</td>\n",
       "      <td>0.006110</td>\n",
       "      <td>1</td>\n",
       "      <td>0.1370</td>\n",
       "      <td>1</td>\n",
       "      <td>0.0794</td>\n",
       "      <td>160.083</td>\n",
       "      <td>4.0</td>\n",
       "      <td>1</td>\n",
       "      <td>Redbone</td>\n",
       "      <td>Childish Gambino</td>\n",
       "    </tr>\n",
       "    <tr>\n",
       "      <th>2</th>\n",
       "      <td>0.838</td>\n",
       "      <td>185707</td>\n",
       "      <td>0.412</td>\n",
       "      <td>0.000234</td>\n",
       "      <td>2</td>\n",
       "      <td>0.1590</td>\n",
       "      <td>1</td>\n",
       "      <td>0.2890</td>\n",
       "      <td>75.044</td>\n",
       "      <td>4.0</td>\n",
       "      <td>1</td>\n",
       "      <td>Xanny Family</td>\n",
       "      <td>Future</td>\n",
       "    </tr>\n",
       "    <tr>\n",
       "      <th>3</th>\n",
       "      <td>0.494</td>\n",
       "      <td>199413</td>\n",
       "      <td>0.338</td>\n",
       "      <td>0.510000</td>\n",
       "      <td>5</td>\n",
       "      <td>0.0922</td>\n",
       "      <td>1</td>\n",
       "      <td>0.0261</td>\n",
       "      <td>86.468</td>\n",
       "      <td>4.0</td>\n",
       "      <td>1</td>\n",
       "      <td>Master Of None</td>\n",
       "      <td>Beach House</td>\n",
       "    </tr>\n",
       "    <tr>\n",
       "      <th>4</th>\n",
       "      <td>0.678</td>\n",
       "      <td>392893</td>\n",
       "      <td>0.561</td>\n",
       "      <td>0.512000</td>\n",
       "      <td>5</td>\n",
       "      <td>0.4390</td>\n",
       "      <td>0</td>\n",
       "      <td>0.0694</td>\n",
       "      <td>174.004</td>\n",
       "      <td>4.0</td>\n",
       "      <td>1</td>\n",
       "      <td>Parallel Lines</td>\n",
       "      <td>Junior Boys</td>\n",
       "    </tr>\n",
       "    <tr>\n",
       "      <th>...</th>\n",
       "      <td>...</td>\n",
       "      <td>...</td>\n",
       "      <td>...</td>\n",
       "      <td>...</td>\n",
       "      <td>...</td>\n",
       "      <td>...</td>\n",
       "      <td>...</td>\n",
       "      <td>...</td>\n",
       "      <td>...</td>\n",
       "      <td>...</td>\n",
       "      <td>...</td>\n",
       "      <td>...</td>\n",
       "      <td>...</td>\n",
       "    </tr>\n",
       "    <tr>\n",
       "      <th>1977</th>\n",
       "      <td>0.584</td>\n",
       "      <td>274404</td>\n",
       "      <td>0.932</td>\n",
       "      <td>0.002690</td>\n",
       "      <td>1</td>\n",
       "      <td>0.1290</td>\n",
       "      <td>1</td>\n",
       "      <td>0.3330</td>\n",
       "      <td>74.976</td>\n",
       "      <td>4.0</td>\n",
       "      <td>0</td>\n",
       "      <td>Like A Bitch - Kill The Noise Remix</td>\n",
       "      <td>Kill The Noise</td>\n",
       "    </tr>\n",
       "    <tr>\n",
       "      <th>1978</th>\n",
       "      <td>0.894</td>\n",
       "      <td>182182</td>\n",
       "      <td>0.892</td>\n",
       "      <td>0.001670</td>\n",
       "      <td>1</td>\n",
       "      <td>0.0528</td>\n",
       "      <td>1</td>\n",
       "      <td>0.1310</td>\n",
       "      <td>110.041</td>\n",
       "      <td>4.0</td>\n",
       "      <td>0</td>\n",
       "      <td>Candy</td>\n",
       "      <td>Dillon Francis</td>\n",
       "    </tr>\n",
       "    <tr>\n",
       "      <th>1979</th>\n",
       "      <td>0.637</td>\n",
       "      <td>207200</td>\n",
       "      <td>0.935</td>\n",
       "      <td>0.003990</td>\n",
       "      <td>0</td>\n",
       "      <td>0.2140</td>\n",
       "      <td>1</td>\n",
       "      <td>0.1070</td>\n",
       "      <td>150.082</td>\n",
       "      <td>4.0</td>\n",
       "      <td>0</td>\n",
       "      <td>Habit - Dack Janiels &amp; Wenzday Remix</td>\n",
       "      <td>Rain Man</td>\n",
       "    </tr>\n",
       "    <tr>\n",
       "      <th>1980</th>\n",
       "      <td>0.557</td>\n",
       "      <td>185600</td>\n",
       "      <td>0.992</td>\n",
       "      <td>0.677000</td>\n",
       "      <td>1</td>\n",
       "      <td>0.0913</td>\n",
       "      <td>1</td>\n",
       "      <td>0.1330</td>\n",
       "      <td>150.011</td>\n",
       "      <td>4.0</td>\n",
       "      <td>0</td>\n",
       "      <td>First Contact</td>\n",
       "      <td>Twin Moons</td>\n",
       "    </tr>\n",
       "    <tr>\n",
       "      <th>1981</th>\n",
       "      <td>0.446</td>\n",
       "      <td>204520</td>\n",
       "      <td>0.915</td>\n",
       "      <td>0.000039</td>\n",
       "      <td>9</td>\n",
       "      <td>0.2180</td>\n",
       "      <td>1</td>\n",
       "      <td>0.1410</td>\n",
       "      <td>190.013</td>\n",
       "      <td>4.0</td>\n",
       "      <td>0</td>\n",
       "      <td>I Wanna Get Better</td>\n",
       "      <td>Bleachers</td>\n",
       "    </tr>\n",
       "  </tbody>\n",
       "</table>\n",
       "<p>1982 rows × 13 columns</p>\n",
       "</div>"
      ],
      "text/plain": [
       "      danceability  duration_ms  energy  instrumentalness  key  liveness  \\\n",
       "0            0.833       204600   0.434          0.021900    2    0.1650   \n",
       "1            0.743       326933   0.359          0.006110    1    0.1370   \n",
       "2            0.838       185707   0.412          0.000234    2    0.1590   \n",
       "3            0.494       199413   0.338          0.510000    5    0.0922   \n",
       "4            0.678       392893   0.561          0.512000    5    0.4390   \n",
       "...            ...          ...     ...               ...  ...       ...   \n",
       "1977         0.584       274404   0.932          0.002690    1    0.1290   \n",
       "1978         0.894       182182   0.892          0.001670    1    0.0528   \n",
       "1979         0.637       207200   0.935          0.003990    0    0.2140   \n",
       "1980         0.557       185600   0.992          0.677000    1    0.0913   \n",
       "1981         0.446       204520   0.915          0.000039    9    0.2180   \n",
       "\n",
       "      mode  speechiness    tempo  time_signature  target  \\\n",
       "0        1       0.4310  150.062             4.0       1   \n",
       "1        1       0.0794  160.083             4.0       1   \n",
       "2        1       0.2890   75.044             4.0       1   \n",
       "3        1       0.0261   86.468             4.0       1   \n",
       "4        0       0.0694  174.004             4.0       1   \n",
       "...    ...          ...      ...             ...     ...   \n",
       "1977     1       0.3330   74.976             4.0       0   \n",
       "1978     1       0.1310  110.041             4.0       0   \n",
       "1979     1       0.1070  150.082             4.0       0   \n",
       "1980     1       0.1330  150.011             4.0       0   \n",
       "1981     1       0.1410  190.013             4.0       0   \n",
       "\n",
       "                                song_title            artist  \n",
       "0                                 Mask Off            Future  \n",
       "1                                  Redbone  Childish Gambino  \n",
       "2                             Xanny Family            Future  \n",
       "3                           Master Of None       Beach House  \n",
       "4                           Parallel Lines       Junior Boys  \n",
       "...                                    ...               ...  \n",
       "1977   Like A Bitch - Kill The Noise Remix    Kill The Noise  \n",
       "1978                                 Candy    Dillon Francis  \n",
       "1979  Habit - Dack Janiels & Wenzday Remix          Rain Man  \n",
       "1980                         First Contact        Twin Moons  \n",
       "1981                    I Wanna Get Better         Bleachers  \n",
       "\n",
       "[1982 rows x 13 columns]"
      ]
     },
     "execution_count": 204,
     "metadata": {},
     "output_type": "execute_result"
    }
   ],
   "source": [
    "# Drop duplicates\n",
    "df= df.drop_duplicates(subset=['song_title', 'artist'], keep='first')\n",
    "#Reset index\n",
    "df = df.reset_index(drop=True)\n",
    "df"
   ]
  },
  {
   "cell_type": "markdown",
   "metadata": {},
   "source": [
    "Observations Left after Dropping Duplicates = 2017-69-34 = 1982 Left"
   ]
  },
  {
   "cell_type": "markdown",
   "metadata": {},
   "source": [
    "## Handling Outliers"
   ]
  },
  {
   "cell_type": "code",
   "execution_count": 205,
   "metadata": {},
   "outputs": [
    {
     "name": "stdout",
     "output_type": "stream",
     "text": [
      "Unique values in each column:\n",
      "----------------------------\n",
      "key : [ 2  1  5  8 10 11  7  0  9  6  4  3]\n",
      "----------------------------\n",
      "mode : [1 0]\n",
      "----------------------------\n",
      "time_signature : [4. 3. 5. 1.]\n",
      "----------------------------\n",
      "target : [1 0]\n",
      "----------------------------\n"
     ]
    }
   ],
   "source": [
    "data_categorical=df[['key','mode','time_signature','target']]\n",
    "\n",
    "\n",
    "#unique values in each column\n",
    "print(\"Unique values in each column:\")\n",
    "print(\"----------------------------\")\n",
    "for col in data_categorical.columns:\n",
    "    print(col,\":\",data_categorical[col].unique())\n",
    "    print(\"----------------------------\")\n",
    "    "
   ]
  },
  {
   "cell_type": "code",
   "execution_count": 206,
   "metadata": {},
   "outputs": [
    {
     "data": {
      "image/png": "[encoded data removed]",
      "text/plain": [
       "<Figure size 1600x2000 with 8 Axes>"
      ]
     },
     "metadata": {},
     "output_type": "display_data"
    }
   ],
   "source": [
    "data_numerical=df[['danceability','duration_ms','energy','instrumentalness','liveness','speechiness','tempo']]\n",
    "\n",
    "fig, axes = plt.subplots(4, 2, figsize = (16,20))\n",
    "# fig1 , axes = plt.subplots(nrows=2,ncols=2 , figsize = (20,24))\n",
    "axes = axes.flatten()\n",
    "ax_no = 0\n",
    "for col in data_numerical:\n",
    "    p = sns.boxplot(data=df, x = col, ax = axes[ax_no] ,color='lightblue')\n",
    "    ax_no += 1\n",
    "fig.suptitle('Boxplot for numerical attributes')\n",
    "plt.show()"
   ]
  },
  {
   "cell_type": "markdown",
   "metadata": {},
   "source": [
    "### Locate Outliers "
   ]
  },
  {
   "cell_type": "code",
   "execution_count": 207,
   "metadata": {},
   "outputs": [],
   "source": [
    "def find_outliers_IQR(df):\n",
    "\n",
    "   q1=df.quantile(0.25)\n",
    "\n",
    "   q3=df.quantile(0.75)\n",
    "\n",
    "   IQR=q3-q1\n",
    "\n",
    "   lower_bound=q1-1.5*IQR\n",
    "   upper_bound=q3+1.5*IQR\n",
    "\n",
    "   outliers = df[((df<(lower_bound)) | (df>(upper_bound)))]\n",
    "\n",
    "   return outliers"
   ]
  },
  {
   "cell_type": "code",
   "execution_count": 208,
   "metadata": {},
   "outputs": [
    {
     "name": "stderr",
     "output_type": "stream",
     "text": [
      "C:\\Users\\ASUS\\AppData\\Local\\Temp\\ipykernel_17464\\1197596422.py:12: FutureWarning:\n",
      "\n",
      "Automatic reindexing on DataFrame vs Series comparisons is deprecated and will raise ValueError in a future version. Do `left, right = left.align(right, axis=1, copy=False)` before e.g. `left == right`\n",
      "\n"
     ]
    },
    {
     "data": {
      "text/html": [
       "<div>\n",
       "<style scoped>\n",
       "    .dataframe tbody tr th:only-of-type {\n",
       "        vertical-align: middle;\n",
       "    }\n",
       "\n",
       "    .dataframe tbody tr th {\n",
       "        vertical-align: top;\n",
       "    }\n",
       "\n",
       "    .dataframe thead th {\n",
       "        text-align: right;\n",
       "    }\n",
       "</style>\n",
       "<table border=\"1\" class=\"dataframe\">\n",
       "  <thead>\n",
       "    <tr style=\"text-align: right;\">\n",
       "      <th></th>\n",
       "      <th>danceability</th>\n",
       "      <th>duration_ms</th>\n",
       "      <th>energy</th>\n",
       "      <th>instrumentalness</th>\n",
       "      <th>key</th>\n",
       "      <th>liveness</th>\n",
       "      <th>mode</th>\n",
       "      <th>speechiness</th>\n",
       "      <th>tempo</th>\n",
       "      <th>time_signature</th>\n",
       "      <th>target</th>\n",
       "      <th>song_title</th>\n",
       "      <th>artist</th>\n",
       "    </tr>\n",
       "  </thead>\n",
       "  <tbody>\n",
       "    <tr>\n",
       "      <th>0</th>\n",
       "      <td>NaN</td>\n",
       "      <td>NaN</td>\n",
       "      <td>NaN</td>\n",
       "      <td>NaN</td>\n",
       "      <td>NaN</td>\n",
       "      <td>NaN</td>\n",
       "      <td>NaN</td>\n",
       "      <td>0.431</td>\n",
       "      <td>NaN</td>\n",
       "      <td>NaN</td>\n",
       "      <td>NaN</td>\n",
       "      <td>NaN</td>\n",
       "      <td>NaN</td>\n",
       "    </tr>\n",
       "    <tr>\n",
       "      <th>2</th>\n",
       "      <td>NaN</td>\n",
       "      <td>NaN</td>\n",
       "      <td>NaN</td>\n",
       "      <td>NaN</td>\n",
       "      <td>NaN</td>\n",
       "      <td>NaN</td>\n",
       "      <td>NaN</td>\n",
       "      <td>0.289</td>\n",
       "      <td>NaN</td>\n",
       "      <td>NaN</td>\n",
       "      <td>NaN</td>\n",
       "      <td>NaN</td>\n",
       "      <td>NaN</td>\n",
       "    </tr>\n",
       "    <tr>\n",
       "      <th>3</th>\n",
       "      <td>NaN</td>\n",
       "      <td>NaN</td>\n",
       "      <td>NaN</td>\n",
       "      <td>0.510</td>\n",
       "      <td>NaN</td>\n",
       "      <td>NaN</td>\n",
       "      <td>NaN</td>\n",
       "      <td>NaN</td>\n",
       "      <td>NaN</td>\n",
       "      <td>NaN</td>\n",
       "      <td>NaN</td>\n",
       "      <td>NaN</td>\n",
       "      <td>NaN</td>\n",
       "    </tr>\n",
       "    <tr>\n",
       "      <th>4</th>\n",
       "      <td>NaN</td>\n",
       "      <td>392893.0</td>\n",
       "      <td>NaN</td>\n",
       "      <td>0.512</td>\n",
       "      <td>NaN</td>\n",
       "      <td>NaN</td>\n",
       "      <td>NaN</td>\n",
       "      <td>NaN</td>\n",
       "      <td>NaN</td>\n",
       "      <td>NaN</td>\n",
       "      <td>NaN</td>\n",
       "      <td>NaN</td>\n",
       "      <td>NaN</td>\n",
       "    </tr>\n",
       "    <tr>\n",
       "      <th>7</th>\n",
       "      <td>NaN</td>\n",
       "      <td>NaN</td>\n",
       "      <td>NaN</td>\n",
       "      <td>0.664</td>\n",
       "      <td>NaN</td>\n",
       "      <td>NaN</td>\n",
       "      <td>NaN</td>\n",
       "      <td>NaN</td>\n",
       "      <td>NaN</td>\n",
       "      <td>NaN</td>\n",
       "      <td>NaN</td>\n",
       "      <td>NaN</td>\n",
       "      <td>NaN</td>\n",
       "    </tr>\n",
       "    <tr>\n",
       "      <th>8</th>\n",
       "      <td>NaN</td>\n",
       "      <td>NaN</td>\n",
       "      <td>NaN</td>\n",
       "      <td>NaN</td>\n",
       "      <td>NaN</td>\n",
       "      <td>NaN</td>\n",
       "      <td>NaN</td>\n",
       "      <td>0.347</td>\n",
       "      <td>NaN</td>\n",
       "      <td>NaN</td>\n",
       "      <td>NaN</td>\n",
       "      <td>NaN</td>\n",
       "      <td>NaN</td>\n",
       "    </tr>\n",
       "    <tr>\n",
       "      <th>9</th>\n",
       "      <td>NaN</td>\n",
       "      <td>NaN</td>\n",
       "      <td>NaN</td>\n",
       "      <td>NaN</td>\n",
       "      <td>NaN</td>\n",
       "      <td>0.571</td>\n",
       "      <td>NaN</td>\n",
       "      <td>0.237</td>\n",
       "      <td>NaN</td>\n",
       "      <td>NaN</td>\n",
       "      <td>NaN</td>\n",
       "      <td>NaN</td>\n",
       "      <td>NaN</td>\n",
       "    </tr>\n",
       "    <tr>\n",
       "      <th>10</th>\n",
       "      <td>NaN</td>\n",
       "      <td>NaN</td>\n",
       "      <td>NaN</td>\n",
       "      <td>NaN</td>\n",
       "      <td>NaN</td>\n",
       "      <td>0.649</td>\n",
       "      <td>NaN</td>\n",
       "      <td>NaN</td>\n",
       "      <td>NaN</td>\n",
       "      <td>3.0</td>\n",
       "      <td>NaN</td>\n",
       "      <td>NaN</td>\n",
       "      <td>NaN</td>\n",
       "    </tr>\n",
       "    <tr>\n",
       "      <th>17</th>\n",
       "      <td>NaN</td>\n",
       "      <td>447907.0</td>\n",
       "      <td>NaN</td>\n",
       "      <td>NaN</td>\n",
       "      <td>NaN</td>\n",
       "      <td>NaN</td>\n",
       "      <td>NaN</td>\n",
       "      <td>NaN</td>\n",
       "      <td>NaN</td>\n",
       "      <td>NaN</td>\n",
       "      <td>NaN</td>\n",
       "      <td>NaN</td>\n",
       "      <td>NaN</td>\n",
       "    </tr>\n",
       "    <tr>\n",
       "      <th>18</th>\n",
       "      <td>NaN</td>\n",
       "      <td>NaN</td>\n",
       "      <td>NaN</td>\n",
       "      <td>NaN</td>\n",
       "      <td>NaN</td>\n",
       "      <td>NaN</td>\n",
       "      <td>NaN</td>\n",
       "      <td>0.241</td>\n",
       "      <td>NaN</td>\n",
       "      <td>NaN</td>\n",
       "      <td>NaN</td>\n",
       "      <td>NaN</td>\n",
       "      <td>NaN</td>\n",
       "    </tr>\n",
       "    <tr>\n",
       "      <th>19</th>\n",
       "      <td>NaN</td>\n",
       "      <td>NaN</td>\n",
       "      <td>NaN</td>\n",
       "      <td>0.185</td>\n",
       "      <td>NaN</td>\n",
       "      <td>NaN</td>\n",
       "      <td>NaN</td>\n",
       "      <td>NaN</td>\n",
       "      <td>NaN</td>\n",
       "      <td>NaN</td>\n",
       "      <td>NaN</td>\n",
       "      <td>NaN</td>\n",
       "      <td>NaN</td>\n",
       "    </tr>\n",
       "    <tr>\n",
       "      <th>20</th>\n",
       "      <td>NaN</td>\n",
       "      <td>NaN</td>\n",
       "      <td>NaN</td>\n",
       "      <td>0.308</td>\n",
       "      <td>NaN</td>\n",
       "      <td>NaN</td>\n",
       "      <td>NaN</td>\n",
       "      <td>NaN</td>\n",
       "      <td>NaN</td>\n",
       "      <td>NaN</td>\n",
       "      <td>NaN</td>\n",
       "      <td>NaN</td>\n",
       "      <td>NaN</td>\n",
       "    </tr>\n",
       "    <tr>\n",
       "      <th>21</th>\n",
       "      <td>NaN</td>\n",
       "      <td>NaN</td>\n",
       "      <td>NaN</td>\n",
       "      <td>0.369</td>\n",
       "      <td>NaN</td>\n",
       "      <td>NaN</td>\n",
       "      <td>NaN</td>\n",
       "      <td>NaN</td>\n",
       "      <td>NaN</td>\n",
       "      <td>NaN</td>\n",
       "      <td>NaN</td>\n",
       "      <td>NaN</td>\n",
       "      <td>NaN</td>\n",
       "    </tr>\n",
       "    <tr>\n",
       "      <th>22</th>\n",
       "      <td>NaN</td>\n",
       "      <td>NaN</td>\n",
       "      <td>NaN</td>\n",
       "      <td>NaN</td>\n",
       "      <td>NaN</td>\n",
       "      <td>0.527</td>\n",
       "      <td>NaN</td>\n",
       "      <td>0.395</td>\n",
       "      <td>NaN</td>\n",
       "      <td>NaN</td>\n",
       "      <td>NaN</td>\n",
       "      <td>NaN</td>\n",
       "      <td>NaN</td>\n",
       "    </tr>\n",
       "    <tr>\n",
       "      <th>25</th>\n",
       "      <td>NaN</td>\n",
       "      <td>NaN</td>\n",
       "      <td>NaN</td>\n",
       "      <td>0.269</td>\n",
       "      <td>NaN</td>\n",
       "      <td>NaN</td>\n",
       "      <td>NaN</td>\n",
       "      <td>NaN</td>\n",
       "      <td>NaN</td>\n",
       "      <td>NaN</td>\n",
       "      <td>NaN</td>\n",
       "      <td>NaN</td>\n",
       "      <td>NaN</td>\n",
       "    </tr>\n",
       "    <tr>\n",
       "      <th>26</th>\n",
       "      <td>NaN</td>\n",
       "      <td>NaN</td>\n",
       "      <td>NaN</td>\n",
       "      <td>NaN</td>\n",
       "      <td>NaN</td>\n",
       "      <td>NaN</td>\n",
       "      <td>NaN</td>\n",
       "      <td>0.383</td>\n",
       "      <td>NaN</td>\n",
       "      <td>NaN</td>\n",
       "      <td>NaN</td>\n",
       "      <td>NaN</td>\n",
       "      <td>NaN</td>\n",
       "    </tr>\n",
       "    <tr>\n",
       "      <th>34</th>\n",
       "      <td>NaN</td>\n",
       "      <td>NaN</td>\n",
       "      <td>NaN</td>\n",
       "      <td>NaN</td>\n",
       "      <td>NaN</td>\n",
       "      <td>NaN</td>\n",
       "      <td>NaN</td>\n",
       "      <td>0.323</td>\n",
       "      <td>NaN</td>\n",
       "      <td>NaN</td>\n",
       "      <td>NaN</td>\n",
       "      <td>NaN</td>\n",
       "      <td>NaN</td>\n",
       "    </tr>\n",
       "    <tr>\n",
       "      <th>35</th>\n",
       "      <td>NaN</td>\n",
       "      <td>NaN</td>\n",
       "      <td>NaN</td>\n",
       "      <td>NaN</td>\n",
       "      <td>NaN</td>\n",
       "      <td>0.489</td>\n",
       "      <td>NaN</td>\n",
       "      <td>NaN</td>\n",
       "      <td>NaN</td>\n",
       "      <td>NaN</td>\n",
       "      <td>NaN</td>\n",
       "      <td>NaN</td>\n",
       "      <td>NaN</td>\n",
       "    </tr>\n",
       "    <tr>\n",
       "      <th>39</th>\n",
       "      <td>NaN</td>\n",
       "      <td>NaN</td>\n",
       "      <td>NaN</td>\n",
       "      <td>0.625</td>\n",
       "      <td>NaN</td>\n",
       "      <td>NaN</td>\n",
       "      <td>NaN</td>\n",
       "      <td>NaN</td>\n",
       "      <td>NaN</td>\n",
       "      <td>NaN</td>\n",
       "      <td>NaN</td>\n",
       "      <td>NaN</td>\n",
       "      <td>NaN</td>\n",
       "    </tr>\n",
       "    <tr>\n",
       "      <th>42</th>\n",
       "      <td>NaN</td>\n",
       "      <td>378893.0</td>\n",
       "      <td>NaN</td>\n",
       "      <td>NaN</td>\n",
       "      <td>NaN</td>\n",
       "      <td>0.525</td>\n",
       "      <td>NaN</td>\n",
       "      <td>0.242</td>\n",
       "      <td>NaN</td>\n",
       "      <td>5.0</td>\n",
       "      <td>NaN</td>\n",
       "      <td>NaN</td>\n",
       "      <td>NaN</td>\n",
       "    </tr>\n",
       "  </tbody>\n",
       "</table>\n",
       "</div>"
      ],
      "text/plain": [
       "    danceability  duration_ms  energy  instrumentalness  key  liveness  mode  \\\n",
       "0            NaN          NaN     NaN               NaN  NaN       NaN   NaN   \n",
       "2            NaN          NaN     NaN               NaN  NaN       NaN   NaN   \n",
       "3            NaN          NaN     NaN             0.510  NaN       NaN   NaN   \n",
       "4            NaN     392893.0     NaN             0.512  NaN       NaN   NaN   \n",
       "7            NaN          NaN     NaN             0.664  NaN       NaN   NaN   \n",
       "8            NaN          NaN     NaN               NaN  NaN       NaN   NaN   \n",
       "9            NaN          NaN     NaN               NaN  NaN     0.571   NaN   \n",
       "10           NaN          NaN     NaN               NaN  NaN     0.649   NaN   \n",
       "17           NaN     447907.0     NaN               NaN  NaN       NaN   NaN   \n",
       "18           NaN          NaN     NaN               NaN  NaN       NaN   NaN   \n",
       "19           NaN          NaN     NaN             0.185  NaN       NaN   NaN   \n",
       "20           NaN          NaN     NaN             0.308  NaN       NaN   NaN   \n",
       "21           NaN          NaN     NaN             0.369  NaN       NaN   NaN   \n",
       "22           NaN          NaN     NaN               NaN  NaN     0.527   NaN   \n",
       "25           NaN          NaN     NaN             0.269  NaN       NaN   NaN   \n",
       "26           NaN          NaN     NaN               NaN  NaN       NaN   NaN   \n",
       "34           NaN          NaN     NaN               NaN  NaN       NaN   NaN   \n",
       "35           NaN          NaN     NaN               NaN  NaN     0.489   NaN   \n",
       "39           NaN          NaN     NaN             0.625  NaN       NaN   NaN   \n",
       "42           NaN     378893.0     NaN               NaN  NaN     0.525   NaN   \n",
       "\n",
       "    speechiness  tempo  time_signature  target song_title artist  \n",
       "0         0.431    NaN             NaN     NaN        NaN    NaN  \n",
       "2         0.289    NaN             NaN     NaN        NaN    NaN  \n",
       "3           NaN    NaN             NaN     NaN        NaN    NaN  \n",
       "4           NaN    NaN             NaN     NaN        NaN    NaN  \n",
       "7           NaN    NaN             NaN     NaN        NaN    NaN  \n",
       "8         0.347    NaN             NaN     NaN        NaN    NaN  \n",
       "9         0.237    NaN             NaN     NaN        NaN    NaN  \n",
       "10          NaN    NaN             3.0     NaN        NaN    NaN  \n",
       "17          NaN    NaN             NaN     NaN        NaN    NaN  \n",
       "18        0.241    NaN             NaN     NaN        NaN    NaN  \n",
       "19          NaN    NaN             NaN     NaN        NaN    NaN  \n",
       "20          NaN    NaN             NaN     NaN        NaN    NaN  \n",
       "21          NaN    NaN             NaN     NaN        NaN    NaN  \n",
       "22        0.395    NaN             NaN     NaN        NaN    NaN  \n",
       "25          NaN    NaN             NaN     NaN        NaN    NaN  \n",
       "26        0.383    NaN             NaN     NaN        NaN    NaN  \n",
       "34        0.323    NaN             NaN     NaN        NaN    NaN  \n",
       "35          NaN    NaN             NaN     NaN        NaN    NaN  \n",
       "39          NaN    NaN             NaN     NaN        NaN    NaN  \n",
       "42        0.242    NaN             5.0     NaN        NaN    NaN  "
      ]
     },
     "execution_count": 208,
     "metadata": {},
     "output_type": "execute_result"
    }
   ],
   "source": [
    "outliers = find_outliers_IQR(df)\n",
    "#Rows with outliers\n",
    "outliers=outliers.dropna(how='all')\n",
    "outliers.head(20)"
   ]
  },
  {
   "cell_type": "code",
   "execution_count": 209,
   "metadata": {},
   "outputs": [
    {
     "name": "stdout",
     "output_type": "stream",
     "text": [
      "Number of outliers:  797\n"
     ]
    }
   ],
   "source": [
    "#Number of outliers\n",
    "print(\"Number of outliers: \", len(outliers))"
   ]
  },
  {
   "cell_type": "markdown",
   "metadata": {},
   "source": [
    "## Label Encode String Values "
   ]
  },
  {
   "cell_type": "code",
   "execution_count": 210,
   "metadata": {},
   "outputs": [
    {
     "data": {
      "text/plain": [
       "['label_encoder_artist.pkl']"
      ]
     },
     "execution_count": 210,
     "metadata": {},
     "output_type": "execute_result"
    }
   ],
   "source": [
    "# Initialize LabelEncoder objects\n",
    "le_song_title = LabelEncoder()\n",
    "le_artist = LabelEncoder()\n",
    "\n",
    "# Create a temporary DataFrame with an extra \"Unknown\" category for song_title and artist\n",
    "extra_row = pd.DataFrame([{'song_title': 'Unknown', 'artist': 'Unknown'}])\n",
    "df_with_unknown = pd.concat([df, extra_row], ignore_index=True)\n",
    "\n",
    "# Fit the LabelEncoder objects with the temporary DataFrame\n",
    "le_song_title.fit(df_with_unknown['song_title'])\n",
    "le_artist.fit(df_with_unknown['artist'])\n",
    "\n",
    "# Transform the original DataFrame (this part remains unchanged)\n",
    "df['song_title'] = le_song_title.transform(df['song_title'])\n",
    "df['artist'] = le_artist.transform(df['artist'])\n",
    "\n",
    "# Save the fitted LabelEncoders to disk\n",
    "joblib.dump(le_song_title, 'label_encoder_song_title.pkl')\n",
    "joblib.dump(le_artist, 'label_encoder_artist.pkl')\n"
   ]
  },
  {
   "cell_type": "markdown",
   "metadata": {},
   "source": [
    "## Dealing with Outliers"
   ]
  },
  {
   "cell_type": "markdown",
   "metadata": {},
   "source": [
    "Deleting Rows with Outliers"
   ]
  },
  {
   "cell_type": "code",
   "execution_count": 211,
   "metadata": {},
   "outputs": [
    {
     "data": {
      "text/html": [
       "<div>\n",
       "<style scoped>\n",
       "    .dataframe tbody tr th:only-of-type {\n",
       "        vertical-align: middle;\n",
       "    }\n",
       "\n",
       "    .dataframe tbody tr th {\n",
       "        vertical-align: top;\n",
       "    }\n",
       "\n",
       "    .dataframe thead th {\n",
       "        text-align: right;\n",
       "    }\n",
       "</style>\n",
       "<table border=\"1\" class=\"dataframe\">\n",
       "  <thead>\n",
       "    <tr style=\"text-align: right;\">\n",
       "      <th></th>\n",
       "      <th>danceability</th>\n",
       "      <th>duration_ms</th>\n",
       "      <th>energy</th>\n",
       "      <th>instrumentalness</th>\n",
       "      <th>key</th>\n",
       "      <th>liveness</th>\n",
       "      <th>mode</th>\n",
       "      <th>speechiness</th>\n",
       "      <th>tempo</th>\n",
       "      <th>time_signature</th>\n",
       "      <th>target</th>\n",
       "      <th>song_title</th>\n",
       "      <th>artist</th>\n",
       "    </tr>\n",
       "  </thead>\n",
       "  <tbody>\n",
       "    <tr>\n",
       "      <th>1</th>\n",
       "      <td>0.743</td>\n",
       "      <td>326933</td>\n",
       "      <td>0.359</td>\n",
       "      <td>0.006110</td>\n",
       "      <td>1</td>\n",
       "      <td>0.137</td>\n",
       "      <td>1</td>\n",
       "      <td>0.0794</td>\n",
       "      <td>160.083</td>\n",
       "      <td>4.0</td>\n",
       "      <td>1</td>\n",
       "      <td>1334</td>\n",
       "      <td>222</td>\n",
       "    </tr>\n",
       "    <tr>\n",
       "      <th>5</th>\n",
       "      <td>0.804</td>\n",
       "      <td>251333</td>\n",
       "      <td>0.560</td>\n",
       "      <td>0.000000</td>\n",
       "      <td>8</td>\n",
       "      <td>0.164</td>\n",
       "      <td>1</td>\n",
       "      <td>0.1850</td>\n",
       "      <td>85.023</td>\n",
       "      <td>4.0</td>\n",
       "      <td>1</td>\n",
       "      <td>1474</td>\n",
       "      <td>356</td>\n",
       "    </tr>\n",
       "    <tr>\n",
       "      <th>6</th>\n",
       "      <td>0.739</td>\n",
       "      <td>241400</td>\n",
       "      <td>0.472</td>\n",
       "      <td>0.000007</td>\n",
       "      <td>1</td>\n",
       "      <td>0.207</td>\n",
       "      <td>1</td>\n",
       "      <td>0.1560</td>\n",
       "      <td>80.030</td>\n",
       "      <td>4.0</td>\n",
       "      <td>1</td>\n",
       "      <td>318</td>\n",
       "      <td>356</td>\n",
       "    </tr>\n",
       "    <tr>\n",
       "      <th>11</th>\n",
       "      <td>0.753</td>\n",
       "      <td>324880</td>\n",
       "      <td>0.748</td>\n",
       "      <td>0.003480</td>\n",
       "      <td>10</td>\n",
       "      <td>0.212</td>\n",
       "      <td>1</td>\n",
       "      <td>0.0494</td>\n",
       "      <td>104.322</td>\n",
       "      <td>4.0</td>\n",
       "      <td>1</td>\n",
       "      <td>446</td>\n",
       "      <td>804</td>\n",
       "    </tr>\n",
       "    <tr>\n",
       "      <th>12</th>\n",
       "      <td>0.603</td>\n",
       "      <td>356973</td>\n",
       "      <td>0.434</td>\n",
       "      <td>0.061900</td>\n",
       "      <td>0</td>\n",
       "      <td>0.108</td>\n",
       "      <td>1</td>\n",
       "      <td>0.0342</td>\n",
       "      <td>127.681</td>\n",
       "      <td>4.0</td>\n",
       "      <td>1</td>\n",
       "      <td>299</td>\n",
       "      <td>398</td>\n",
       "    </tr>\n",
       "  </tbody>\n",
       "</table>\n",
       "</div>"
      ],
      "text/plain": [
       "    danceability  duration_ms  energy  instrumentalness  key  liveness  mode  \\\n",
       "1          0.743       326933   0.359          0.006110    1     0.137     1   \n",
       "5          0.804       251333   0.560          0.000000    8     0.164     1   \n",
       "6          0.739       241400   0.472          0.000007    1     0.207     1   \n",
       "11         0.753       324880   0.748          0.003480   10     0.212     1   \n",
       "12         0.603       356973   0.434          0.061900    0     0.108     1   \n",
       "\n",
       "    speechiness    tempo  time_signature  target  song_title  artist  \n",
       "1        0.0794  160.083             4.0       1        1334     222  \n",
       "5        0.1850   85.023             4.0       1        1474     356  \n",
       "6        0.1560   80.030             4.0       1         318     356  \n",
       "11       0.0494  104.322             4.0       1         446     804  \n",
       "12       0.0342  127.681             4.0       1         299     398  "
      ]
     },
     "execution_count": 211,
     "metadata": {},
     "output_type": "execute_result"
    }
   ],
   "source": [
    "#Method 1: Dropped Rows with outliers\n",
    "df_rows_dropped = df.drop(outliers.index)\n",
    "df_rows_dropped.head()"
   ]
  },
  {
   "cell_type": "code",
   "execution_count": 212,
   "metadata": {},
   "outputs": [
    {
     "name": "stdout",
     "output_type": "stream",
     "text": [
      "(1185, 13)\n"
     ]
    }
   ],
   "source": [
    "print(df_rows_dropped.shape)"
   ]
  },
  {
   "cell_type": "markdown",
   "metadata": {},
   "source": [
    "1107/1982 Rows = 0.5585 ≈ 45% Reduction of Observations (Undesirable)"
   ]
  },
  {
   "cell_type": "markdown",
   "metadata": {},
   "source": [
    "Clipping"
   ]
  },
  {
   "cell_type": "code",
   "execution_count": 213,
   "metadata": {},
   "outputs": [],
   "source": [
    "#Method 2: Capping Extreme Values to a specific Threshold\n",
    "#Cap Maximum Value at 1.5 * IQR + Q3 and Minimum Value at Q1 - 1.5 * IQR\n",
    "def clip(df):\n",
    "\n",
    "    # Calculate Q1, Q3, and IQR for each numerical column\n",
    "    q1 = df.quantile(0.25)\n",
    "    q3 = df.quantile(0.75)\n",
    "    IQR = q3 - q1\n",
    "\n",
    "    # Calculate lower and upper bounds for outlier replacement\n",
    "    lower_bound = q1 - 1.5 * IQR\n",
    "    upper_bound = q3 + 1.5 * IQR\n",
    "\n",
    "    # Replace extreme values with the bounds\n",
    "    df_rows_clipped = df.clip(lower=lower_bound, upper=upper_bound)\n",
    "\n",
    "    return df_rows_clipped"
   ]
  },
  {
   "cell_type": "code",
   "execution_count": 214,
   "metadata": {},
   "outputs": [
    {
     "data": {
      "text/html": [
       "<div>\n",
       "<style scoped>\n",
       "    .dataframe tbody tr th:only-of-type {\n",
       "        vertical-align: middle;\n",
       "    }\n",
       "\n",
       "    .dataframe tbody tr th {\n",
       "        vertical-align: top;\n",
       "    }\n",
       "\n",
       "    .dataframe thead th {\n",
       "        text-align: right;\n",
       "    }\n",
       "</style>\n",
       "<table border=\"1\" class=\"dataframe\">\n",
       "  <thead>\n",
       "    <tr style=\"text-align: right;\">\n",
       "      <th></th>\n",
       "      <th>danceability</th>\n",
       "      <th>duration_ms</th>\n",
       "      <th>energy</th>\n",
       "      <th>instrumentalness</th>\n",
       "      <th>key</th>\n",
       "      <th>liveness</th>\n",
       "      <th>mode</th>\n",
       "      <th>speechiness</th>\n",
       "      <th>tempo</th>\n",
       "      <th>time_signature</th>\n",
       "      <th>target</th>\n",
       "      <th>song_title</th>\n",
       "      <th>artist</th>\n",
       "    </tr>\n",
       "  </thead>\n",
       "  <tbody>\n",
       "    <tr>\n",
       "      <th>0</th>\n",
       "      <td>0.833</td>\n",
       "      <td>204600.00</td>\n",
       "      <td>0.434</td>\n",
       "      <td>0.021900</td>\n",
       "      <td>2</td>\n",
       "      <td>0.1650</td>\n",
       "      <td>1</td>\n",
       "      <td>0.21375</td>\n",
       "      <td>150.062</td>\n",
       "      <td>4.0</td>\n",
       "      <td>1</td>\n",
       "      <td>1043</td>\n",
       "      <td>449</td>\n",
       "    </tr>\n",
       "    <tr>\n",
       "      <th>1</th>\n",
       "      <td>0.743</td>\n",
       "      <td>326933.00</td>\n",
       "      <td>0.359</td>\n",
       "      <td>0.006110</td>\n",
       "      <td>1</td>\n",
       "      <td>0.1370</td>\n",
       "      <td>1</td>\n",
       "      <td>0.07940</td>\n",
       "      <td>160.083</td>\n",
       "      <td>4.0</td>\n",
       "      <td>1</td>\n",
       "      <td>1334</td>\n",
       "      <td>222</td>\n",
       "    </tr>\n",
       "    <tr>\n",
       "      <th>2</th>\n",
       "      <td>0.838</td>\n",
       "      <td>185707.00</td>\n",
       "      <td>0.412</td>\n",
       "      <td>0.000234</td>\n",
       "      <td>2</td>\n",
       "      <td>0.1590</td>\n",
       "      <td>1</td>\n",
       "      <td>0.21375</td>\n",
       "      <td>75.044</td>\n",
       "      <td>4.0</td>\n",
       "      <td>1</td>\n",
       "      <td>1907</td>\n",
       "      <td>449</td>\n",
       "    </tr>\n",
       "    <tr>\n",
       "      <th>3</th>\n",
       "      <td>0.494</td>\n",
       "      <td>199413.00</td>\n",
       "      <td>0.338</td>\n",
       "      <td>0.134938</td>\n",
       "      <td>5</td>\n",
       "      <td>0.0922</td>\n",
       "      <td>1</td>\n",
       "      <td>0.02610</td>\n",
       "      <td>86.468</td>\n",
       "      <td>4.0</td>\n",
       "      <td>1</td>\n",
       "      <td>1044</td>\n",
       "      <td>95</td>\n",
       "    </tr>\n",
       "    <tr>\n",
       "      <th>4</th>\n",
       "      <td>0.678</td>\n",
       "      <td>374918.75</td>\n",
       "      <td>0.561</td>\n",
       "      <td>0.134938</td>\n",
       "      <td>5</td>\n",
       "      <td>0.4390</td>\n",
       "      <td>0</td>\n",
       "      <td>0.06940</td>\n",
       "      <td>174.004</td>\n",
       "      <td>4.0</td>\n",
       "      <td>1</td>\n",
       "      <td>1243</td>\n",
       "      <td>628</td>\n",
       "    </tr>\n",
       "  </tbody>\n",
       "</table>\n",
       "</div>"
      ],
      "text/plain": [
       "   danceability  duration_ms  energy  instrumentalness  key  liveness  mode  \\\n",
       "0         0.833    204600.00   0.434          0.021900    2    0.1650     1   \n",
       "1         0.743    326933.00   0.359          0.006110    1    0.1370     1   \n",
       "2         0.838    185707.00   0.412          0.000234    2    0.1590     1   \n",
       "3         0.494    199413.00   0.338          0.134938    5    0.0922     1   \n",
       "4         0.678    374918.75   0.561          0.134938    5    0.4390     0   \n",
       "\n",
       "   speechiness    tempo  time_signature  target  song_title  artist  \n",
       "0      0.21375  150.062             4.0       1        1043     449  \n",
       "1      0.07940  160.083             4.0       1        1334     222  \n",
       "2      0.21375   75.044             4.0       1        1907     449  \n",
       "3      0.02610   86.468             4.0       1        1044      95  \n",
       "4      0.06940  174.004             4.0       1        1243     628  "
      ]
     },
     "execution_count": 214,
     "metadata": {},
     "output_type": "execute_result"
    }
   ],
   "source": [
    "df_rows_clipped = df.copy()\n",
    "# df_rows_clipped['acousticness'] = clip(df_rows_clipped['acousticness'])\n",
    "# df_rows_clipped['loudness'] = clip(df_rows_clipped['loudness'])\n",
    "df_rows_clipped['instrumentalness'] = clip(df_rows_clipped['instrumentalness'])\n",
    "# df_rows_clipped['valence'] = clip(df_rows_clipped['valence'])\n",
    "df_rows_clipped['danceability'] = clip(df_rows_clipped['danceability'])\n",
    "df_rows_clipped['duration_ms'] = clip(df_rows_clipped['duration_ms'])\n",
    "df_rows_clipped['energy'] = clip(df_rows_clipped['energy'])\n",
    "df_rows_clipped['speechiness'] = clip(df_rows_clipped['speechiness'])\n",
    "df_rows_clipped['liveness'] = clip(df_rows_clipped['liveness'])\n",
    "df_rows_clipped['tempo'] = clip(df_rows_clipped['tempo'])\n",
    "df_rows_clipped.head()"
   ]
  },
  {
   "cell_type": "markdown",
   "metadata": {},
   "source": [
    "### Scaling"
   ]
  },
  {
   "cell_type": "markdown",
   "metadata": {},
   "source": [
    "Standardization"
   ]
  },
  {
   "cell_type": "code",
   "execution_count": 215,
   "metadata": {},
   "outputs": [],
   "source": [
    "def standardize(df):\n",
    "    # Create a StandardScaler object\n",
    "    scaler = StandardScaler()\n",
    "\n",
    "    # Fit the StandardScaler on the DataFrame and transform the data\n",
    "    scaled_data = scaler.fit_transform(df)\n",
    "\n",
    "    # Create a new DataFrame with the scaled data and the same column names\n",
    "    df_scaled = pd.DataFrame(scaled_data, columns=df.columns)\n",
    "\n",
    "    return df_scaled,scaler"
   ]
  },
  {
   "cell_type": "code",
   "execution_count": 216,
   "metadata": {},
   "outputs": [
    {
     "data": {
      "text/html": [
       "<div>\n",
       "<style scoped>\n",
       "    .dataframe tbody tr th:only-of-type {\n",
       "        vertical-align: middle;\n",
       "    }\n",
       "\n",
       "    .dataframe tbody tr th {\n",
       "        vertical-align: top;\n",
       "    }\n",
       "\n",
       "    .dataframe thead th {\n",
       "        text-align: right;\n",
       "    }\n",
       "</style>\n",
       "<table border=\"1\" class=\"dataframe\">\n",
       "  <thead>\n",
       "    <tr style=\"text-align: right;\">\n",
       "      <th></th>\n",
       "      <th>danceability</th>\n",
       "      <th>duration_ms</th>\n",
       "      <th>energy</th>\n",
       "      <th>instrumentalness</th>\n",
       "      <th>key</th>\n",
       "      <th>liveness</th>\n",
       "      <th>mode</th>\n",
       "      <th>speechiness</th>\n",
       "      <th>tempo</th>\n",
       "      <th>time_signature</th>\n",
       "      <th>target</th>\n",
       "      <th>song_title</th>\n",
       "      <th>artist</th>\n",
       "    </tr>\n",
       "  </thead>\n",
       "  <tbody>\n",
       "    <tr>\n",
       "      <th>0</th>\n",
       "      <td>1.336906</td>\n",
       "      <td>-0.505130</td>\n",
       "      <td>-1.185070</td>\n",
       "      <td>-0.407081</td>\n",
       "      <td>2</td>\n",
       "      <td>-0.162647</td>\n",
       "      <td>1</td>\n",
       "      <td>3.783613</td>\n",
       "      <td>1.062027</td>\n",
       "      <td>4.0</td>\n",
       "      <td>1</td>\n",
       "      <td>1043</td>\n",
       "      <td>449</td>\n",
       "    </tr>\n",
       "    <tr>\n",
       "      <th>1</th>\n",
       "      <td>0.776699</td>\n",
       "      <td>1.000153</td>\n",
       "      <td>-1.541980</td>\n",
       "      <td>-0.464963</td>\n",
       "      <td>1</td>\n",
       "      <td>-0.343116</td>\n",
       "      <td>1</td>\n",
       "      <td>-0.147269</td>\n",
       "      <td>1.437318</td>\n",
       "      <td>4.0</td>\n",
       "      <td>1</td>\n",
       "      <td>1334</td>\n",
       "      <td>222</td>\n",
       "    </tr>\n",
       "    <tr>\n",
       "      <th>2</th>\n",
       "      <td>1.368029</td>\n",
       "      <td>-0.737605</td>\n",
       "      <td>-1.289763</td>\n",
       "      <td>-0.486503</td>\n",
       "      <td>2</td>\n",
       "      <td>-0.201319</td>\n",
       "      <td>1</td>\n",
       "      <td>2.196055</td>\n",
       "      <td>-1.747430</td>\n",
       "      <td>4.0</td>\n",
       "      <td>1</td>\n",
       "      <td>1907</td>\n",
       "      <td>449</td>\n",
       "    </tr>\n",
       "    <tr>\n",
       "      <th>3</th>\n",
       "      <td>-0.773207</td>\n",
       "      <td>-0.568955</td>\n",
       "      <td>-1.641915</td>\n",
       "      <td>1.382156</td>\n",
       "      <td>5</td>\n",
       "      <td>-0.631866</td>\n",
       "      <td>1</td>\n",
       "      <td>-0.743163</td>\n",
       "      <td>-1.319596</td>\n",
       "      <td>4.0</td>\n",
       "      <td>1</td>\n",
       "      <td>1044</td>\n",
       "      <td>95</td>\n",
       "    </tr>\n",
       "    <tr>\n",
       "      <th>4</th>\n",
       "      <td>0.372105</td>\n",
       "      <td>1.811778</td>\n",
       "      <td>-0.580702</td>\n",
       "      <td>1.389487</td>\n",
       "      <td>5</td>\n",
       "      <td>1.603372</td>\n",
       "      <td>0</td>\n",
       "      <td>-0.259069</td>\n",
       "      <td>1.958666</td>\n",
       "      <td>4.0</td>\n",
       "      <td>1</td>\n",
       "      <td>1243</td>\n",
       "      <td>628</td>\n",
       "    </tr>\n",
       "  </tbody>\n",
       "</table>\n",
       "</div>"
      ],
      "text/plain": [
       "   danceability  duration_ms    energy  instrumentalness  key  liveness  mode  \\\n",
       "0      1.336906    -0.505130 -1.185070         -0.407081    2 -0.162647     1   \n",
       "1      0.776699     1.000153 -1.541980         -0.464963    1 -0.343116     1   \n",
       "2      1.368029    -0.737605 -1.289763         -0.486503    2 -0.201319     1   \n",
       "3     -0.773207    -0.568955 -1.641915          1.382156    5 -0.631866     1   \n",
       "4      0.372105     1.811778 -0.580702          1.389487    5  1.603372     0   \n",
       "\n",
       "   speechiness     tempo  time_signature  target  song_title  artist  \n",
       "0     3.783613  1.062027             4.0       1        1043     449  \n",
       "1    -0.147269  1.437318             4.0       1        1334     222  \n",
       "2     2.196055 -1.747430             4.0       1        1907     449  \n",
       "3    -0.743163 -1.319596             4.0       1        1044      95  \n",
       "4    -0.259069  1.958666             4.0       1        1243     628  "
      ]
     },
     "execution_count": 216,
     "metadata": {},
     "output_type": "execute_result"
    }
   ],
   "source": [
    "# Select columns to standardize\n",
    "columns_to_standardize = ['instrumentalness', 'danceability', 'duration_ms', 'energy', 'speechiness', 'liveness', 'tempo']\n",
    "df_standardized = df.copy()\n",
    "\n",
    "# Standardize selected columns\n",
    "df_standardized[columns_to_standardize],fitted_scaler = standardize(df[columns_to_standardize])\n",
    "\n",
    "# Save the fitted scaler for future use\n",
    "joblib.dump(fitted_scaler, 'standard_scaler.pkl')\n",
    "\n",
    "df_standardized.head()"
   ]
  },
  {
   "cell_type": "markdown",
   "metadata": {},
   "source": [
    "Normalization"
   ]
  },
  {
   "cell_type": "code",
   "execution_count": 217,
   "metadata": {},
   "outputs": [],
   "source": [
    "#Normalization\n",
    "def normalize(df):\n",
    "    # Create a MinMaxScaler object\n",
    "    mmscaler = MinMaxScaler()\n",
    "\n",
    "    # Fit the MinMaxScaler on the DataFrame and transform the data\n",
    "    normalized_data = mmscaler.fit_transform(df)\n",
    "\n",
    "    # Create a new DataFrame with the normalized data and the same column names\n",
    "    df_normalized = pd.DataFrame(normalized_data, columns=df.columns)\n",
    "\n",
    "    return df_normalized"
   ]
  },
  {
   "cell_type": "code",
   "execution_count": 218,
   "metadata": {},
   "outputs": [
    {
     "data": {
      "text/html": [
       "<div>\n",
       "<style scoped>\n",
       "    .dataframe tbody tr th:only-of-type {\n",
       "        vertical-align: middle;\n",
       "    }\n",
       "\n",
       "    .dataframe tbody tr th {\n",
       "        vertical-align: top;\n",
       "    }\n",
       "\n",
       "    .dataframe thead th {\n",
       "        text-align: right;\n",
       "    }\n",
       "</style>\n",
       "<table border=\"1\" class=\"dataframe\">\n",
       "  <thead>\n",
       "    <tr style=\"text-align: right;\">\n",
       "      <th></th>\n",
       "      <th>danceability</th>\n",
       "      <th>duration_ms</th>\n",
       "      <th>energy</th>\n",
       "      <th>instrumentalness</th>\n",
       "      <th>key</th>\n",
       "      <th>liveness</th>\n",
       "      <th>mode</th>\n",
       "      <th>speechiness</th>\n",
       "      <th>tempo</th>\n",
       "      <th>time_signature</th>\n",
       "      <th>target</th>\n",
       "      <th>song_title</th>\n",
       "      <th>artist</th>\n",
       "    </tr>\n",
       "  </thead>\n",
       "  <tbody>\n",
       "    <tr>\n",
       "      <th>0</th>\n",
       "      <td>0.824826</td>\n",
       "      <td>0.190735</td>\n",
       "      <td>0.426363</td>\n",
       "      <td>0.022439</td>\n",
       "      <td>2</td>\n",
       "      <td>0.153862</td>\n",
       "      <td>1</td>\n",
       "      <td>0.514441</td>\n",
       "      <td>0.596033</td>\n",
       "      <td>4.0</td>\n",
       "      <td>1</td>\n",
       "      <td>1043</td>\n",
       "      <td>449</td>\n",
       "    </tr>\n",
       "    <tr>\n",
       "      <th>1</th>\n",
       "      <td>0.720418</td>\n",
       "      <td>0.314481</td>\n",
       "      <td>0.350081</td>\n",
       "      <td>0.006260</td>\n",
       "      <td>1</td>\n",
       "      <td>0.124395</td>\n",
       "      <td>1</td>\n",
       "      <td>0.071005</td>\n",
       "      <td>0.654474</td>\n",
       "      <td>4.0</td>\n",
       "      <td>1</td>\n",
       "      <td>1334</td>\n",
       "      <td>222</td>\n",
       "    </tr>\n",
       "    <tr>\n",
       "      <th>2</th>\n",
       "      <td>0.830626</td>\n",
       "      <td>0.171624</td>\n",
       "      <td>0.403987</td>\n",
       "      <td>0.000240</td>\n",
       "      <td>2</td>\n",
       "      <td>0.147548</td>\n",
       "      <td>1</td>\n",
       "      <td>0.335351</td>\n",
       "      <td>0.158539</td>\n",
       "      <td>4.0</td>\n",
       "      <td>1</td>\n",
       "      <td>1907</td>\n",
       "      <td>449</td>\n",
       "    </tr>\n",
       "    <tr>\n",
       "      <th>3</th>\n",
       "      <td>0.431555</td>\n",
       "      <td>0.185488</td>\n",
       "      <td>0.328723</td>\n",
       "      <td>0.522541</td>\n",
       "      <td>5</td>\n",
       "      <td>0.077247</td>\n",
       "      <td>1</td>\n",
       "      <td>0.003784</td>\n",
       "      <td>0.225162</td>\n",
       "      <td>4.0</td>\n",
       "      <td>1</td>\n",
       "      <td>1044</td>\n",
       "      <td>95</td>\n",
       "    </tr>\n",
       "    <tr>\n",
       "      <th>4</th>\n",
       "      <td>0.645012</td>\n",
       "      <td>0.381202</td>\n",
       "      <td>0.555533</td>\n",
       "      <td>0.524590</td>\n",
       "      <td>5</td>\n",
       "      <td>0.442223</td>\n",
       "      <td>0</td>\n",
       "      <td>0.058393</td>\n",
       "      <td>0.735659</td>\n",
       "      <td>4.0</td>\n",
       "      <td>1</td>\n",
       "      <td>1243</td>\n",
       "      <td>628</td>\n",
       "    </tr>\n",
       "  </tbody>\n",
       "</table>\n",
       "</div>"
      ],
      "text/plain": [
       "   danceability  duration_ms    energy  instrumentalness  key  liveness  mode  \\\n",
       "0      0.824826     0.190735  0.426363          0.022439    2  0.153862     1   \n",
       "1      0.720418     0.314481  0.350081          0.006260    1  0.124395     1   \n",
       "2      0.830626     0.171624  0.403987          0.000240    2  0.147548     1   \n",
       "3      0.431555     0.185488  0.328723          0.522541    5  0.077247     1   \n",
       "4      0.645012     0.381202  0.555533          0.524590    5  0.442223     0   \n",
       "\n",
       "   speechiness     tempo  time_signature  target  song_title  artist  \n",
       "0     0.514441  0.596033             4.0       1        1043     449  \n",
       "1     0.071005  0.654474             4.0       1        1334     222  \n",
       "2     0.335351  0.158539             4.0       1        1907     449  \n",
       "3     0.003784  0.225162             4.0       1        1044      95  \n",
       "4     0.058393  0.735659             4.0       1        1243     628  "
      ]
     },
     "execution_count": 218,
     "metadata": {},
     "output_type": "execute_result"
    }
   ],
   "source": [
    "# Select columns to normaliza\n",
    "columns_to_normalize = ['instrumentalness', 'danceability', 'duration_ms', 'energy', 'speechiness', 'liveness', 'tempo']\n",
    "df_normalized = df.copy()\n",
    "\n",
    "# Standardize selected columns\n",
    "df_normalized[columns_to_normalize] = normalize(df[columns_to_normalize])\n",
    "df_normalized.head()"
   ]
  },
  {
   "cell_type": "code",
   "execution_count": 219,
   "metadata": {},
   "outputs": [
    {
     "data": {
      "text/plain": [
       "(1982, 13)"
      ]
     },
     "execution_count": 219,
     "metadata": {},
     "output_type": "execute_result"
    }
   ],
   "source": [
    "df_normalized.shape"
   ]
  },
  {
   "cell_type": "markdown",
   "metadata": {},
   "source": [
    "Availabe Dataframes: \n",
    "1. df (Removed Duplicated but outliers still present)\n",
    "2. df_rows_dropped (Dropped Rows with outliers)\n",
    "3. df_rows_clipped (Impute Outlier Values)\n",
    "4. df_standardized (df after standardization scaling)"
   ]
  },
  {
   "cell_type": "markdown",
   "metadata": {},
   "source": [
    "# Modelling"
   ]
  },
  {
   "cell_type": "markdown",
   "metadata": {},
   "source": [
    "## Train Test Spilt"
   ]
  },
  {
   "cell_type": "code",
   "execution_count": 220,
   "metadata": {},
   "outputs": [
    {
     "data": {
      "text/html": [
       "<div>\n",
       "<style scoped>\n",
       "    .dataframe tbody tr th:only-of-type {\n",
       "        vertical-align: middle;\n",
       "    }\n",
       "\n",
       "    .dataframe tbody tr th {\n",
       "        vertical-align: top;\n",
       "    }\n",
       "\n",
       "    .dataframe thead th {\n",
       "        text-align: right;\n",
       "    }\n",
       "</style>\n",
       "<table border=\"1\" class=\"dataframe\">\n",
       "  <thead>\n",
       "    <tr style=\"text-align: right;\">\n",
       "      <th></th>\n",
       "      <th>danceability</th>\n",
       "      <th>duration_ms</th>\n",
       "      <th>energy</th>\n",
       "      <th>instrumentalness</th>\n",
       "      <th>key</th>\n",
       "      <th>liveness</th>\n",
       "      <th>mode</th>\n",
       "      <th>speechiness</th>\n",
       "      <th>tempo</th>\n",
       "      <th>time_signature</th>\n",
       "      <th>target</th>\n",
       "      <th>song_title</th>\n",
       "      <th>artist</th>\n",
       "    </tr>\n",
       "  </thead>\n",
       "  <tbody>\n",
       "    <tr>\n",
       "      <th>0</th>\n",
       "      <td>0.833</td>\n",
       "      <td>204600</td>\n",
       "      <td>0.434</td>\n",
       "      <td>0.021900</td>\n",
       "      <td>2</td>\n",
       "      <td>0.1650</td>\n",
       "      <td>1</td>\n",
       "      <td>0.4310</td>\n",
       "      <td>150.062</td>\n",
       "      <td>4.0</td>\n",
       "      <td>1</td>\n",
       "      <td>1043</td>\n",
       "      <td>449</td>\n",
       "    </tr>\n",
       "    <tr>\n",
       "      <th>1</th>\n",
       "      <td>0.743</td>\n",
       "      <td>326933</td>\n",
       "      <td>0.359</td>\n",
       "      <td>0.006110</td>\n",
       "      <td>1</td>\n",
       "      <td>0.1370</td>\n",
       "      <td>1</td>\n",
       "      <td>0.0794</td>\n",
       "      <td>160.083</td>\n",
       "      <td>4.0</td>\n",
       "      <td>1</td>\n",
       "      <td>1334</td>\n",
       "      <td>222</td>\n",
       "    </tr>\n",
       "    <tr>\n",
       "      <th>2</th>\n",
       "      <td>0.838</td>\n",
       "      <td>185707</td>\n",
       "      <td>0.412</td>\n",
       "      <td>0.000234</td>\n",
       "      <td>2</td>\n",
       "      <td>0.1590</td>\n",
       "      <td>1</td>\n",
       "      <td>0.2890</td>\n",
       "      <td>75.044</td>\n",
       "      <td>4.0</td>\n",
       "      <td>1</td>\n",
       "      <td>1907</td>\n",
       "      <td>449</td>\n",
       "    </tr>\n",
       "    <tr>\n",
       "      <th>3</th>\n",
       "      <td>0.494</td>\n",
       "      <td>199413</td>\n",
       "      <td>0.338</td>\n",
       "      <td>0.510000</td>\n",
       "      <td>5</td>\n",
       "      <td>0.0922</td>\n",
       "      <td>1</td>\n",
       "      <td>0.0261</td>\n",
       "      <td>86.468</td>\n",
       "      <td>4.0</td>\n",
       "      <td>1</td>\n",
       "      <td>1044</td>\n",
       "      <td>95</td>\n",
       "    </tr>\n",
       "    <tr>\n",
       "      <th>4</th>\n",
       "      <td>0.678</td>\n",
       "      <td>392893</td>\n",
       "      <td>0.561</td>\n",
       "      <td>0.512000</td>\n",
       "      <td>5</td>\n",
       "      <td>0.4390</td>\n",
       "      <td>0</td>\n",
       "      <td>0.0694</td>\n",
       "      <td>174.004</td>\n",
       "      <td>4.0</td>\n",
       "      <td>1</td>\n",
       "      <td>1243</td>\n",
       "      <td>628</td>\n",
       "    </tr>\n",
       "  </tbody>\n",
       "</table>\n",
       "</div>"
      ],
      "text/plain": [
       "   danceability  duration_ms  energy  instrumentalness  key  liveness  mode  \\\n",
       "0         0.833       204600   0.434          0.021900    2    0.1650     1   \n",
       "1         0.743       326933   0.359          0.006110    1    0.1370     1   \n",
       "2         0.838       185707   0.412          0.000234    2    0.1590     1   \n",
       "3         0.494       199413   0.338          0.510000    5    0.0922     1   \n",
       "4         0.678       392893   0.561          0.512000    5    0.4390     0   \n",
       "\n",
       "   speechiness    tempo  time_signature  target  song_title  artist  \n",
       "0       0.4310  150.062             4.0       1        1043     449  \n",
       "1       0.0794  160.083             4.0       1        1334     222  \n",
       "2       0.2890   75.044             4.0       1        1907     449  \n",
       "3       0.0261   86.468             4.0       1        1044      95  \n",
       "4       0.0694  174.004             4.0       1        1243     628  "
      ]
     },
     "execution_count": 220,
     "metadata": {},
     "output_type": "execute_result"
    }
   ],
   "source": [
    "df.head()"
   ]
  },
  {
   "cell_type": "code",
   "execution_count": 221,
   "metadata": {},
   "outputs": [],
   "source": [
    "#Train test spilt on df,df_rows_dropped,df_rows_clipped,df_standardized\n",
    "X = df.drop(['target'], axis=True)\n",
    "y= df['target']\n",
    "\n",
    "#Train Test for original df\n",
    "X_train, X_test, y_train, y_test = train_test_split(X, y, test_size=0.2, random_state=42)\n",
    "\n",
    "#Train Test for df_rows_dropped\n",
    "dropped_x = df_rows_dropped.drop('target', axis=1)\n",
    "dropped_y = df_rows_dropped['target']\n",
    "train_dropped_x, test_dropped_x, train_dropped_y, test_dropped_y = train_test_split(dropped_x, dropped_y, test_size=0.2, random_state=42)\n",
    "\n",
    "\n",
    "#Train Test for df_rows_clipped\n",
    "clipped_x = df_rows_clipped.drop('target', axis=1)\n",
    "clipped_y = df_rows_clipped['target']\n",
    "train_clipped_x, test_clipped_x, train_clipped_y, test_clipped_y = train_test_split(clipped_x, clipped_y, test_size=0.2, random_state=42)\n",
    "\n",
    "\n",
    "#Train Test for df_standardized\n",
    "standardized_x = df_standardized.drop('target', axis=1)\n",
    "standardized_y = df_standardized['target']\n",
    "train_standardized_x, test_standardized_x, train_standardized_y, test_standardized_y = train_test_split(standardized_x, standardized_y, test_size=0.2, random_state=42)\n",
    "\n",
    "#Train Test for df_standardized\n",
    "normalized_x = df_normalized.drop('target', axis=1)\n",
    "normalized_y = df_normalized['target']\n",
    "train_normalized_x, test_normalized_x, train_normalized_y, test_normalized_y = train_test_split(normalized_x, normalized_y, test_size=0.2, random_state=42)\n",
    "\n",
    "# #make all train test sets into a list for easy access\n",
    "# train_x = [X_train,train_dropped_x, train_clipped_x, train_standardized_x]\n",
    "# train_y = [y_train,train_dropped_y, train_clipped_y, train_standardized_y]\n",
    "# test_x = [X_test,test_dropped_x, test_clipped_x, test_standardized_x]\n",
    "# test_y = [y_test,test_dropped_y, test_clipped_y, test_standardized_y]\n",
    "\n",
    "#make all train test sets into a list for easy access\n",
    "train_x = [X_train,train_dropped_x, train_clipped_x, train_standardized_x, train_normalized_x]\n",
    "train_y = [y_train,train_dropped_y, train_clipped_y, train_standardized_y, train_normalized_y]\n",
    "test_x = [X_test,test_dropped_x, test_clipped_x, test_standardized_x, test_normalized_x]\n",
    "test_y = [y_test,test_dropped_y, test_clipped_y, test_standardized_y, test_normalized_y]"
   ]
  },
  {
   "cell_type": "markdown",
   "metadata": {},
   "source": [
    "## Extreme Gradient Boosting"
   ]
  },
  {
   "cell_type": "code",
   "execution_count": 222,
   "metadata": {},
   "outputs": [],
   "source": [
    "#pip install xgboost"
   ]
  },
  {
   "cell_type": "code",
   "execution_count": 223,
   "metadata": {},
   "outputs": [
    {
     "name": "stdout",
     "output_type": "stream",
     "text": [
      "Accuracy Scores:\n",
      "df : 72.80%\n",
      "df_rows_dropped : 70.89%\n",
      "df_rows_clipped : 72.04%\n",
      "df_standardized : 72.80%\n",
      "\n",
      "Highest Accuracy Score: 72.80%\n"
     ]
    }
   ],
   "source": [
    "#For loop to fit all train test sets xgb boost\n",
    "# Train : 76.66% , Test : 72.80%. \n",
    "xgb = XGBClassifier(\n",
    "    reg_alpha=0.9,  # Increased L1 regularization term to prevent overfitting\n",
    "    reg_lambda=0.9,  # Increased L2 regularization term to prevent overfitting\n",
    "    max_depth=2,  # Reduced maximum depth to control complexity\n",
    "    learning_rate=0.03,  # Slightly reduced learning rate\n",
    "    subsample=0.75,  # Reduced subsample fraction to add more regularization\n",
    "    random_state=231, \n",
    "    verbosity=0,  \n",
    "    eval_metric='mlogloss'\n",
    ")\n",
    "\n",
    "accuracy_scores=[]\n",
    "prediction_list=[]\n",
    "for i in range(len(train_x)):\n",
    "    xgb.fit(train_x[i], train_y[i])\n",
    "    y_pred = xgb.predict(test_x[i])\n",
    "    predictions = [round(value) for value in y_pred]\n",
    "    #Append predictions to list\n",
    "    prediction_list.append(predictions)\n",
    "    accuracy = accuracy_score(test_y[i], predictions)\n",
    "    #Append accuracy scores to list\n",
    "    accuracy_scores.append(accuracy)\n",
    "\n",
    "print(\"Accuracy Scores:\")\n",
    "print(\"df : %.2f%%\" % (accuracy_scores[0] * 100))\n",
    "print(\"df_rows_dropped : %.2f%%\" % (accuracy_scores[1] * 100))\n",
    "print(\"df_rows_clipped : %.2f%%\" % (accuracy_scores[2] * 100))\n",
    "print(\"df_standardized : %.2f%%\" % (accuracy_scores[3] * 100))\n",
    "# print(\"df_normalized : %.2f%%\" % (accuracy_scores[4] * 100))\n",
    "\n",
    "#Print highest accuracy score\n",
    "print(\"\\nHighest Accuracy Score: %.2f%%\" % (max(accuracy_scores) * 100))\n"
   ]
  },
  {
   "cell_type": "code",
   "execution_count": 224,
   "metadata": {},
   "outputs": [],
   "source": [
    "with open('xgb_Model.pkl', 'wb') as file:\n",
    "    pickle.dump(xgb, file)"
   ]
  },
  {
   "cell_type": "code",
   "execution_count": 225,
   "metadata": {},
   "outputs": [
    {
     "name": "stdout",
     "output_type": "stream",
     "text": [
      "Accuracy on Training (Standardized): 76.66%\n",
      "Accuracy on Testing (Standardized): 72.80%\n"
     ]
    }
   ],
   "source": [
    "#Train XGB on standardized data\n",
    "xgb.fit(train_standardized_x, train_standardized_y)\n",
    "predictions_standardizedTrain = xgb.predict(train_standardized_x)\n",
    "predictions_standardizedTest = xgb.predict(test_standardized_x)\n",
    "\n",
    "accuracy_standardizedTrain = accuracy_score(train_standardized_y, predictions_standardizedTrain)\n",
    "accuracy_standardizedTest = accuracy_score(test_standardized_y, predictions_standardizedTest)\n",
    "\n",
    "print(\"Accuracy on Training (Standardized): %.2f%%\" % (accuracy_standardizedTrain * 100))\n",
    "print(\"Accuracy on Testing (Standardized): %.2f%%\" % (accuracy_standardizedTest * 100))"
   ]
  },
  {
   "cell_type": "markdown",
   "metadata": {},
   "source": [
    "### Cross Validation"
   ]
  },
  {
   "cell_type": "code",
   "execution_count": 226,
   "metadata": {},
   "outputs": [
    {
     "name": "stdout",
     "output_type": "stream",
     "text": [
      "Fold 1: Accuracy = 0.73\n",
      "Fold 2: Accuracy = 0.74\n",
      "Fold 3: Accuracy = 0.80\n",
      "Fold 4: Accuracy = 0.74\n",
      "Fold 5: Accuracy = 0.75\n",
      "Fold 6: Accuracy = 0.75\n",
      "Fold 7: Accuracy = 0.72\n",
      "Fold 8: Accuracy = 0.75\n",
      "Fold 9: Accuracy = 0.75\n",
      "Fold 10: Accuracy = 0.66\n",
      "Mean Accuracy = 0.74\n",
      "Standard Deviation of Accuracy = 0.03\n"
     ]
    }
   ],
   "source": [
    "# Define the number of folds for cross-validation\n",
    "num_folds = 10\n",
    "\n",
    "# Create a k-fold cross-validation object\n",
    "kf = KFold(n_splits=num_folds, shuffle=True, random_state=42)\n",
    "\n",
    "# Perform cross-validation and calculate accuracy scores\n",
    "accuracy_scores = cross_val_score(xgb, train_standardized_x, train_standardized_y, cv=kf, scoring='accuracy')\n",
    "\n",
    "# Print the accuracy scores for each fold\n",
    "for fold, accuracy in enumerate(accuracy_scores, start=1):\n",
    "    print(f\"Fold {fold}: Accuracy = {accuracy:.2f}\")\n",
    "\n",
    "# Calculate and print the mean and standard deviation of accuracy scores\n",
    "mean_accuracy = accuracy_scores.mean()\n",
    "std_accuracy = accuracy_scores.std()\n",
    "print(f\"Mean Accuracy = {mean_accuracy:.2f}\")\n",
    "print(f\"Standard Deviation of Accuracy = {std_accuracy:.2f}\")\n"
   ]
  },
  {
   "cell_type": "code",
   "execution_count": 227,
   "metadata": {},
   "outputs": [
    {
     "name": "stdout",
     "output_type": "stream",
     "text": [
      "\n",
      " Classification report: \n",
      "               precision    recall  f1-score   support\n",
      "\n",
      "           0       0.73      0.73      0.73       201\n",
      "           1       0.72      0.73      0.73       196\n",
      "\n",
      "    accuracy                           0.73       397\n",
      "   macro avg       0.73      0.73      0.73       397\n",
      "weighted avg       0.73      0.73      0.73       397\n",
      "\n",
      "Accuracy score on test dataset: 72.796%\n"
     ]
    }
   ],
   "source": [
    "\n",
    "# Generate classification report\n",
    "xgb_report = classification_report(test_standardized_y, predictions_standardizedTest)\n",
    "print('\\n Classification report: \\n', xgb_report)\n",
    "\n",
    "# Calculate accuracy score on test dataset\n",
    "xgb_acc = accuracy_score(test_standardized_y, predictions_standardizedTest) * 100\n",
    "print(f'Accuracy score on test dataset: {xgb_acc:.3f}%')"
   ]
  },
  {
   "cell_type": "code",
   "execution_count": 228,
   "metadata": {},
   "outputs": [
    {
     "name": "stdout",
     "output_type": "stream",
     "text": [
      "[[146  55]\n",
      " [ 53 143]]\n"
     ]
    },
    {
     "data": {
      "image/png": "[encoded data removed]",
      "text/plain": [
       "<Figure size 500x500 with 2 Axes>"
      ]
     },
     "metadata": {},
     "output_type": "display_data"
    }
   ],
   "source": [
    "print(confusion_matrix(test_standardized_y, predictions_standardizedTest))\n",
    "#Plot Confusion Matrix \n",
    "cm = confusion_matrix(test_standardized_y, predictions_standardizedTest)\n",
    "plt.figure(figsize=(5,5))\n",
    "sns.heatmap(cm, annot=True, fmt=\".0f\", linewidths=0.5, square = True, cmap = 'Blues_r')\n",
    "plt.ylabel('Actual label')\n",
    "plt.xlabel('Predicted label')\n",
    "plt.title('Confusion Matrix', size = 15)\n",
    "plt.show()"
   ]
  },
  {
   "cell_type": "markdown",
   "metadata": {},
   "source": [
    "# ROC"
   ]
  },
  {
   "cell_type": "code",
   "execution_count": 229,
   "metadata": {},
   "outputs": [
    {
     "data": {
      "image/png": "[encoded data removed]",
      "text/plain": [
       "<Figure size 500x300 with 1 Axes>"
      ]
     },
     "metadata": {},
     "output_type": "display_data"
    }
   ],
   "source": [
    "xgb_fpr,xgb_tpr,_=roc_curve(test_standardized_y, prediction_list[3])\n",
    "xgb_auc=roc_auc_score(test_standardized_y, prediction_list[3])\n",
    "\n",
    "# Plot Curve\n",
    "plt.figure(figsize=(5,3))\n",
    "plt.plot(xgb_fpr,xgb_tpr,label='XGB Prediction (area={:.4f})'.format(xgb_auc))\n",
    "\n",
    "lw = 2\n",
    "plt.plot([0,1], [0,1], color='pink', lw=lw, linestyle='--')\n",
    "\n",
    "plt.title('ROC plot Extreme Gradient Boosting Classifier')\n",
    "plt.xlabel('False Positive rate')\n",
    "plt.ylabel('True Positive rate')\n",
    "plt.legend(loc='best')\n",
    "plt.show()"
   ]
  },
  {
   "cell_type": "markdown",
   "metadata": {},
   "source": [
    "# Bootstrap"
   ]
  },
  {
   "cell_type": "code",
   "execution_count": 230,
   "metadata": {},
   "outputs": [],
   "source": [
    "# from sklearn.utils import resample\n",
    "# xgb_params = {\n",
    "#     'reg_alpha': 0.9,\n",
    "#     'reg_lambda': 0.9,\n",
    "#     'max_depth': 2,\n",
    "#     'learning_rate': 0.03,\n",
    "#     'subsample': 0.75,\n",
    "#     'random_state': 231,\n",
    "#     'verbosity': 0,\n",
    "#     'eval_metric': 'mlogloss'\n",
    "# }\n",
    "\n",
    "# # Initialize variables\n",
    "# n_estimators = 5  # Reduce the number of bootstrap samples for quicker demonstration\n",
    "# predictions = []  # To store predictions of each model\n",
    "\n",
    "# # Perform bagging\n",
    "# for i in range(n_estimators):\n",
    "#     # Step 1: Create a bootstrap sample of the data\n",
    "#     X_bootstrap, y_bootstrap = resample(train_standardized_x, train_standardized_y, replace=True)\n",
    "    \n",
    "#     # Step 2: Train an XGBoost model on this bootstrap sample (limit the number of boosting rounds for speed)\n",
    "#     bootxgb = XGBClassifier( \n",
    "#         colsample_bytree=0.6,\n",
    "#         colsample_bylevel=0.7,\n",
    "#         **xgb_params\n",
    "#     )\n",
    "#     bootxgb.fit(X_bootstrap, y_bootstrap)\n",
    "    \n",
    "#     # Step 3: Use the trained model to make predictions on the test data\n",
    "#     pred = bootxgb.predict(X_test)\n",
    "#     predictions.append(pred)\n",
    "\n",
    "# # Average the predictions\n",
    "# avg_predictions = np.round(np.mean(predictions, axis=0))\n",
    "\n",
    "# # Evaluate the performance\n",
    "# accuracy = accuracy_score(y_test, avg_predictions)\n",
    "# accuracy\n"
   ]
  },
  {
   "cell_type": "markdown",
   "metadata": {},
   "source": [
    "# Stacking Classifier "
   ]
  },
  {
   "cell_type": "code",
   "execution_count": 231,
   "metadata": {},
   "outputs": [],
   "source": [
    "# from sklearn.model_selection import GridSearchCV\n",
    "\n",
    "# # Define the hyperparameter grid for base models\n",
    "# base_param_grid = {\n",
    "#     'max_depth': [2, 3],\n",
    "#     'learning_rate': [0.1, 0.01],\n",
    "#     'subsample': [0.8, 0.9],\n",
    "#     # Add more hyperparameters to explore\n",
    "# }\n",
    "\n",
    "# # Define the hyperparameter grid for the meta-learner\n",
    "# meta_param_grid = {\n",
    "#     'max_depth': [2, 3],\n",
    "#     'learning_rate': [0.1, 0.01],\n",
    "#     'subsample': [0.75, 0.8],\n",
    "#     # Add more hyperparameters to explore\n",
    "# }\n"
   ]
  },
  {
   "cell_type": "code",
   "execution_count": 232,
   "metadata": {},
   "outputs": [],
   "source": [
    "# # Initialize the base model grid search\n",
    "# base_grid_search = GridSearchCV(\n",
    "#     estimator=XGBClassifier(random_state=231, verbosity=0, eval_metric='logloss'),\n",
    "#     param_grid=base_param_grid,\n",
    "#     scoring='accuracy',  # Use accuracy as the scoring metric\n",
    "#     cv=5  # Number of cross-validation folds\n",
    "# )\n",
    "\n",
    "# # Initialize the meta-learner grid search\n",
    "# meta_grid_search = GridSearchCV(\n",
    "#     estimator=XGBClassifier(random_state=231, verbosity=0, eval_metric='logloss'),\n",
    "#     param_grid=meta_param_grid,\n",
    "#     scoring='accuracy',  # Use accuracy as the scoring metric\n",
    "#     cv=5  # Number of cross-validation folds\n",
    "# )\n"
   ]
  },
  {
   "cell_type": "code",
   "execution_count": 233,
   "metadata": {},
   "outputs": [],
   "source": [
    "# # Fit the base model grid search\n",
    "# base_grid_search.fit(train_standardized_x, train_standardized_y)\n",
    "\n",
    "# # Fit the meta-learner grid search\n",
    "# meta_grid_search.fit(train_standardized_x, train_standardized_y)\n"
   ]
  },
  {
   "cell_type": "code",
   "execution_count": 234,
   "metadata": {},
   "outputs": [],
   "source": [
    "# from sklearn.ensemble import StackingClassifier\n",
    "# from sklearn.model_selection import GridSearchCV\n",
    "# from sklearn.metrics import accuracy_score\n",
    "# from xgboost import XGBClassifier\n",
    "\n",
    "# # Define the list of base learner models\n",
    "# base_learner_models = [\n",
    "#     ('model_1', XGBClassifier()),\n",
    "#     ('model_2', XGBClassifier()),\n",
    "#     ('model_3', XGBClassifier())\n",
    "#     # Add more base learner models here\n",
    "# ]\n",
    "\n",
    "# # Define the meta-learner model\n",
    "# meta_learner = XGBClassifier()\n",
    "\n",
    "# # Create the stacking ensemble model\n",
    "# stacking_model = StackingClassifier(\n",
    "#     estimators=base_learner_models,\n",
    "#     final_estimator=meta_learner,\n",
    "#     cv=5  # Number of cross-validation folds for training the meta-learner\n",
    "# )\n",
    "\n",
    "# # Fit the stacking ensemble model\n",
    "# stacking_model.fit(train_standardized_x, train_standardized_y)\n",
    "\n",
    "# # Predictions from the stacking ensemble\n",
    "# ensemble_predictions_train = stacking_model.predict(train_standardized_x)\n",
    "# ensemble_predictions_test = stacking_model.predict(test_standardized_x)\n",
    "\n",
    "# # Calculate ensemble accuracy\n",
    "# ensemble_accuracy_train = accuracy_score(train_standardized_y, ensemble_predictions_train)\n",
    "# print(\"Ensemble Accuracy on Training Data: %.2f%%\" % (ensemble_accuracy_train * 100))\n",
    "# ensemble_accuracy_test = accuracy_score(test_standardized_y, ensemble_predictions_test)\n",
    "# print(\"Ensemble Accuracy on Testing Data: %.2f%%\" % (ensemble_accuracy_test * 100))\n"
   ]
  },
  {
   "cell_type": "code",
   "execution_count": 235,
   "metadata": {},
   "outputs": [],
   "source": [
    "# from sklearn.ensemble import StackingClassifier, RandomForestClassifier\n",
    "# from sklearn.model_selection import GridSearchCV\n",
    "# from sklearn.metrics import accuracy_score\n",
    "# from xgboost import XGBClassifier\n",
    "\n",
    "# # Define the list of base learner models\n",
    "# base_learner_models = [\n",
    "#     ('xgb_model', XGBClassifier()),  # XGBoost base model\n",
    "#     ('rf_model', RandomForestClassifier())  # Random Forest base model\n",
    "#     # Add more base learner models here\n",
    "# ]\n",
    "\n",
    "# # Define the meta-learner model\n",
    "# meta_learner = XGBClassifier()\n",
    "\n",
    "# # Create the stacking ensemble model\n",
    "# stacking_model = StackingClassifier(\n",
    "#     estimators=base_learner_models,\n",
    "#     final_estimator=meta_learner,\n",
    "#     cv=5  # Number of cross-validation folds for training the meta-learner\n",
    "# )\n",
    "\n",
    "# # Fit the stacking ensemble model\n",
    "# stacking_model.fit(train_standardized_x, train_standardized_y)\n",
    "\n",
    "# # Predictions from the stacking ensemble\n",
    "# ensemble_predictions_train = stacking_model.predict(train_standardized_x)\n",
    "# ensemble_predictions_test = stacking_model.predict(test_standardized_x)\n",
    "\n",
    "# # Calculate ensemble accuracy\n",
    "# ensemble_accuracy_train = accuracy_score(train_standardized_y, ensemble_predictions_train)\n",
    "# print(\"Ensemble Accuracy on Training Data: %.2f%%\" % (ensemble_accuracy_train * 100))\n",
    "# ensemble_accuracy_test = accuracy_score(test_standardized_y, ensemble_predictions_test)\n",
    "# print(\"Ensemble Accuracy on Testing Data: %.2f%%\" % (ensemble_accuracy_test * 100))\n"
   ]
  },
  {
   "cell_type": "code",
   "execution_count": 236,
   "metadata": {},
   "outputs": [],
   "source": [
    "# from sklearn.ensemble import StackingClassifier\n",
    "\n",
    "\n",
    "# # # Define the list of base learner models\n",
    "# # base_learner_models = [\n",
    "# #     ('model_1', XGBClassifier(\n",
    "# #         reg_alpha=0.75, reg_lambda=0.75, max_depth=3, learning_rate=0.045, subsample=0.8,\n",
    "# #         random_state=231, verbosity=0, eval_metric='mlogloss'\n",
    "# #     )),\n",
    "# #     ('model_2', XGBClassifier(\n",
    "# #         reg_alpha=0.8, reg_lambda=0.8, max_depth=2, learning_rate=0.04, subsample=0.85,\n",
    "# #         random_state=231, verbosity=0, eval_metric='mlogloss'\n",
    "# #     )),\n",
    "# #     ('model_3', XGBClassifier(\n",
    "# #         reg_alpha=0.85, reg_lambda=0.85, max_depth=3, learning_rate=0.035, subsample=0.9,\n",
    "# #         random_state=231, verbosity=0, eval_metric='mlogloss'\n",
    "# #     ))\n",
    "# #     # Add more base learner models here\n",
    "# # ]\n",
    "\n",
    "# base_learner_models = [\n",
    "#     ('model_1', XGBClassifier(\n",
    "#         max_depth=2, learning_rate=0.1, subsample=0.8,\n",
    "#         random_state=231, verbosity=0, eval_metric='logloss'\n",
    "#     )),\n",
    "#     ('model_2', XGBClassifier(\n",
    "#         max_depth=2, learning_rate=0.1, subsample=0.8,\n",
    "#         random_state=231, verbosity=0, eval_metric='logloss'\n",
    "#     )),\n",
    "#     ('model_3', XGBClassifier(\n",
    "#         max_depth=2, learning_rate=0.1, subsample=0.8,\n",
    "#         random_state=231, verbosity=0, eval_metric='logloss'\n",
    "#     ))\n",
    "#     # Add more base learner models here\n",
    "# ]\n",
    "\n",
    "# # Define the meta-learner model\n",
    "# meta_learner = XGBClassifier(\n",
    "#     reg_alpha=0.9, reg_lambda=0.9, max_depth=2, learning_rate=0.03, subsample=0.75,\n",
    "#     random_state=231, verbosity=0, eval_metric='mlogloss'\n",
    "# )\n",
    "\n",
    "# # Create the stacking ensemble model\n",
    "# stacking_model = StackingClassifier(\n",
    "#     estimators=base_learner_models,\n",
    "#     final_estimator=meta_learner,\n",
    "#     cv=5  # Number of cross-validation folds for training the meta-learner\n",
    "# )\n",
    "\n",
    "# # Fit the stacking ensemble model\n",
    "# stacking_model.fit(train_standardized_x, train_standardized_y)\n",
    "\n",
    "# # Predictions from the stacking ensemble\n",
    "# ensemble_predictions_train = stacking_model.predict(train_standardized_x)\n",
    "# ensemble_predictions_test = stacking_model.predict(test_standardized_x)\n",
    "\n",
    "# # Calculate ensemble accuracy\n",
    "# ensemble_accuracy_train = accuracy_score(train_standardized_y, ensemble_predictions_train)\n",
    "# print(\"Ensemble Accuracy on Training Data: %.2f%%\" % (ensemble_accuracy_train * 100))\n",
    "# ensemble_accuracy_test = accuracy_score(test_standardized_y, ensemble_predictions_test)\n",
    "# print(\"Ensemble Accuracy on Testing Data: %.2f%%\" % (ensemble_accuracy_test * 100))\n"
   ]
  },
  {
   "cell_type": "markdown",
   "metadata": {},
   "source": [
    "# Voting Approach"
   ]
  },
  {
   "cell_type": "code",
   "execution_count": 237,
   "metadata": {},
   "outputs": [],
   "source": [
    "# from sklearn.ensemble import VotingClassifier\n",
    "# from sklearn.linear_model import LogisticRegression\n",
    "# from sklearn.svm import SVC\n",
    "\n",
    "\n",
    "# # Define the individual classifiers\n",
    "# xgb_classifier = XGBClassifier(\n",
    "#     reg_alpha=0.9,  # Increased L1 regularization term to prevent overfitting\n",
    "#     reg_lambda=0.9,  # Increased L2 regularization term to prevent overfitting\n",
    "#     max_depth=2,  # Reduced maximum depth to control complexity\n",
    "#     learning_rate=0.03,  # Slightly reduced learning rate\n",
    "#     subsample=0.75,  # Reduced subsample fraction to add more regularization\n",
    "#     random_state=231, \n",
    "#     verbosity=0,  \n",
    "#     eval_metric='mlogloss'\n",
    "# )\n",
    "# logreg_classifier = LogisticRegression(\n",
    "#     C=1.0,  # Regularization parameter, lower values for stronger regularization\n",
    "#     penalty='l2',  # Regularization type, 'l1' or 'l2'\n",
    "#     solver='lbfgs',  # Optimization algorithm, 'lbfgs', 'sag', 'saga', or 'newton-cg'\n",
    "#     max_iter=100,  # Maximum number of iterations for convergence\n",
    "#     random_state=42\n",
    "# )\n",
    "\n",
    "# svm_model = SVC(\n",
    "#     C=1.0,\n",
    "#     kernel='rbf',\n",
    "#     gamma='scale',\n",
    "#     random_state=231\n",
    "# )\n",
    "\n",
    "# # Create the voting classifier\n",
    "# voting_classifier = VotingClassifier(\n",
    "#     estimators=[('xgb', xgb_classifier), ('logreg', logreg_classifier),('svm', svm_model)],\n",
    "#     voting='hard'  # Use 'soft' voting for probabilistic classifiers like XGBoost\n",
    "# )\n",
    "\n",
    "# # Train the voting classifier on your training data\n",
    "# voting_classifier.fit(train_standardized_x, train_standardized_y)\n",
    "\n",
    "# # Predict on the test data\n",
    "# voting_predictions_train = voting_classifier.predict(train_standardized_x)\n",
    "# voting_predictions_test = voting_classifier.predict(test_standardized_x)\n",
    "\n",
    "# # Calculate accuracy on the test data\n",
    "# voting_accuracy_train = accuracy_score(train_standardized_y, voting_predictions_train)\n",
    "# print(\"Voting Accuracy on Training:\", voting_accuracy_train)\n",
    "# voting_accuracy_test = accuracy_score(test_standardized_y, voting_predictions_test)\n",
    "# print(\"Voting Accuracy on Testing:\", voting_accuracy_test)\n"
   ]
  },
  {
   "cell_type": "markdown",
   "metadata": {},
   "source": [
    "# Deployment"
   ]
  },
  {
   "cell_type": "code",
   "execution_count": 239,
   "metadata": {},
   "outputs": [],
   "source": [
    "# pip install spotipy"
   ]
  },
  {
   "cell_type": "code",
   "execution_count": 240,
   "metadata": {},
   "outputs": [
    {
     "name": "stdout",
     "output_type": "stream",
     "text": [
      "Acousticness: 0.976\n",
      "Danceability: 0.476\n",
      "Duration: 98040 ms\n",
      "Energy: 0.192\n",
      "Instrumentalness: 0.928\n",
      "Liveness: 0.119\n",
      "Loudness: -15.753 dB\n",
      "Speechiness: 0.064\n",
      "Tempo: 116.542 BPM\n",
      "Valence: 0.114\n",
      "Mode: 1\n",
      "Time signature: 3\n",
      "Key: 9\n",
      "Title: Mia & Sebastian’s Theme\n",
      "Artist: Justin Hurwitz\n"
     ]
    }
   ],
   "source": [
    "# Set your Spotify API credentials\n",
    "client_id = '6291dd76ffb744299366b81b9cddfe5c'\n",
    "client_secret = '14e1d9b1399a4d8e8ea34e09717b4815'\n",
    "client_credentials_manager = SpotifyClientCredentials(client_id=client_id, client_secret=client_secret)\n",
    "sp = spotipy.Spotify(client_credentials_manager=client_credentials_manager)\n",
    "\n",
    "# Set the track ID of the track you want to get features for\n",
    "# track_id = '7xGfFoTpQ2E7fRF5lN10tr'\n",
    "track_id = 'https://open.spotify.com/track/1Vk4yRsz0iBzDiZEoFMQyv?si=53b87f6c6f484ec5'\n",
    "# https://open.spotify.com/track/74jrWagytptonwEtnEQ7BX?si=faeb79bfb2294f65\n",
    "\n",
    "# Get the track features\n",
    "track = sp.audio_features(track_id)[0]\n",
    "\n",
    "# Print the track features\n",
    "print(f\"Acousticness: {track['acousticness']}\")\n",
    "print(f\"Danceability: {track['danceability']}\")\n",
    "print(f\"Duration: {track['duration_ms']} ms\")\n",
    "print(f\"Energy: {track['energy']}\")\n",
    "print(f\"Instrumentalness: {track['instrumentalness']}\")\n",
    "print(f\"Liveness: {track['liveness']}\")\n",
    "print(f\"Loudness: {track['loudness']} dB\")\n",
    "print(f\"Speechiness: {track['speechiness']}\")\n",
    "print(f\"Tempo: {track['tempo']} BPM\")\n",
    "print(f\"Valence: {track['valence']}\")\n",
    "print(f\"Mode: {track['mode']}\")\n",
    "print(f\"Time signature: {track['time_signature']}\")\n",
    "print(f\"Key: {track['key']}\")\n",
    "\n",
    "# Get the track's title and artist\n",
    "track_info = sp.track(track_id)\n",
    "print(f\"Title: {track_info['name']}\")\n",
    "print(f\"Artist: {track_info['artists'][0]['name']}\")"
   ]
  },
  {
   "cell_type": "code",
   "execution_count": 241,
   "metadata": {},
   "outputs": [
    {
     "name": "stdout",
     "output_type": "stream",
     "text": [
      "Playlist ID: 1PkLqSEP0rFaw6pw94DZbP\n"
     ]
    }
   ],
   "source": [
    "# Prompt the user for a playlist link\n",
    "link = input(\"Enter a Spotify playlist link: \")\n",
    "\n",
    "# Extract the playlist ID using a regular expression\n",
    "pattern = r'https://open\\.spotify\\.com/playlist/(\\w+)'\n",
    "match = re.search(pattern, link)\n",
    "\n",
    "# Print the playlist ID\n",
    "if match:\n",
    "    playlist_id = match.group(1)\n",
    "    print(\"Playlist ID:\", playlist_id)\n",
    "else:\n",
    "    print(\"Error: Invalid playlist link\")"
   ]
  },
  {
   "cell_type": "code",
   "execution_count": 242,
   "metadata": {},
   "outputs": [
    {
     "name": "stdout",
     "output_type": "stream",
     "text": [
      "List of Track ID:\n",
      "3xyr2xfbSZiZWWGsjLyMFh,0UMFm4ndFr3PH5VsVYnCNG,5fUzMvyRsUklP0Pdmsh9Mz,5CpafRMWLtB396af979XKR,5q2zRUEMUMh51Ipd97bmAa,5cDmSimrJf4iGm0Mj99pM7,4vg3xQeDwIMwedbnIqa3P4,6JJgmmfMsoGTzwCe2f2K8u,0FKWArXGCU85So3loikCPp,6qIuV4XGihbOG6vYl91sUw,5xvDr5nn3ofCqObkc3Gt5T,3febxmQ2ftM7EUulJXWK7r,77O6okWAa1a7p0kGLs7KlD,26E6EusHnVuneZVE7wJiQ8,33wscN93xwAIS8obMTn6L0,5kLuXO6BmG7hgCs9rS6PkV,1ZtZutPGR7gyprrXxUOFHa,7qEEJ0yuziODsn7CE4Bn99,0A9V6tOEqsKjrJnrWBfPxA,4eRgWKU4AjVKGmtvMbRNXW,0c4XnoxE9xP1qwLjx7F82E,6r3A0vlgi3kFWNwnmKxFRb,3lxViAZ7jeq8N2ovkS6f0Q,3qjImDjgEPaZ94MeBm8nYi,7kGywq6V4lMuOJhZzahpuy,2J6GIqpGaat1AmMkd0zVd2,5V11MVNqBs1ho2vxIREgOl,7ud2U1f9oUrsK96msnWfbO,3Yk0rZxWOETWZcF2EcqhmS,5SAMnnAkOzV8HwQ9CtNrXu,5Y4vRBs4QCUloQ5W9Wb58j,4If7JKEkzeY0WusIrOdQlC,7lYUUqp5hTIiq9f2dDdaSz,22rq6IQa0p9IAxWBaDFut6,0rWyJwte7GCnKDI4b9rCh9,4ZePjigr9RqXs5YwygTVF0,2uiPfEAjXAkEvze2zbkAE2,0CsCzQNqeCEd4NacKr6rE2,6SBAI2JAUvZ3vYKVkB0igS,2UltDQDKUGVQXfRc9Ha4kZ,63y6xWR4gXz7bnUGOk8iI6,0Fc6pAZNzdsX19EMoSyBN7,07UPxtlnFEJnvUAzVsSslF,33tIWGBrpvK2q8Drp1tsDS,2Z6F1yDzWwrmfIg6RjwiMJ,3yLlAwj7HkjwRZtASmVkY0,4PulwkFGTFU7NA7CBQ4MbP,3TGz9gT0PhDFVmNjL90WV8,0MZk4pqofifhqJtcCyZp2B,0hO9bJtwEKG8u0AprVxBsc,20wf6R597xrBnZDLQPTntu,0FwS62mHjurcuKSxo5lz2b,7jaUNBPvGPvoIneteNQKd9,0tfdhbTzWw4S7MMG3Euw50,2Q8RHobTb8THRHXi6WvQZ4,5m0b7wtbkbpUJstSPf6RN5,0Jrk8Gnx8w9ZTeZk5xCgTN,3pJZMvWcUqOvxpGTI8Gy24,6TWyovANNXW8sfq3XRR8SK,0SjPfD2GuBJqlBfJYqtysB,2JJoUZhEMlUHEWYLMA58yY,6EPmTRH6565GEuo28f20rG,2ylUEPncxIE8zBoDEIBv40,1TBtBOCF94xbvzM4Xtc4zY,0ODp4fhCOXpxdUMD6ghM3V,2on0ce7TpJ2MsyHM9CtZk1,2FDp15gczF8pqOOeuZMQTf,2Pi7x2sdCcp4JzQnrksi3D,54k1sjs3bv6XbErGGLErXF,4TplYBcU3k519OR8V6We3k,30YwNPjL8G6O1GaTP5obhV,7fL7ZuSeJOSAzWsl9lAhCI,7j5OZAS2znSsUAFC50eY0C,16aFPqIiQsVpJTChYA1Gjg,5tvi0JsT6JjozCGalYNQI1,3GWK3TIysIPN427WrXmwuq,3KKUf8F2hktFscLgbH4YwR,4B1v3eXif7FRZXmRPmKijn,0Ff7u1UYtXrXe6ZtvdS2O1,309cZ6RDEPRR5ewDl9leVY,3sB8HTeJjfPd0D878FegRc,0VF7YLIxSQKyNiFL3X6MmN,1aqZp01j3BS4avrtyP57D7,63CGV6P4cEYZvUgvVhZWAl,5uSwYU4V1hFDZYEHF87RmK,2aOrJTA8AUVWPBjSB4negX,5bB4eyM0bd4i5YIB3SyfBF,7bhpOnHyttMaBCg6WGCRzi,3eZReaCGyJoXQvXCN9HuG9,4VpCLDwfdVvyIdA1VKtPEs,0WHWD1OwKWBiESxUEqf8x0,4C685FuFbEE7YGQy8mi3Zw,0CWvHfEwbeBVN0RViTybvL,5bCmPv8ymn6TkphrMZKNzk,1CuEBhgQ1qzcNDzV5EunkM,13795WBWdWvQHCXeOPLCWQ,6MFtTpEpk8Q2hZKKfid7SE,0QpZlgHM4E0nvVw4gy6S35\n"
     ]
    }
   ],
   "source": [
    "# Set your Spotify API credentials\n",
    "client_id = '6291dd76ffb744299366b81b9cddfe5c'\n",
    "client_secret = '14e1d9b1399a4d8e8ea34e09717b4815'\n",
    "client_credentials_manager = SpotifyClientCredentials(client_id=client_id, client_secret=client_secret)\n",
    "sp = spotipy.Spotify(client_credentials_manager=client_credentials_manager)\n",
    "\n",
    "# Set the playlist ID and owner ID\n",
    "# playlist_id = '37i9dQZF1DXdnyffTsenNZ'\n",
    "# playlist_id = '7gBryLKmZVKEv589tp3ciH'\n",
    "playlist_id = input(\"Enter a Spotify Playlist_ID: \")\n",
    "# owner_id = 'spotify'\n",
    "\n",
    "# Get the playlist tracks\n",
    "results = sp.playlist_tracks(playlist_id)\n",
    "tracks = results['items']\n",
    "\n",
    "# Print the track IDs\n",
    "# for track in tracks:\n",
    "#     print(track['track']['id'], end=',')\n",
    "\n",
    "print(\"List of Track ID:\")\n",
    "\n",
    "for i, track in enumerate(tracks):\n",
    "    if i == len(tracks) - 1:  # Last track\n",
    "        print(track['track']['id'])\n",
    "    else:\n",
    "        print(track['track']['id'], end=',')"
   ]
  },
  {
   "cell_type": "code",
   "execution_count": 243,
   "metadata": {},
   "outputs": [
    {
     "data": {
      "text/html": [
       "<div>\n",
       "<style scoped>\n",
       "    .dataframe tbody tr th:only-of-type {\n",
       "        vertical-align: middle;\n",
       "    }\n",
       "\n",
       "    .dataframe tbody tr th {\n",
       "        vertical-align: top;\n",
       "    }\n",
       "\n",
       "    .dataframe thead th {\n",
       "        text-align: right;\n",
       "    }\n",
       "</style>\n",
       "<table border=\"1\" class=\"dataframe\">\n",
       "  <thead>\n",
       "    <tr style=\"text-align: right;\">\n",
       "      <th></th>\n",
       "      <th>acousticness</th>\n",
       "      <th>danceability</th>\n",
       "      <th>duration_ms</th>\n",
       "      <th>energy</th>\n",
       "      <th>instrumentalness</th>\n",
       "      <th>key</th>\n",
       "      <th>liveness</th>\n",
       "      <th>loudness</th>\n",
       "      <th>mode</th>\n",
       "      <th>speechiness</th>\n",
       "      <th>tempo</th>\n",
       "      <th>time_signature</th>\n",
       "      <th>valence</th>\n",
       "      <th>song_title</th>\n",
       "      <th>artist</th>\n",
       "    </tr>\n",
       "  </thead>\n",
       "  <tbody>\n",
       "    <tr>\n",
       "      <th>0</th>\n",
       "      <td>0.4840</td>\n",
       "      <td>0.856</td>\n",
       "      <td>134782</td>\n",
       "      <td>0.656</td>\n",
       "      <td>0.000000</td>\n",
       "      <td>5</td>\n",
       "      <td>0.559</td>\n",
       "      <td>-6.475</td>\n",
       "      <td>1</td>\n",
       "      <td>0.0752</td>\n",
       "      <td>133.927</td>\n",
       "      <td>4</td>\n",
       "      <td>0.949</td>\n",
       "      <td>Hotel</td>\n",
       "      <td>Claire Rosinkranz</td>\n",
       "    </tr>\n",
       "    <tr>\n",
       "      <th>1</th>\n",
       "      <td>0.2980</td>\n",
       "      <td>0.694</td>\n",
       "      <td>175609</td>\n",
       "      <td>0.637</td>\n",
       "      <td>0.000010</td>\n",
       "      <td>9</td>\n",
       "      <td>0.123</td>\n",
       "      <td>-5.896</td>\n",
       "      <td>1</td>\n",
       "      <td>0.0806</td>\n",
       "      <td>83.982</td>\n",
       "      <td>4</td>\n",
       "      <td>0.506</td>\n",
       "      <td>forever&amp;more</td>\n",
       "      <td>ROLE MODEL</td>\n",
       "    </tr>\n",
       "    <tr>\n",
       "      <th>2</th>\n",
       "      <td>0.1900</td>\n",
       "      <td>0.836</td>\n",
       "      <td>168849</td>\n",
       "      <td>0.459</td>\n",
       "      <td>0.003290</td>\n",
       "      <td>9</td>\n",
       "      <td>0.318</td>\n",
       "      <td>-9.210</td>\n",
       "      <td>0</td>\n",
       "      <td>0.1130</td>\n",
       "      <td>91.983</td>\n",
       "      <td>4</td>\n",
       "      <td>0.443</td>\n",
       "      <td>Darker Place</td>\n",
       "      <td>Rachel Chinouriri</td>\n",
       "    </tr>\n",
       "    <tr>\n",
       "      <th>3</th>\n",
       "      <td>0.2190</td>\n",
       "      <td>0.547</td>\n",
       "      <td>206576</td>\n",
       "      <td>0.607</td>\n",
       "      <td>0.000012</td>\n",
       "      <td>3</td>\n",
       "      <td>0.120</td>\n",
       "      <td>-8.536</td>\n",
       "      <td>1</td>\n",
       "      <td>0.0760</td>\n",
       "      <td>183.871</td>\n",
       "      <td>4</td>\n",
       "      <td>0.217</td>\n",
       "      <td>Gravity</td>\n",
       "      <td>Molly Warburton</td>\n",
       "    </tr>\n",
       "    <tr>\n",
       "      <th>4</th>\n",
       "      <td>0.2950</td>\n",
       "      <td>0.716</td>\n",
       "      <td>156992</td>\n",
       "      <td>0.530</td>\n",
       "      <td>0.000000</td>\n",
       "      <td>8</td>\n",
       "      <td>0.130</td>\n",
       "      <td>-8.275</td>\n",
       "      <td>1</td>\n",
       "      <td>0.2180</td>\n",
       "      <td>93.024</td>\n",
       "      <td>4</td>\n",
       "      <td>0.635</td>\n",
       "      <td>Rocketship</td>\n",
       "      <td>Llunr</td>\n",
       "    </tr>\n",
       "    <tr>\n",
       "      <th>...</th>\n",
       "      <td>...</td>\n",
       "      <td>...</td>\n",
       "      <td>...</td>\n",
       "      <td>...</td>\n",
       "      <td>...</td>\n",
       "      <td>...</td>\n",
       "      <td>...</td>\n",
       "      <td>...</td>\n",
       "      <td>...</td>\n",
       "      <td>...</td>\n",
       "      <td>...</td>\n",
       "      <td>...</td>\n",
       "      <td>...</td>\n",
       "      <td>...</td>\n",
       "      <td>...</td>\n",
       "    </tr>\n",
       "    <tr>\n",
       "      <th>93</th>\n",
       "      <td>0.3320</td>\n",
       "      <td>0.751</td>\n",
       "      <td>194133</td>\n",
       "      <td>0.486</td>\n",
       "      <td>0.038000</td>\n",
       "      <td>1</td>\n",
       "      <td>0.108</td>\n",
       "      <td>-10.730</td>\n",
       "      <td>1</td>\n",
       "      <td>0.0372</td>\n",
       "      <td>120.014</td>\n",
       "      <td>4</td>\n",
       "      <td>0.408</td>\n",
       "      <td>Kenny</td>\n",
       "      <td>Still Woozy</td>\n",
       "    </tr>\n",
       "    <tr>\n",
       "      <th>94</th>\n",
       "      <td>0.0495</td>\n",
       "      <td>0.710</td>\n",
       "      <td>146484</td>\n",
       "      <td>0.831</td>\n",
       "      <td>0.005690</td>\n",
       "      <td>0</td>\n",
       "      <td>0.349</td>\n",
       "      <td>-7.208</td>\n",
       "      <td>1</td>\n",
       "      <td>0.0299</td>\n",
       "      <td>129.021</td>\n",
       "      <td>4</td>\n",
       "      <td>0.933</td>\n",
       "      <td>Courtside</td>\n",
       "      <td>Tim Atlas</td>\n",
       "    </tr>\n",
       "    <tr>\n",
       "      <th>95</th>\n",
       "      <td>0.3210</td>\n",
       "      <td>0.710</td>\n",
       "      <td>177415</td>\n",
       "      <td>0.342</td>\n",
       "      <td>0.599000</td>\n",
       "      <td>6</td>\n",
       "      <td>0.139</td>\n",
       "      <td>-7.222</td>\n",
       "      <td>1</td>\n",
       "      <td>0.0651</td>\n",
       "      <td>173.050</td>\n",
       "      <td>4</td>\n",
       "      <td>0.456</td>\n",
       "      <td>Drive Slow</td>\n",
       "      <td>Calica</td>\n",
       "    </tr>\n",
       "    <tr>\n",
       "      <th>96</th>\n",
       "      <td>0.1090</td>\n",
       "      <td>0.592</td>\n",
       "      <td>188143</td>\n",
       "      <td>0.733</td>\n",
       "      <td>0.201000</td>\n",
       "      <td>5</td>\n",
       "      <td>0.591</td>\n",
       "      <td>-7.090</td>\n",
       "      <td>1</td>\n",
       "      <td>0.0544</td>\n",
       "      <td>104.977</td>\n",
       "      <td>4</td>\n",
       "      <td>0.695</td>\n",
       "      <td>FEEL LIKE</td>\n",
       "      <td>Josh Fudge</td>\n",
       "    </tr>\n",
       "    <tr>\n",
       "      <th>97</th>\n",
       "      <td>0.8880</td>\n",
       "      <td>0.698</td>\n",
       "      <td>251000</td>\n",
       "      <td>0.180</td>\n",
       "      <td>0.823000</td>\n",
       "      <td>2</td>\n",
       "      <td>0.159</td>\n",
       "      <td>-17.885</td>\n",
       "      <td>1</td>\n",
       "      <td>0.0401</td>\n",
       "      <td>118.087</td>\n",
       "      <td>4</td>\n",
       "      <td>0.583</td>\n",
       "      <td>The Bells</td>\n",
       "      <td>Joe Vann</td>\n",
       "    </tr>\n",
       "  </tbody>\n",
       "</table>\n",
       "<p>98 rows × 15 columns</p>\n",
       "</div>"
      ],
      "text/plain": [
       "    acousticness  danceability  duration_ms  energy  instrumentalness  key  \\\n",
       "0         0.4840         0.856       134782   0.656          0.000000    5   \n",
       "1         0.2980         0.694       175609   0.637          0.000010    9   \n",
       "2         0.1900         0.836       168849   0.459          0.003290    9   \n",
       "3         0.2190         0.547       206576   0.607          0.000012    3   \n",
       "4         0.2950         0.716       156992   0.530          0.000000    8   \n",
       "..           ...           ...          ...     ...               ...  ...   \n",
       "93        0.3320         0.751       194133   0.486          0.038000    1   \n",
       "94        0.0495         0.710       146484   0.831          0.005690    0   \n",
       "95        0.3210         0.710       177415   0.342          0.599000    6   \n",
       "96        0.1090         0.592       188143   0.733          0.201000    5   \n",
       "97        0.8880         0.698       251000   0.180          0.823000    2   \n",
       "\n",
       "    liveness  loudness  mode  speechiness    tempo  time_signature  valence  \\\n",
       "0      0.559    -6.475     1       0.0752  133.927               4    0.949   \n",
       "1      0.123    -5.896     1       0.0806   83.982               4    0.506   \n",
       "2      0.318    -9.210     0       0.1130   91.983               4    0.443   \n",
       "3      0.120    -8.536     1       0.0760  183.871               4    0.217   \n",
       "4      0.130    -8.275     1       0.2180   93.024               4    0.635   \n",
       "..       ...       ...   ...          ...      ...             ...      ...   \n",
       "93     0.108   -10.730     1       0.0372  120.014               4    0.408   \n",
       "94     0.349    -7.208     1       0.0299  129.021               4    0.933   \n",
       "95     0.139    -7.222     1       0.0651  173.050               4    0.456   \n",
       "96     0.591    -7.090     1       0.0544  104.977               4    0.695   \n",
       "97     0.159   -17.885     1       0.0401  118.087               4    0.583   \n",
       "\n",
       "      song_title             artist  \n",
       "0          Hotel  Claire Rosinkranz  \n",
       "1   forever&more         ROLE MODEL  \n",
       "2   Darker Place  Rachel Chinouriri  \n",
       "3        Gravity    Molly Warburton  \n",
       "4     Rocketship              Llunr  \n",
       "..           ...                ...  \n",
       "93         Kenny        Still Woozy  \n",
       "94     Courtside          Tim Atlas  \n",
       "95    Drive Slow             Calica  \n",
       "96     FEEL LIKE         Josh Fudge  \n",
       "97     The Bells           Joe Vann  \n",
       "\n",
       "[98 rows x 15 columns]"
      ]
     },
     "execution_count": 243,
     "metadata": {},
     "output_type": "execute_result"
    }
   ],
   "source": [
    "# Set your Spotify API credentials\n",
    "client_id = '6291dd76ffb744299366b81b9cddfe5c'\n",
    "client_secret = '14e1d9b1399a4d8e8ea34e09717b4815'\n",
    "client_credentials_manager = SpotifyClientCredentials(client_id=client_id, client_secret=client_secret)\n",
    "sp = spotipy.Spotify(client_credentials_manager=client_credentials_manager)\n",
    "\n",
    "# Prompt the user for a list of track IDs\n",
    "track_ids = input(\"Enter a list of track IDs (separated by commas or new lines): \")\n",
    "track_ids = re.split(r'[,\\n]', track_ids)  # Split on commas and new lines\n",
    "\n",
    "# Initialize an empty list to store the track features\n",
    "tracks = []\n",
    "\n",
    "# Get the track features for each track\n",
    "for track_id in track_ids:\n",
    "    # Get the track information from the Spotify API\n",
    "    track_info = sp.track(track_id)\n",
    "    \n",
    "    # Extract the track name and artist name from the track information\n",
    "    song_title = track_info['name']\n",
    "    artist = track_info['artists'][0]['name']\n",
    "    \n",
    "    # Get the track features from the Spotify API\n",
    "    try:\n",
    "        track = sp.audio_features(track_id)[0]\n",
    "    except TypeError:\n",
    "        print(f\"Error: Unable to get features for track {track_id}\")\n",
    "        continue\n",
    "    track_data = {\n",
    "#         'track_id': track_id,\n",
    "        'acousticness': track['acousticness'],\n",
    "        'danceability': track['danceability'],\n",
    "        'duration_ms': track['duration_ms'],\n",
    "        'energy': track['energy'],\n",
    "        'instrumentalness': track['instrumentalness'],\n",
    "        'key': track['key'],\n",
    "        'liveness': track['liveness'],\n",
    "        'loudness': track['loudness'],\n",
    "        'mode': track['mode'],\n",
    "        'speechiness': track['speechiness'],\n",
    "        'tempo': track['tempo'],\n",
    "        'time_signature': track['time_signature'],\n",
    "        'valence': track['valence'],\n",
    "        'song_title': song_title,\n",
    "        'artist': artist\n",
    "    }\n",
    "    tracks.append(track_data)\n",
    "\n",
    "# Create a Pandas dataframe from the list of tracks\n",
    "df_predict = pd.DataFrame(tracks)\n",
    "\n",
    "songs = copy.copy(df_predict)\n",
    "\n",
    "# Print the dataframe\n",
    "df_predict"
   ]
  },
  {
   "cell_type": "markdown",
   "metadata": {},
   "source": [
    "# Data Transformation"
   ]
  },
  {
   "cell_type": "code",
   "execution_count": 244,
   "metadata": {},
   "outputs": [],
   "source": [
    "# Handle unknown labels by assigning them to a special \"Unknown\" category\n",
    "df_predict['song_title'] = df_predict['song_title'].apply(lambda x: x if x in known_song_titles else 'Unknown')\n",
    "df_predict['artist'] = df_predict['artist'].apply(lambda x: x if x in known_artists else 'Unknown')\n",
    "\n",
    "# Label encoding for 'song_title' and 'artist'\n",
    "df_predict['song_title'] = le_song_title.transform(df_predict['song_title'])\n",
    "df_predict['artist'] = le_artist.transform(df_predict['artist'])"
   ]
  },
  {
   "cell_type": "code",
   "execution_count": 245,
   "metadata": {},
   "outputs": [
    {
     "data": {
      "text/html": [
       "<div>\n",
       "<style scoped>\n",
       "    .dataframe tbody tr th:only-of-type {\n",
       "        vertical-align: middle;\n",
       "    }\n",
       "\n",
       "    .dataframe tbody tr th {\n",
       "        vertical-align: top;\n",
       "    }\n",
       "\n",
       "    .dataframe thead th {\n",
       "        text-align: right;\n",
       "    }\n",
       "</style>\n",
       "<table border=\"1\" class=\"dataframe\">\n",
       "  <thead>\n",
       "    <tr style=\"text-align: right;\">\n",
       "      <th></th>\n",
       "      <th>danceability</th>\n",
       "      <th>duration_ms</th>\n",
       "      <th>energy</th>\n",
       "      <th>instrumentalness</th>\n",
       "      <th>key</th>\n",
       "      <th>liveness</th>\n",
       "      <th>mode</th>\n",
       "      <th>speechiness</th>\n",
       "      <th>tempo</th>\n",
       "      <th>time_signature</th>\n",
       "      <th>song_title</th>\n",
       "      <th>artist</th>\n",
       "    </tr>\n",
       "  </thead>\n",
       "  <tbody>\n",
       "    <tr>\n",
       "      <th>0</th>\n",
       "      <td>0.856</td>\n",
       "      <td>134782</td>\n",
       "      <td>0.656</td>\n",
       "      <td>0.000000</td>\n",
       "      <td>5</td>\n",
       "      <td>0.559</td>\n",
       "      <td>1</td>\n",
       "      <td>0.0752</td>\n",
       "      <td>133.927</td>\n",
       "      <td>4</td>\n",
       "      <td>1768</td>\n",
       "      <td>1252</td>\n",
       "    </tr>\n",
       "    <tr>\n",
       "      <th>1</th>\n",
       "      <td>0.694</td>\n",
       "      <td>175609</td>\n",
       "      <td>0.637</td>\n",
       "      <td>0.000010</td>\n",
       "      <td>9</td>\n",
       "      <td>0.123</td>\n",
       "      <td>1</td>\n",
       "      <td>0.0806</td>\n",
       "      <td>83.982</td>\n",
       "      <td>4</td>\n",
       "      <td>1768</td>\n",
       "      <td>1252</td>\n",
       "    </tr>\n",
       "    <tr>\n",
       "      <th>2</th>\n",
       "      <td>0.836</td>\n",
       "      <td>168849</td>\n",
       "      <td>0.459</td>\n",
       "      <td>0.003290</td>\n",
       "      <td>9</td>\n",
       "      <td>0.318</td>\n",
       "      <td>0</td>\n",
       "      <td>0.1130</td>\n",
       "      <td>91.983</td>\n",
       "      <td>4</td>\n",
       "      <td>1768</td>\n",
       "      <td>1252</td>\n",
       "    </tr>\n",
       "    <tr>\n",
       "      <th>3</th>\n",
       "      <td>0.547</td>\n",
       "      <td>206576</td>\n",
       "      <td>0.607</td>\n",
       "      <td>0.000012</td>\n",
       "      <td>3</td>\n",
       "      <td>0.120</td>\n",
       "      <td>1</td>\n",
       "      <td>0.0760</td>\n",
       "      <td>183.871</td>\n",
       "      <td>4</td>\n",
       "      <td>1768</td>\n",
       "      <td>1252</td>\n",
       "    </tr>\n",
       "    <tr>\n",
       "      <th>4</th>\n",
       "      <td>0.716</td>\n",
       "      <td>156992</td>\n",
       "      <td>0.530</td>\n",
       "      <td>0.000000</td>\n",
       "      <td>8</td>\n",
       "      <td>0.130</td>\n",
       "      <td>1</td>\n",
       "      <td>0.2180</td>\n",
       "      <td>93.024</td>\n",
       "      <td>4</td>\n",
       "      <td>1768</td>\n",
       "      <td>1252</td>\n",
       "    </tr>\n",
       "    <tr>\n",
       "      <th>...</th>\n",
       "      <td>...</td>\n",
       "      <td>...</td>\n",
       "      <td>...</td>\n",
       "      <td>...</td>\n",
       "      <td>...</td>\n",
       "      <td>...</td>\n",
       "      <td>...</td>\n",
       "      <td>...</td>\n",
       "      <td>...</td>\n",
       "      <td>...</td>\n",
       "      <td>...</td>\n",
       "      <td>...</td>\n",
       "    </tr>\n",
       "    <tr>\n",
       "      <th>93</th>\n",
       "      <td>0.751</td>\n",
       "      <td>194133</td>\n",
       "      <td>0.486</td>\n",
       "      <td>0.038000</td>\n",
       "      <td>1</td>\n",
       "      <td>0.108</td>\n",
       "      <td>1</td>\n",
       "      <td>0.0372</td>\n",
       "      <td>120.014</td>\n",
       "      <td>4</td>\n",
       "      <td>1768</td>\n",
       "      <td>1252</td>\n",
       "    </tr>\n",
       "    <tr>\n",
       "      <th>94</th>\n",
       "      <td>0.710</td>\n",
       "      <td>146484</td>\n",
       "      <td>0.831</td>\n",
       "      <td>0.005690</td>\n",
       "      <td>0</td>\n",
       "      <td>0.349</td>\n",
       "      <td>1</td>\n",
       "      <td>0.0299</td>\n",
       "      <td>129.021</td>\n",
       "      <td>4</td>\n",
       "      <td>1768</td>\n",
       "      <td>1252</td>\n",
       "    </tr>\n",
       "    <tr>\n",
       "      <th>95</th>\n",
       "      <td>0.710</td>\n",
       "      <td>177415</td>\n",
       "      <td>0.342</td>\n",
       "      <td>0.599000</td>\n",
       "      <td>6</td>\n",
       "      <td>0.139</td>\n",
       "      <td>1</td>\n",
       "      <td>0.0651</td>\n",
       "      <td>173.050</td>\n",
       "      <td>4</td>\n",
       "      <td>1768</td>\n",
       "      <td>1252</td>\n",
       "    </tr>\n",
       "    <tr>\n",
       "      <th>96</th>\n",
       "      <td>0.592</td>\n",
       "      <td>188143</td>\n",
       "      <td>0.733</td>\n",
       "      <td>0.201000</td>\n",
       "      <td>5</td>\n",
       "      <td>0.591</td>\n",
       "      <td>1</td>\n",
       "      <td>0.0544</td>\n",
       "      <td>104.977</td>\n",
       "      <td>4</td>\n",
       "      <td>1768</td>\n",
       "      <td>1252</td>\n",
       "    </tr>\n",
       "    <tr>\n",
       "      <th>97</th>\n",
       "      <td>0.698</td>\n",
       "      <td>251000</td>\n",
       "      <td>0.180</td>\n",
       "      <td>0.823000</td>\n",
       "      <td>2</td>\n",
       "      <td>0.159</td>\n",
       "      <td>1</td>\n",
       "      <td>0.0401</td>\n",
       "      <td>118.087</td>\n",
       "      <td>4</td>\n",
       "      <td>1768</td>\n",
       "      <td>1252</td>\n",
       "    </tr>\n",
       "  </tbody>\n",
       "</table>\n",
       "<p>98 rows × 12 columns</p>\n",
       "</div>"
      ],
      "text/plain": [
       "    danceability  duration_ms  energy  instrumentalness  key  liveness  mode  \\\n",
       "0          0.856       134782   0.656          0.000000    5     0.559     1   \n",
       "1          0.694       175609   0.637          0.000010    9     0.123     1   \n",
       "2          0.836       168849   0.459          0.003290    9     0.318     0   \n",
       "3          0.547       206576   0.607          0.000012    3     0.120     1   \n",
       "4          0.716       156992   0.530          0.000000    8     0.130     1   \n",
       "..           ...          ...     ...               ...  ...       ...   ...   \n",
       "93         0.751       194133   0.486          0.038000    1     0.108     1   \n",
       "94         0.710       146484   0.831          0.005690    0     0.349     1   \n",
       "95         0.710       177415   0.342          0.599000    6     0.139     1   \n",
       "96         0.592       188143   0.733          0.201000    5     0.591     1   \n",
       "97         0.698       251000   0.180          0.823000    2     0.159     1   \n",
       "\n",
       "    speechiness    tempo  time_signature  song_title  artist  \n",
       "0        0.0752  133.927               4        1768    1252  \n",
       "1        0.0806   83.982               4        1768    1252  \n",
       "2        0.1130   91.983               4        1768    1252  \n",
       "3        0.0760  183.871               4        1768    1252  \n",
       "4        0.2180   93.024               4        1768    1252  \n",
       "..          ...      ...             ...         ...     ...  \n",
       "93       0.0372  120.014               4        1768    1252  \n",
       "94       0.0299  129.021               4        1768    1252  \n",
       "95       0.0651  173.050               4        1768    1252  \n",
       "96       0.0544  104.977               4        1768    1252  \n",
       "97       0.0401  118.087               4        1768    1252  \n",
       "\n",
       "[98 rows x 12 columns]"
      ]
     },
     "execution_count": 245,
     "metadata": {},
     "output_type": "execute_result"
    }
   ],
   "source": [
    "#Drop Accousticness, Loudness, Valence\n",
    "df_predict = df_predict.drop(['acousticness','loudness','valence'], axis=1)\n",
    "df_predict"
   ]
  },
  {
   "cell_type": "code",
   "execution_count": 246,
   "metadata": {},
   "outputs": [
    {
     "data": {
      "text/html": [
       "<div>\n",
       "<style scoped>\n",
       "    .dataframe tbody tr th:only-of-type {\n",
       "        vertical-align: middle;\n",
       "    }\n",
       "\n",
       "    .dataframe tbody tr th {\n",
       "        vertical-align: top;\n",
       "    }\n",
       "\n",
       "    .dataframe thead th {\n",
       "        text-align: right;\n",
       "    }\n",
       "</style>\n",
       "<table border=\"1\" class=\"dataframe\">\n",
       "  <thead>\n",
       "    <tr style=\"text-align: right;\">\n",
       "      <th></th>\n",
       "      <th>danceability</th>\n",
       "      <th>duration_ms</th>\n",
       "      <th>energy</th>\n",
       "      <th>instrumentalness</th>\n",
       "      <th>key</th>\n",
       "      <th>liveness</th>\n",
       "      <th>mode</th>\n",
       "      <th>speechiness</th>\n",
       "      <th>tempo</th>\n",
       "      <th>time_signature</th>\n",
       "      <th>song_title</th>\n",
       "      <th>artist</th>\n",
       "    </tr>\n",
       "  </thead>\n",
       "  <tbody>\n",
       "    <tr>\n",
       "      <th>0</th>\n",
       "      <td>1.480070</td>\n",
       "      <td>-1.364227</td>\n",
       "      <td>-0.128615</td>\n",
       "      <td>-0.487360</td>\n",
       "      <td>5</td>\n",
       "      <td>2.376811</td>\n",
       "      <td>1</td>\n",
       "      <td>-0.194225</td>\n",
       "      <td>0.457764</td>\n",
       "      <td>4</td>\n",
       "      <td>1768</td>\n",
       "      <td>1252</td>\n",
       "    </tr>\n",
       "    <tr>\n",
       "      <th>1</th>\n",
       "      <td>0.471698</td>\n",
       "      <td>-0.861859</td>\n",
       "      <td>-0.219032</td>\n",
       "      <td>-0.487325</td>\n",
       "      <td>9</td>\n",
       "      <td>-0.433350</td>\n",
       "      <td>1</td>\n",
       "      <td>-0.133854</td>\n",
       "      <td>-1.412698</td>\n",
       "      <td>4</td>\n",
       "      <td>1768</td>\n",
       "      <td>1252</td>\n",
       "    </tr>\n",
       "    <tr>\n",
       "      <th>2</th>\n",
       "      <td>1.355580</td>\n",
       "      <td>-0.945039</td>\n",
       "      <td>-1.066099</td>\n",
       "      <td>-0.475300</td>\n",
       "      <td>9</td>\n",
       "      <td>0.823488</td>\n",
       "      <td>0</td>\n",
       "      <td>0.228378</td>\n",
       "      <td>-1.113057</td>\n",
       "      <td>4</td>\n",
       "      <td>1768</td>\n",
       "      <td>1252</td>\n",
       "    </tr>\n",
       "    <tr>\n",
       "      <th>3</th>\n",
       "      <td>-0.443307</td>\n",
       "      <td>-0.480816</td>\n",
       "      <td>-0.361797</td>\n",
       "      <td>-0.487318</td>\n",
       "      <td>3</td>\n",
       "      <td>-0.452686</td>\n",
       "      <td>1</td>\n",
       "      <td>-0.185281</td>\n",
       "      <td>2.328190</td>\n",
       "      <td>4</td>\n",
       "      <td>1768</td>\n",
       "      <td>1252</td>\n",
       "    </tr>\n",
       "    <tr>\n",
       "      <th>4</th>\n",
       "      <td>0.608637</td>\n",
       "      <td>-1.090937</td>\n",
       "      <td>-0.728224</td>\n",
       "      <td>-0.487360</td>\n",
       "      <td>8</td>\n",
       "      <td>-0.388233</td>\n",
       "      <td>1</td>\n",
       "      <td>1.402276</td>\n",
       "      <td>-1.074071</td>\n",
       "      <td>4</td>\n",
       "      <td>1768</td>\n",
       "      <td>1252</td>\n",
       "    </tr>\n",
       "    <tr>\n",
       "      <th>...</th>\n",
       "      <td>...</td>\n",
       "      <td>...</td>\n",
       "      <td>...</td>\n",
       "      <td>...</td>\n",
       "      <td>...</td>\n",
       "      <td>...</td>\n",
       "      <td>...</td>\n",
       "      <td>...</td>\n",
       "      <td>...</td>\n",
       "      <td>...</td>\n",
       "      <td>...</td>\n",
       "      <td>...</td>\n",
       "    </tr>\n",
       "    <tr>\n",
       "      <th>93</th>\n",
       "      <td>0.826495</td>\n",
       "      <td>-0.633924</td>\n",
       "      <td>-0.937612</td>\n",
       "      <td>-0.348063</td>\n",
       "      <td>1</td>\n",
       "      <td>-0.530030</td>\n",
       "      <td>1</td>\n",
       "      <td>-0.619065</td>\n",
       "      <td>-0.063284</td>\n",
       "      <td>4</td>\n",
       "      <td>1768</td>\n",
       "      <td>1252</td>\n",
       "    </tr>\n",
       "    <tr>\n",
       "      <th>94</th>\n",
       "      <td>0.571290</td>\n",
       "      <td>-1.220236</td>\n",
       "      <td>0.704175</td>\n",
       "      <td>-0.466503</td>\n",
       "      <td>0</td>\n",
       "      <td>1.023293</td>\n",
       "      <td>1</td>\n",
       "      <td>-0.700679</td>\n",
       "      <td>0.274033</td>\n",
       "      <td>4</td>\n",
       "      <td>1768</td>\n",
       "      <td>1252</td>\n",
       "    </tr>\n",
       "    <tr>\n",
       "      <th>95</th>\n",
       "      <td>0.571290</td>\n",
       "      <td>-0.839636</td>\n",
       "      <td>-1.622879</td>\n",
       "      <td>1.708405</td>\n",
       "      <td>6</td>\n",
       "      <td>-0.330225</td>\n",
       "      <td>1</td>\n",
       "      <td>-0.307143</td>\n",
       "      <td>1.922938</td>\n",
       "      <td>4</td>\n",
       "      <td>1768</td>\n",
       "      <td>1252</td>\n",
       "    </tr>\n",
       "    <tr>\n",
       "      <th>96</th>\n",
       "      <td>-0.163204</td>\n",
       "      <td>-0.707630</td>\n",
       "      <td>0.237813</td>\n",
       "      <td>0.249449</td>\n",
       "      <td>5</td>\n",
       "      <td>2.583061</td>\n",
       "      <td>1</td>\n",
       "      <td>-0.426769</td>\n",
       "      <td>-0.626426</td>\n",
       "      <td>4</td>\n",
       "      <td>1768</td>\n",
       "      <td>1252</td>\n",
       "    </tr>\n",
       "    <tr>\n",
       "      <th>97</th>\n",
       "      <td>0.496596</td>\n",
       "      <td>0.065813</td>\n",
       "      <td>-2.393806</td>\n",
       "      <td>2.529526</td>\n",
       "      <td>2</td>\n",
       "      <td>-0.201319</td>\n",
       "      <td>1</td>\n",
       "      <td>-0.586643</td>\n",
       "      <td>-0.135451</td>\n",
       "      <td>4</td>\n",
       "      <td>1768</td>\n",
       "      <td>1252</td>\n",
       "    </tr>\n",
       "  </tbody>\n",
       "</table>\n",
       "<p>98 rows × 12 columns</p>\n",
       "</div>"
      ],
      "text/plain": [
       "    danceability  duration_ms    energy  instrumentalness  key  liveness  \\\n",
       "0       1.480070    -1.364227 -0.128615         -0.487360    5  2.376811   \n",
       "1       0.471698    -0.861859 -0.219032         -0.487325    9 -0.433350   \n",
       "2       1.355580    -0.945039 -1.066099         -0.475300    9  0.823488   \n",
       "3      -0.443307    -0.480816 -0.361797         -0.487318    3 -0.452686   \n",
       "4       0.608637    -1.090937 -0.728224         -0.487360    8 -0.388233   \n",
       "..           ...          ...       ...               ...  ...       ...   \n",
       "93      0.826495    -0.633924 -0.937612         -0.348063    1 -0.530030   \n",
       "94      0.571290    -1.220236  0.704175         -0.466503    0  1.023293   \n",
       "95      0.571290    -0.839636 -1.622879          1.708405    6 -0.330225   \n",
       "96     -0.163204    -0.707630  0.237813          0.249449    5  2.583061   \n",
       "97      0.496596     0.065813 -2.393806          2.529526    2 -0.201319   \n",
       "\n",
       "    mode  speechiness     tempo  time_signature  song_title  artist  \n",
       "0      1    -0.194225  0.457764               4        1768    1252  \n",
       "1      1    -0.133854 -1.412698               4        1768    1252  \n",
       "2      0     0.228378 -1.113057               4        1768    1252  \n",
       "3      1    -0.185281  2.328190               4        1768    1252  \n",
       "4      1     1.402276 -1.074071               4        1768    1252  \n",
       "..   ...          ...       ...             ...         ...     ...  \n",
       "93     1    -0.619065 -0.063284               4        1768    1252  \n",
       "94     1    -0.700679  0.274033               4        1768    1252  \n",
       "95     1    -0.307143  1.922938               4        1768    1252  \n",
       "96     1    -0.426769 -0.626426               4        1768    1252  \n",
       "97     1    -0.586643 -0.135451               4        1768    1252  \n",
       "\n",
       "[98 rows x 12 columns]"
      ]
     },
     "execution_count": 246,
     "metadata": {},
     "output_type": "execute_result"
    }
   ],
   "source": [
    "# Load the saved scaler object\n",
    "scaler = joblib.load('standard_scaler.pkl')\n",
    "# Scaling\n",
    "columns_to_standardize = ['instrumentalness', 'danceability', 'duration_ms', 'energy', 'speechiness', 'liveness', 'tempo']\n",
    "df_predict[columns_to_standardize] = scaler.transform(df_predict[columns_to_standardize])\n",
    "#print\n",
    "df_predict"
   ]
  },
  {
   "cell_type": "markdown",
   "metadata": {},
   "source": [
    "#### Read model and Predict new data"
   ]
  },
  {
   "cell_type": "code",
   "execution_count": 247,
   "metadata": {},
   "outputs": [],
   "source": [
    "# Load the model from the file\n",
    "# with open('forestModel.pkl', 'rb') as file:\n",
    "# with open('lrModel.pkl', 'rb') as file:\n",
    "# with open('gnbModel.pkl', 'rb') as file:\n",
    "# with open('stackingModel.pkl', 'rb') as file:\n",
    "with open('xgb_Model.pkl', 'rb') as file:\n",
    "    newModel = pickle.load(file)\n",
    "\n",
    "# Make predictions on new data\n",
    "# X=df.drop('track_id',axis=True)\n",
    "X=df_predict\n",
    "predictions = newModel.predict(X)\n",
    "\n",
    "# predictions"
   ]
  },
  {
   "cell_type": "code",
   "execution_count": 248,
   "metadata": {},
   "outputs": [
    {
     "name": "stdout",
     "output_type": "stream",
     "text": [
      "Not Liked Songs Predicted: 84\n",
      "Liked Songs Predicted: 14\n"
     ]
    },
    {
     "data": {
      "text/html": [
       "<div>\n",
       "<style scoped>\n",
       "    .dataframe tbody tr th:only-of-type {\n",
       "        vertical-align: middle;\n",
       "    }\n",
       "\n",
       "    .dataframe tbody tr th {\n",
       "        vertical-align: top;\n",
       "    }\n",
       "\n",
       "    .dataframe thead th {\n",
       "        text-align: right;\n",
       "    }\n",
       "</style>\n",
       "<table border=\"1\" class=\"dataframe\">\n",
       "  <thead>\n",
       "    <tr style=\"text-align: right;\">\n",
       "      <th></th>\n",
       "      <th>song_title</th>\n",
       "      <th>artist</th>\n",
       "      <th>target</th>\n",
       "    </tr>\n",
       "  </thead>\n",
       "  <tbody>\n",
       "    <tr>\n",
       "      <th>0</th>\n",
       "      <td>Hotel</td>\n",
       "      <td>Claire Rosinkranz</td>\n",
       "      <td>0</td>\n",
       "    </tr>\n",
       "    <tr>\n",
       "      <th>1</th>\n",
       "      <td>forever&amp;more</td>\n",
       "      <td>ROLE MODEL</td>\n",
       "      <td>0</td>\n",
       "    </tr>\n",
       "    <tr>\n",
       "      <th>2</th>\n",
       "      <td>Darker Place</td>\n",
       "      <td>Rachel Chinouriri</td>\n",
       "      <td>1</td>\n",
       "    </tr>\n",
       "    <tr>\n",
       "      <th>3</th>\n",
       "      <td>Gravity</td>\n",
       "      <td>Molly Warburton</td>\n",
       "      <td>0</td>\n",
       "    </tr>\n",
       "    <tr>\n",
       "      <th>4</th>\n",
       "      <td>Rocketship</td>\n",
       "      <td>Llunr</td>\n",
       "      <td>1</td>\n",
       "    </tr>\n",
       "    <tr>\n",
       "      <th>...</th>\n",
       "      <td>...</td>\n",
       "      <td>...</td>\n",
       "      <td>...</td>\n",
       "    </tr>\n",
       "    <tr>\n",
       "      <th>93</th>\n",
       "      <td>Kenny</td>\n",
       "      <td>Still Woozy</td>\n",
       "      <td>0</td>\n",
       "    </tr>\n",
       "    <tr>\n",
       "      <th>94</th>\n",
       "      <td>Courtside</td>\n",
       "      <td>Tim Atlas</td>\n",
       "      <td>0</td>\n",
       "    </tr>\n",
       "    <tr>\n",
       "      <th>95</th>\n",
       "      <td>Drive Slow</td>\n",
       "      <td>Calica</td>\n",
       "      <td>0</td>\n",
       "    </tr>\n",
       "    <tr>\n",
       "      <th>96</th>\n",
       "      <td>FEEL LIKE</td>\n",
       "      <td>Josh Fudge</td>\n",
       "      <td>1</td>\n",
       "    </tr>\n",
       "    <tr>\n",
       "      <th>97</th>\n",
       "      <td>The Bells</td>\n",
       "      <td>Joe Vann</td>\n",
       "      <td>0</td>\n",
       "    </tr>\n",
       "  </tbody>\n",
       "</table>\n",
       "<p>98 rows × 3 columns</p>\n",
       "</div>"
      ],
      "text/plain": [
       "      song_title             artist  target\n",
       "0          Hotel  Claire Rosinkranz       0\n",
       "1   forever&more         ROLE MODEL       0\n",
       "2   Darker Place  Rachel Chinouriri       1\n",
       "3        Gravity    Molly Warburton       0\n",
       "4     Rocketship              Llunr       1\n",
       "..           ...                ...     ...\n",
       "93         Kenny        Still Woozy       0\n",
       "94     Courtside          Tim Atlas       0\n",
       "95    Drive Slow             Calica       0\n",
       "96     FEEL LIKE         Josh Fudge       1\n",
       "97     The Bells           Joe Vann       0\n",
       "\n",
       "[98 rows x 3 columns]"
      ]
     },
     "execution_count": 248,
     "metadata": {},
     "output_type": "execute_result"
    }
   ],
   "source": [
    "# Create dataframe with the song_title, artist, and predicted labels\n",
    "df_predictions = pd.DataFrame({\n",
    "    'song_title': songs['song_title'],\n",
    "    'artist': songs['artist'],\n",
    "    'target': predictions\n",
    "})\n",
    "\n",
    "count_0 = df_predictions['target'].value_counts()[0]\n",
    "count_1 = df_predictions['target'].value_counts()[1]\n",
    "\n",
    "\n",
    "# Print count and dataframe\n",
    "print('Not Liked Songs Predicted:', count_0)\n",
    "print('Liked Songs Predicted:', count_1)\n",
    "df_predictions"
   ]
  }
 ],
 "metadata": {
  "kernelspec": {
   "display_name": "base",
   "language": "python",
   "name": "python3"
  },
  "language_info": {
   "codemirror_mode": {
    "name": "ipython",
    "version": 3
   },
   "file_extension": ".py",
   "mimetype": "text/x-python",
   "name": "python",
   "nbconvert_exporter": "python",
   "pygments_lexer": "ipython3",
   "version": "3.9.13"
  },
  "orig_nbformat": 4
 },
 "nbformat": 4,
 "nbformat_minor": 2
}
