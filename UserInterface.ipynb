{
 "cells": [
  {
   "cell_type": "markdown",
   "metadata": {},
   "source": [
    "# User Interface"
   ]
  },
  {
   "cell_type": "code",
   "execution_count": 9,
   "metadata": {},
   "outputs": [],
   "source": [
    "from sklearn.preprocessing import LabelEncoder, StandardScaler\n",
    "from xgboost import XGBClassifier\n",
    "import pandas as pd\n",
    "import spotipy\n",
    "from spotipy.oauth2 import SpotifyClientCredentials\n",
    "import ipywidgets as widgets\n",
    "from IPython.display import display\n",
    "import joblib\n",
    "import pickle"
   ]
  },
  {
   "cell_type": "code",
   "execution_count": 10,
   "metadata": {},
   "outputs": [],
   "source": [
    "with open(\"known_song_titles.pkl\", \"rb\") as f:\n",
    "    known_song_titles = pickle.load(f)\n",
    "\n",
    "with open(\"known_artists.pkl\", \"rb\") as f:\n",
    "    known_artists = pickle.load(f)"
   ]
  },
  {
   "cell_type": "code",
   "execution_count": 11,
   "metadata": {},
   "outputs": [
    {
     "data": {
      "application/vnd.jupyter.widget-view+json": {
       "model_id": "66ef421895ec4b9cb0154c0329f8b8e2",
       "version_major": 2,
       "version_minor": 0
      },
      "text/plain": [
       "Text(value='', description='Spotify URL:')"
      ]
     },
     "metadata": {},
     "output_type": "display_data"
    },
    {
     "data": {
      "application/vnd.jupyter.widget-view+json": {
       "model_id": "d9273bd494d54a30a15c6c00e2d12914",
       "version_major": 2,
       "version_minor": 0
      },
      "text/plain": [
       "Button(description='Predict', style=ButtonStyle())"
      ]
     },
     "metadata": {},
     "output_type": "display_data"
    },
    {
     "data": {
      "application/vnd.jupyter.widget-view+json": {
       "model_id": "5c6c1c27dba6476e8b88bf7ba8518fc6",
       "version_major": 2,
       "version_minor": 0
      },
      "text/plain": [
       "Output()"
      ]
     },
     "metadata": {},
     "output_type": "display_data"
    }
   ],
   "source": [
    "\n",
    "# Load the fitted objects and model\n",
    "le_song_title = joblib.load('label_encoder_song_title.pkl')\n",
    "le_artist = joblib.load('label_encoder_artist.pkl')\n",
    "scaler = joblib.load('standard_scaler.pkl')\n",
    "xgb = joblib.load('xgb_Model.pkl')\n",
    "\n",
    "# Spotify API setup\n",
    "client_id = '6291dd76ffb744299366b81b9cddfe5c'\n",
    "client_secret = '14e1d9b1399a4d8e8ea34e09717b4815'\n",
    "client_credentials_manager = SpotifyClientCredentials(client_id=client_id, client_secret=client_secret)\n",
    "sp = spotipy.Spotify(client_credentials_manager=client_credentials_manager)\n",
    "\n",
    "# Input Widget for Spotify track URL\n",
    "spotify_url = widgets.Text(description='Spotify URL:')\n",
    "\n",
    "# Action Button\n",
    "btn_predict = widgets.Button(description='Predict')\n",
    "\n",
    "# Output Area\n",
    "output = widgets.Output()\n",
    "\n",
    "# Button click event\n",
    "def on_button_click(b):\n",
    "    with output:\n",
    "        output.clear_output()\n",
    "        \n",
    "        # Extract track ID from Spotify URL\n",
    "        track_id = spotify_url.value.split('/')[-1].split('?')[0]\n",
    "        \n",
    "        # Get track features and info\n",
    "        track = sp.audio_features(track_id)[0]\n",
    "        track_info = sp.track(track_id)\n",
    "\n",
    "        # Create DataFrame from track features\n",
    "        df = pd.DataFrame([{\n",
    "            'danceability': track['danceability'],\n",
    "            'duration_ms': track['duration_ms'],\n",
    "            'energy': track['energy'],\n",
    "            'instrumentalness': track['instrumentalness'],\n",
    "            'key': track['key'],\n",
    "            'liveness': track['liveness'],\n",
    "            'mode': track['mode'],\n",
    "            'speechiness': track['speechiness'],\n",
    "            'tempo': track['tempo'],\n",
    "            'time_signature': track['time_signature'],\n",
    "            'song_title': track_info['name'],\n",
    "            'artist': track_info['artists'][0]['name']\n",
    "        }])\n",
    "\n",
    "        # Feature selection\n",
    "        df.drop(['acousticness', 'loudness', 'valence'], axis=1, inplace=True, errors='ignore')\n",
    "\n",
    "        # Handle unknown labels by assigning them to a special \"Unknown\" category\n",
    "        df['song_title'] = df['song_title'].apply(lambda x: x if x in known_song_titles else 'Unknown')\n",
    "        df['artist'] = df['artist'].apply(lambda x: x if x in known_artists else 'Unknown')\n",
    "\n",
    "        # Label encoding for 'song_title' and 'artist'\n",
    "        df['song_title'] = le_song_title.transform(df['song_title'])\n",
    "        df['artist'] = le_artist.transform(df['artist'])\n",
    "\n",
    "        # Scaling\n",
    "        columns_to_standardize = ['instrumentalness', 'danceability', 'duration_ms', 'energy', 'speechiness', 'liveness', 'tempo']\n",
    "        df[columns_to_standardize] = scaler.transform(df[columns_to_standardize])\n",
    "\n",
    "        # Make prediction\n",
    "        prediction = xgb.predict(df)\n",
    "\n",
    "        # Display the prediction and track info\n",
    "        print(f\"Title: {track_info['name']}\")\n",
    "        print(f\"Artist: {track_info['artists'][0]['name']}\")\n",
    "        \n",
    "        # Display Post-Processing Features\n",
    "        print(\"Post-Processed Features:\")\n",
    "        display(df)  # Using IPython's display function to pretty-print the DataFrame\n",
    "\n",
    "        # Display Prediction with Visual Indication\n",
    "        if prediction == 1:\n",
    "            print(\"\\033[92m Predicted Result: 1 \\033[0m\")  # Green for \"1\"\n",
    "        else:\n",
    "            print(\"\\033[91m Predicted Result: 0 \\033[0m\")  # Red for \"0\"\n",
    "\n",
    "# Bind button click event to function\n",
    "btn_predict.on_click(on_button_click)\n",
    "\n",
    "# Display widgets\n",
    "display(spotify_url, btn_predict, output)"
   ]
  },
  {
   "cell_type": "code",
   "execution_count": 13,
   "metadata": {},
   "outputs": [],
   "source": [
    "#pip install streamlit"
   ]
  }
 ],
 "metadata": {
  "kernelspec": {
   "display_name": "base",
   "language": "python",
   "name": "python3"
  },
  "language_info": {
   "codemirror_mode": {
    "name": "ipython",
    "version": 3
   },
   "file_extension": ".py",
   "mimetype": "text/x-python",
   "name": "python",
   "nbconvert_exporter": "python",
   "pygments_lexer": "ipython3",
   "version": "3.9.13"
  },
  "orig_nbformat": 4
 },
 "nbformat": 4,
 "nbformat_minor": 2
}
